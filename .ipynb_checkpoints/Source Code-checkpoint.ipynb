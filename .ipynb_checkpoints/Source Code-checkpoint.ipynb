{
 "cells": [
  {
   "cell_type": "markdown",
   "metadata": {},
   "source": [
    "<font size=7 color=\"magenta\">Analyzing Spikes"
   ]
  },
  {
   "cell_type": "markdown",
   "metadata": {},
   "source": [
    "In this notebook we analyze ephysiological data to find spikes on the latest hardware developed by kate."
   ]
  },
  {
   "cell_type": "markdown",
   "metadata": {},
   "source": [
    "## <font color=\"grey\"> Import Packages"
   ]
  },
  {
   "cell_type": "markdown",
   "metadata": {},
   "source": [
    "Import packages for data analys"
   ]
  },
  {
   "cell_type": "code",
   "execution_count": 1,
   "metadata": {},
   "outputs": [],
   "source": [
    "# libraries and data\n",
    "import matplotlib.pyplot as plt"
   ]
  },
  {
   "cell_type": "code",
   "execution_count": 2,
   "metadata": {},
   "outputs": [],
   "source": [
    "import random\n",
    "import os \n",
    "import pandas as pd\n",
    "import plotly.express as px\n",
    "import plotly.graph_objects as go\n",
    "import numpy as np\n",
    "import matplotlib.pyplot as plt\n",
    "\n",
    "\n",
    "import braingeneers\n",
    "from braingeneers import datasets_electrophysiology as ephys"
   ]
  },
  {
   "cell_type": "markdown",
   "metadata": {},
   "source": [
    "Import packages for <font color=\"green\">widget interface"
   ]
  },
  {
   "cell_type": "code",
   "execution_count": 3,
   "metadata": {},
   "outputs": [],
   "source": [
    "from ipywidgets import interact, interactive, fixed, interact_manual\n",
    "import ipywidgets as ipw\n",
    "import ipywidgets as widgets\n",
    "from IPython.core.display import HTML, display, Javascript, clear_output"
   ]
  },
  {
   "cell_type": "markdown",
   "metadata": {},
   "source": [
    "## Spike's Class"
   ]
  },
  {
   "cell_type": "code",
   "execution_count": 4,
   "metadata": {},
   "outputs": [],
   "source": [
    "Spike = type('Spike', (object,), {})()"
   ]
  },
  {
   "cell_type": "markdown",
   "metadata": {},
   "source": [
    "# <font color=\"blue\">Import Data and Plot"
   ]
  },
  {
   "cell_type": "markdown",
   "metadata": {},
   "source": [
    "This section contains the code kate wrote for making the plot"
   ]
  },
  {
   "cell_type": "markdown",
   "metadata": {},
   "source": [
    "## <font color=\"blue\">simplePlot <small> Function to plot data with plotly"
   ]
  },
  {
   "cell_type": "code",
   "execution_count": 5,
   "metadata": {},
   "outputs": [],
   "source": [
    "def simplePlot(plotx, ploty):\n",
    "    # Create traces\n",
    "    fig = go.Figure()\n",
    "    fig.add_trace(go.Scatter(x=plotx, y=ploty, mode='lines', name='lines+markers'))\n",
    "\n",
    "    fig.update_layout(\n",
    "        title=\"Plot\" ,\n",
    "        xaxis_title= \"time\",\n",
    "        yaxis_title=\"Voltage in microvolts (uV)\",\n",
    "        font=dict(\n",
    "            #family=\"Courier New, monospace\",\n",
    "            size=10,\n",
    "            color=\"#7f7f7f\"\n",
    "        )\n",
    "    )\n",
    "    \n",
    "    fig.show()\n",
    "    return\n",
    "\n",
    "\n",
    "def mPlot(plotx, ploty):\n",
    "    plt.plot(plotx, ploty)\n",
    "    #plt.setp(lines, color='r', linewidth=2.0)\n",
    "    plt.ylabel('Voltage in microvolts (uV)')\n",
    "    plt.xlabel('time (ms)')\n",
    "    plt.show()\n",
    "    return\n",
    "    "
   ]
  },
  {
   "cell_type": "markdown",
   "metadata": {},
   "source": [
    "# <font color=\"orange\"> Basic Plot Interface "
   ]
  },
  {
   "cell_type": "markdown",
   "metadata": {},
   "source": [
    "## <font color=\"orange\">Get Data "
   ]
  },
  {
   "cell_type": "markdown",
   "metadata": {},
   "source": [
    "### <font color=\"green\"> Widgets <small>suggest by Elliott"
   ]
  },
  {
   "cell_type": "markdown",
   "metadata": {},
   "source": [
    "Get file name. This is the `batch_uuid` in <font color=\"blue\">kates code"
   ]
  },
  {
   "cell_type": "code",
   "execution_count": 6,
   "metadata": {},
   "outputs": [
    {
     "data": {
      "application/vnd.jupyter.widget-view+json": {
       "model_id": "1ac75bf8147a4352b4401906ce6259fb",
       "version_major": 2,
       "version_minor": 0
      },
      "text/plain": [
       "Text(value='', description='File name')"
      ]
     },
     "metadata": {},
     "output_type": "display_data"
    }
   ],
   "source": [
    "w_batch_uuid =  ipw.Text(description=\"File name\")\n",
    "w_batch_uuid "
   ]
  },
  {
   "cell_type": "markdown",
   "metadata": {},
   "source": [
    "Get experiment number. Use textbox or slider "
   ]
  },
  {
   "cell_type": "code",
   "execution_count": 7,
   "metadata": {},
   "outputs": [
    {
     "data": {
      "application/vnd.jupyter.widget-view+json": {
       "model_id": "266f1f00513544cd9b59ccf0f73922e4",
       "version_major": 2,
       "version_minor": 0
      },
      "text/plain": [
       "BoundedIntText(value=0, description='Experiment:')"
      ]
     },
     "metadata": {},
     "output_type": "display_data"
    }
   ],
   "source": [
    "w_experiment_num = ipw.BoundedIntText(description=\"Experiment:\")\n",
    "w_experiment_num"
   ]
  },
  {
   "cell_type": "markdown",
   "metadata": {},
   "source": [
    "Use button to get data"
   ]
  },
  {
   "cell_type": "code",
   "execution_count": 8,
   "metadata": {},
   "outputs": [
    {
     "data": {
      "application/vnd.jupyter.widget-view+json": {
       "model_id": "633d88161f8943eda39a46c45f1c0cab",
       "version_major": 2,
       "version_minor": 0
      },
      "text/plain": [
       "Button(description='Get Data', style=ButtonStyle())"
      ]
     },
     "metadata": {},
     "output_type": "display_data"
    }
   ],
   "source": [
    "w_data_btn = ipw.Button(description=\"Get Data\")\n",
    "w_data_btn "
   ]
  },
  {
   "cell_type": "markdown",
   "metadata": {},
   "source": [
    "Have a message appear when data is retrieved"
   ]
  },
  {
   "cell_type": "code",
   "execution_count": 9,
   "metadata": {},
   "outputs": [
    {
     "data": {
      "application/vnd.jupyter.widget-view+json": {
       "model_id": "ef5392369c2d4fabb085c497d3f1daa8",
       "version_major": 2,
       "version_minor": 0
      },
      "text/plain": [
       "Valid(value=True, layout=Layout(visibility='hidden'))"
      ]
     },
     "metadata": {},
     "output_type": "display_data"
    }
   ],
   "source": [
    "getdata_valid = ipw.Valid(True)\n",
    "getdata_valid\n",
    "getdata_valid.layout.visibility = \"hidden\"\n",
    "getdata_valid"
   ]
  },
  {
   "cell_type": "markdown",
   "metadata": {},
   "source": [
    "<font color=\"orange\">Check out the notebook `Welcome to WetAI .ipynb` on the homescreen for an example on how to use this widget."
   ]
  },
  {
   "cell_type": "markdown",
   "metadata": {},
   "source": [
    "### <font color=\"orchid\">Widget Box</font> "
   ]
  },
  {
   "cell_type": "code",
   "execution_count": 10,
   "metadata": {},
   "outputs": [],
   "source": [
    "from ipywidgets import HBox, VBox"
   ]
  },
  {
   "cell_type": "code",
   "execution_count": 11,
   "metadata": {},
   "outputs": [
    {
     "data": {
      "application/vnd.jupyter.widget-view+json": {
       "model_id": "563812f3e1694acfae62a47ad4d68ad4",
       "version_major": 2,
       "version_minor": 0
      },
      "text/plain": [
       "HBox(children=(Button(description='Get Data', style=ButtonStyle()), Valid(value=True, layout=Layout(visibility…"
      ]
     },
     "metadata": {},
     "output_type": "display_data"
    }
   ],
   "source": [
    "getdata_row = HBox([ w_data_btn, getdata_valid] )\n",
    "getdata_row"
   ]
  },
  {
   "cell_type": "code",
   "execution_count": 12,
   "metadata": {},
   "outputs": [
    {
     "data": {
      "application/vnd.jupyter.widget-view+json": {
       "model_id": "66bd9a8c3d744fc9b9a14e56ea0b200d",
       "version_major": 2,
       "version_minor": 0
      },
      "text/plain": [
       "VBox(children=(Text(value='', description='File name'), BoundedIntText(value=0, description='Experiment:'), HB…"
      ]
     },
     "metadata": {},
     "output_type": "display_data"
    }
   ],
   "source": [
    "getData = VBox([ w_batch_uuid, w_experiment_num, getdata_row]) \n",
    "getData"
   ]
  },
  {
   "cell_type": "code",
   "execution_count": 13,
   "metadata": {},
   "outputs": [],
   "source": [
    "def GetData(a):\n",
    "    #if w_batch_uuid.value == \"2020-11-05-e-UCSF-axionplate\":\n",
    "        #return ephys.load_experiment(w_batch_uuid.value, w_experiment_num.value)\n",
    "    try:\n",
    "        print(ephys.load_experiment(w_batch_uuid.value, w_experiment_num.value))\n",
    "        Spike.X, Spike.t, Spike.fs = ephys.load_blocks(w_batch_uuid.value, w_experiment_num.value, start=0, stop=None)\n",
    "    except:\n",
    "        print(\"File Not Found\")\n",
    "    print(\"Finished\")\n",
    "\n",
    "w_data_btn.on_click( GetData )"
   ]
  },
  {
   "cell_type": "markdown",
   "metadata": {},
   "source": [
    "## <font color=\"orange\">Make Plot\n",
    "\n",
    "In this section you create the interface that creates the plot. "
   ]
  },
  {
   "cell_type": "markdown",
   "metadata": {},
   "source": [
    "### <font color=\"green\"> Widgets <small>suggest by Elliott"
   ]
  },
  {
   "cell_type": "markdown",
   "metadata": {},
   "source": [
    "Use a range slide to select the range of datapoint you would like to plot"
   ]
  },
  {
   "cell_type": "code",
   "execution_count": 14,
   "metadata": {},
   "outputs": [
    {
     "data": {
      "application/vnd.jupyter.widget-view+json": {
       "model_id": "562174f3b8fd468585c72388fd3c7bed",
       "version_major": 2,
       "version_minor": 0
      },
      "text/plain": [
       "IntRangeSlider(value=(25, 75))"
      ]
     },
     "metadata": {},
     "output_type": "display_data"
    }
   ],
   "source": [
    "ipw.IntRangeSlider()"
   ]
  },
  {
   "cell_type": "markdown",
   "metadata": {},
   "source": [
    "Use a button to plot the data depending on the range."
   ]
  },
  {
   "cell_type": "code",
   "execution_count": 15,
   "metadata": {},
   "outputs": [
    {
     "data": {
      "application/vnd.jupyter.widget-view+json": {
       "model_id": "ec155452dd8444d1996fc71d23d70486",
       "version_major": 2,
       "version_minor": 0
      },
      "text/plain": [
       "Button(description='Plot', style=ButtonStyle())"
      ]
     },
     "metadata": {},
     "output_type": "display_data"
    }
   ],
   "source": [
    "w_plot_btn = ipw.Button(description=\"Plot\")\n",
    "w_plot_btn "
   ]
  },
  {
   "cell_type": "code",
   "execution_count": 16,
   "metadata": {},
   "outputs": [
    {
     "data": {
      "application/vnd.jupyter.widget-view+json": {
       "model_id": "3e8a4d10541f4ce08158e314922ba6b7",
       "version_major": 2,
       "version_minor": 0
      },
      "text/plain": [
       "Button(icon='arrow-left', layout=Layout(width='auto'), style=ButtonStyle())"
      ]
     },
     "metadata": {},
     "output_type": "display_data"
    }
   ],
   "source": [
    "w_left_button = ipw.Button(icon = \"arrow-left\", layout = ipw.Layout(width= \"auto\") )#, disabled = False)\n",
    "w_left_button"
   ]
  },
  {
   "cell_type": "code",
   "execution_count": 17,
   "metadata": {},
   "outputs": [
    {
     "data": {
      "application/vnd.jupyter.widget-view+json": {
       "model_id": "5af69fe2d0da4d81ba04d0759c3b5fb4",
       "version_major": 2,
       "version_minor": 0
      },
      "text/plain": [
       "Button(icon='arrow-right', layout=Layout(width='auto'), style=ButtonStyle())"
      ]
     },
     "metadata": {},
     "output_type": "display_data"
    }
   ],
   "source": [
    "w_right_button = ipw.Button(icon = \"arrow-right\", layout = ipw.Layout(width= \"auto\") )#, disabled = False)\n",
    "w_right_button"
   ]
  },
  {
   "cell_type": "markdown",
   "metadata": {},
   "source": [
    "<font color=\"red\"> As an extra challenge you coudl make thins interface **dynamic**. When you manipulate a parameter the graph automatically changes. Do not use the `@interface` function. It is too limiting. Instead test the `oberserve` function "
   ]
  },
  {
   "cell_type": "code",
   "execution_count": 18,
   "metadata": {},
   "outputs": [],
   "source": [
    "#w_channels = ipw.BoundedIntText(description = \"Channels:\")"
   ]
  },
  {
   "cell_type": "code",
   "execution_count": 19,
   "metadata": {},
   "outputs": [
    {
     "data": {
      "application/vnd.jupyter.widget-view+json": {
       "model_id": "a0c2842178be40c3aa0d4ef929eb2b06",
       "version_major": 2,
       "version_minor": 0
      },
      "text/plain": [
       "SelectMultiple(description='Channels', index=(0,), options=('1', '2', '3', '4', '5', '6', '7', '8', '9', '10',…"
      ]
     },
     "metadata": {},
     "output_type": "display_data"
    }
   ],
   "source": [
    "w_channels = widgets.SelectMultiple(\n",
    "    options=['1', '2' , '3' , '4' , '5' , '6' , '7' , '8' , '9' , '10' , '11' , '12' , '13' , '14'\n",
    "             , '15' , '16' , '17' , '18' , '19' , '20' , '21' , '22' , '23' , '24' , '25' , '26' , '27' , '28' , '29' , '30' , '31' , '32'],\n",
    "    value=['1',],   \n",
    "    #rows=10,\n",
    "    description='Channels',\n",
    "    disabled=False\n",
    ")\n",
    "w_channels"
   ]
  },
  {
   "cell_type": "code",
   "execution_count": 20,
   "metadata": {},
   "outputs": [
    {
     "data": {
      "text/plain": [
       "('1',)"
      ]
     },
     "execution_count": 20,
     "metadata": {},
     "output_type": "execute_result"
    }
   ],
   "source": [
    "w_channels.value"
   ]
  },
  {
   "cell_type": "markdown",
   "metadata": {},
   "source": [
    "### <font color=\"orchid\">Widget Box</font> "
   ]
  },
  {
   "cell_type": "code",
   "execution_count": 21,
   "metadata": {},
   "outputs": [],
   "source": [
    "#X, t, fs = ephys.load_blocks(w_batch_uuid.value, w_experiment_num.value, start=0, stop=None)"
   ]
  },
  {
   "cell_type": "code",
   "execution_count": 22,
   "metadata": {},
   "outputs": [],
   "source": [
    "try:\n",
    "    w_rangeoftime = ipw.IntRangeSlider(description= \"Time Interval\", min = 0, max = len(Spike.t))\n",
    "except:\n",
    "    w_rangeoftime = ipw.IntRangeSlider(description= \"Time Interval\", min = 0, max = 50000)"
   ]
  },
  {
   "cell_type": "code",
   "execution_count": 23,
   "metadata": {},
   "outputs": [],
   "source": [
    "w_channels2 = widgets.SelectMultiple(\n",
    "    options=['1', '2' , '3' , '4' , '5' , '6' , '7' , '8' , '9' , '10' , '11' , '12' , '13' , '14'\n",
    "             , '15' , '16' , '17' , '18' , '19' , '20' , '21' , '22' , '23' , '24' , '25' , '26' , '27' , '28' , '29' , '30' , '31' , '32'],\n",
    "    value=['1',],   \n",
    "    #rows=10,\n",
    "    description='Channels',\n",
    "    disabled=False\n",
    ")"
   ]
  },
  {
   "cell_type": "code",
   "execution_count": 24,
   "metadata": {},
   "outputs": [
    {
     "data": {
      "application/vnd.jupyter.widget-view+json": {
       "model_id": "0c9455ee7b3b46b2b13109629ddf5288",
       "version_major": 2,
       "version_minor": 0
      },
      "text/plain": [
       "VBox(children=(IntRangeSlider(value=(12500, 37500), description='Time Interval', max=50000), SelectMultiple(de…"
      ]
     },
     "metadata": {},
     "output_type": "display_data"
    }
   ],
   "source": [
    "makePlot = VBox([ w_rangeoftime, w_channels2, ipw.HBox([w_left_button,w_plot_btn,w_right_button])]) \n",
    "makePlot"
   ]
  },
  {
   "cell_type": "code",
   "execution_count": 25,
   "metadata": {
    "code_folding": []
   },
   "outputs": [],
   "source": [
    "#def plot(a):\n",
    "   # clear_output()\n",
    "    #display(makePlot)\n",
    "    #try:\n",
    "       # timerange = range(w_rangeoftime.value[0],w_rangeoftime.value[1], 50)\n",
    "        #return mPlot(Spike.t[timerange], Spike.X[:,w_channels.value][timerange])\n",
    "   # except:\n",
    "        #print(\"Data not Found, first get Data\")\n",
    "#w_channels.value"
   ]
  },
  {
   "cell_type": "code",
   "execution_count": 26,
   "metadata": {},
   "outputs": [],
   "source": [
    "def plot(a):\n",
    "    clear_output()\n",
    "    display(makePlot)\n",
    "    try:\n",
    "        timerange = range(w_rangeoftime.value[0],w_rangeoftime.value[1], 50)\n",
    "        \n",
    "        plt.style.use('default')\n",
    "        my_dpi=96\n",
    "        plt.figure(figsize=(1000/my_dpi, 1000/my_dpi), dpi=my_dpi)\n",
    "\n",
    "        for i in w_channels2.value: \n",
    "            plt.plot(Spike.t[timerange], Spike.X[:,(int(i)-1)][timerange], label = ('Channel ' + i), alpha = 0.4)\n",
    "\n",
    "        plt.ylabel('Voltage in microvolts (uV)')\n",
    "        plt.xlabel('time (ms)')\n",
    "        plt.legend()\n",
    "        plt.show()\n",
    "    except:\n",
    "        print(\"Data not Found, first get Data\")"
   ]
  },
  {
   "cell_type": "code",
   "execution_count": 27,
   "metadata": {},
   "outputs": [],
   "source": [
    "w_plot_btn.on_click(plot)"
   ]
  },
  {
   "cell_type": "markdown",
   "metadata": {
    "heading_collapsed": true
   },
   "source": [
    "# Display Multiple Channels"
   ]
  },
  {
   "cell_type": "code",
   "execution_count": 28,
   "metadata": {
    "hidden": true
   },
   "outputs": [],
   "source": [
    "#display(getData)"
   ]
  },
  {
   "cell_type": "code",
   "execution_count": 29,
   "metadata": {
    "hidden": true
   },
   "outputs": [],
   "source": [
    "#w_channels = widgets.SelectMultiple(\n",
    "    #options=['1', '2' , '3' , '4' , '5' , '6' , '7' , '8' , '9' , '10' , '11' , '12' , '13' , '14'\n",
    "             #, '15' , '16' , '17' , '18' , '19' , '20' , '21' , '22' , '23' , '24' , '25' , '26' , '27' , '28' , '29' , '30' , '31' , '32'],\n",
    "    #value=['1'],   \n",
    "    #rows=10,\n",
    "    #description='Channels',\n",
    "    #disabled=False\n",
    "#)"
   ]
  },
  {
   "cell_type": "code",
   "execution_count": 30,
   "metadata": {
    "hidden": true
   },
   "outputs": [],
   "source": [
    "#w_channels.value "
   ]
  },
  {
   "cell_type": "code",
   "execution_count": 31,
   "metadata": {
    "hidden": true
   },
   "outputs": [
    {
     "data": {
      "application/vnd.jupyter.widget-view+json": {
       "model_id": "22994c30a30c41678a7a644d139a4303",
       "version_major": 2,
       "version_minor": 0
      },
      "text/plain": [
       "SelectMultiple(description='Fruits', index=(1,), options=('Apples', 'Oranges', 'Pears'), value=('Oranges',))"
      ]
     },
     "metadata": {},
     "output_type": "display_data"
    }
   ],
   "source": [
    "fruits = widgets.SelectMultiple(\n",
    "    options=['Apples', 'Oranges', 'Pears'],\n",
    "    value=['Oranges'],\n",
    "    #rows=10,\n",
    "    description='Fruits',\n",
    "    disabled=False\n",
    ")\n",
    "fruits"
   ]
  },
  {
   "cell_type": "code",
   "execution_count": 32,
   "metadata": {
    "hidden": true
   },
   "outputs": [
    {
     "data": {
      "text/plain": [
       "('Oranges',)"
      ]
     },
     "execution_count": 32,
     "metadata": {},
     "output_type": "execute_result"
    }
   ],
   "source": [
    "fruits.value"
   ]
  },
  {
   "cell_type": "markdown",
   "metadata": {
    "hidden": true
   },
   "source": [
    "## <font color=\"brown\">Scratch Paper"
   ]
  },
  {
   "cell_type": "code",
   "execution_count": 33,
   "metadata": {
    "hidden": true
   },
   "outputs": [],
   "source": [
    "\n",
    "#timerange = range(w_rangeoftime.value[0],w_rangeoftime.value[1], 50)\n",
    "        \n",
    "#plt.style.use('seaborn-darkgrid')\n",
    "#my_dpi=96\n",
    "#plt.figure(figsize=(480/my_dpi, 480/my_dpi), dpi=my_dpi)\n",
    "\n",
    "#for i in w_channels.value: \n",
    "    #plt.plot(Spike.t[timerange], Spike.X[:,(int(i)-1)][timerange], label = ('Channel ' + i), alpha = 0.4)\n",
    "\n",
    "#plt.ylabel('Voltage in microvolts (uV)')\n",
    "#plt.xlabel('time (ms)')\n",
    "#plt.legend(bbox_to_anchor=(1.05, 1.0), loc='upper left')\n",
    "#plt.show()"
   ]
  },
  {
   "cell_type": "code",
   "execution_count": 34,
   "metadata": {
    "hidden": true
   },
   "outputs": [],
   "source": [
    "\n",
    " \n",
    "# Make a data frame\n",
    "#df=pd.DataFrame({'x': range(1,11), 'y1': np.random.randn(10), 'y2': np.random.randn(10)+range(1,11), 'y3': np.random.randn(10)+range(11,21), 'y4': np.random.randn(10)+range(6,16), 'y5': np.random.randn(10)+range(4,14)+(0,0,0,0,0,0,0,-3,-8,-6), 'y6': np.random.randn(10)+range(2,12), 'y7': np.random.randn(10)+range(5,15), 'y8': np.random.randn(10)+range(4,14) })\n",
    " \n",
    "#plt.style.use('fivethirtyeight')\n",
    "#plt.style.use('seaborn-darkgrid')\n",
    "#my_dpi=96\n",
    "#plt.figure(figsize=(480/my_dpi, 480/my_dpi), dpi=my_dpi)"
   ]
  },
  {
   "cell_type": "code",
   "execution_count": 35,
   "metadata": {
    "hidden": true
   },
   "outputs": [],
   "source": [
    " \n",
    "# multiple line plot\n",
    "#for column in df.drop('x', axis=1):\n",
    "#   plt.plot(df['x'], df[column], marker='', color='grey', linewidth=1, alpha=0.4)\n",
    " \n",
    "# Now re do the interesting curve, but biger with distinct color\n",
    "#plt.plot(df['x'], df['y5'], marker='', color='orange', linewidth=4, alpha=0.7)\n",
    " \n",
    "# Change xlim\n",
    "#plt.xlim(0,12)\n",
    " \n",
    "# Let's annotate the plot\n",
    "#num=0\n",
    "#for i in df.values[9][1:]:\n",
    "#   num+=1 \n",
    "#   name=list(df)[num]\n",
    " #  if name != 'y5':\n",
    "#      plt.text(10.2, i, name, horizontalalignment='left', size='small', color='grey')\n",
    " \n",
    "# And add a special annotation for the group we are interested in\n",
    "#plt.text(10.2, df.y5.tail(1), 'Mr Orange', horizontalalignment='left', size='small', color='orange')\n",
    " \n",
    "# Add titles\n",
    "#plt.title(\"Evolution of Mr Orange vs other students\", loc='left', fontsize=12, fontweight=0, color='orange')\n",
    "#plt.xlabel(\"Time\")\n",
    "#plt.ylabel(\"Score\")"
   ]
  },
  {
   "cell_type": "markdown",
   "metadata": {},
   "source": [
    "# Display Mover "
   ]
  },
  {
   "cell_type": "markdown",
   "metadata": {},
   "source": [
    "## <font color=\"green\">Add Widgets"
   ]
  },
  {
   "cell_type": "markdown",
   "metadata": {},
   "source": [
    "<font color=\"red\"> Add a \"left\" and \"right\" button"
   ]
  },
  {
   "cell_type": "markdown",
   "metadata": {},
   "source": [
    "## <font color=\"orchid\">Widget Box"
   ]
  },
  {
   "cell_type": "code",
   "execution_count": 36,
   "metadata": {},
   "outputs": [
    {
     "data": {
      "application/vnd.jupyter.widget-view+json": {
       "model_id": "94a228014f554c5ea519da7fa8b72ab3",
       "version_major": 2,
       "version_minor": 0
      },
      "text/plain": [
       "HBox(children=(Button(icon='arrow-left', layout=Layout(width='auto'), style=ButtonStyle()), Button(description…"
      ]
     },
     "metadata": {},
     "output_type": "display_data"
    }
   ],
   "source": [
    "ipw.HBox([w_left_button,w_plot_btn,w_right_button])"
   ]
  },
  {
   "cell_type": "markdown",
   "metadata": {},
   "source": [
    "## <font color=\"blue\">Mover Function"
   ]
  },
  {
   "cell_type": "markdown",
   "metadata": {},
   "source": [
    "<font color=\"orange\">Exampe: How to reset value of slider widget"
   ]
  },
  {
   "cell_type": "code",
   "execution_count": 37,
   "metadata": {},
   "outputs": [
    {
     "name": "stdout",
     "output_type": "stream",
     "text": [
      "(12500, 37500)\n"
     ]
    }
   ],
   "source": [
    "print(w_rangeoftime.value)"
   ]
  },
  {
   "cell_type": "code",
   "execution_count": 38,
   "metadata": {},
   "outputs": [
    {
     "name": "stdout",
     "output_type": "stream",
     "text": [
      "37500\n"
     ]
    }
   ],
   "source": [
    "print(w_rangeoftime.value[1])"
   ]
  },
  {
   "cell_type": "code",
   "execution_count": 39,
   "metadata": {},
   "outputs": [
    {
     "name": "stdout",
     "output_type": "stream",
     "text": [
      "62500\n"
     ]
    }
   ],
   "source": [
    "print(((w_rangeoftime.value[1] - w_rangeoftime.value[0]) + w_rangeoftime.value[1]))"
   ]
  },
  {
   "cell_type": "code",
   "execution_count": 40,
   "metadata": {},
   "outputs": [],
   "source": [
    "w_rangeoftime.value = (0, 100)"
   ]
  },
  {
   "cell_type": "code",
   "execution_count": 41,
   "metadata": {},
   "outputs": [
    {
     "name": "stdout",
     "output_type": "stream",
     "text": [
      "50000\n"
     ]
    }
   ],
   "source": [
    "print(w_rangeoftime.max)"
   ]
  },
  {
   "cell_type": "code",
   "execution_count": 42,
   "metadata": {},
   "outputs": [],
   "source": [
    "w_right_button.disabled = False\n",
    "w_left_button.disabled = False"
   ]
  },
  {
   "cell_type": "markdown",
   "metadata": {},
   "source": [
    "Write a comment about what moveRight is"
   ]
  },
  {
   "cell_type": "code",
   "execution_count": 43,
   "metadata": {},
   "outputs": [],
   "source": [
    "def moveright(a):\n",
    "    #if ((w_rangeoftime.value[1] - w_rangeoftime.value[0]) + w_rangeoftime.value[1]) >= w_rangeoftime.max :\n",
    "        #w_right_button.disabled = True\n",
    "    #else: \n",
    "    w_rangeoftime.value = (((w_rangeoftime.value[1] - w_rangeoftime.value[0]) + w_rangeoftime.value[0]) , ((w_rangeoftime.value[1] - w_rangeoftime.value[0]) + w_rangeoftime.value[1]))\n",
    "        #w_left_button.disabled = True\n",
    "    plot(\"b\")"
   ]
  },
  {
   "cell_type": "markdown",
   "metadata": {},
   "source": [
    "Write comment here"
   ]
  },
  {
   "cell_type": "code",
   "execution_count": 44,
   "metadata": {},
   "outputs": [],
   "source": [
    "def moveleft(a):\n",
    "    #if (w_rangeoftime.value[0] - (w_rangeoftime.value[1] - w_rangeoftime.value[0])) <= w_rangeoftime.min :\n",
    "       # w_left_button.disabled = True\n",
    "   # else:\n",
    "    w_rangeoftime.value = ((w_rangeoftime.value[0] - (w_rangeoftime.value[1] - w_rangeoftime.value[0])) , (w_rangeoftime.value[1] - (w_rangeoftime.value[1] - w_rangeoftime.value[0])))\n",
    "        #w_right_button.disabled = True\n",
    "    plot(\"b\")"
   ]
  },
  {
   "cell_type": "markdown",
   "metadata": {},
   "source": [
    "Write comment"
   ]
  },
  {
   "cell_type": "code",
   "execution_count": 45,
   "metadata": {},
   "outputs": [],
   "source": [
    "w_right_button.on_click(moveright)\n",
    "w_left_button.on_click(moveleft)"
   ]
  },
  {
   "cell_type": "code",
   "execution_count": 46,
   "metadata": {
    "code_folding": []
   },
   "outputs": [],
   "source": [
    "def button_disabling(change):\n",
    "    if (change['new'][0] - (change['new'][1] - change['new'][0])) < w_rangeoftime.min:\n",
    "        w_left_button.disabled = True\n",
    "    else:\n",
    "        w_left_button.disabled = False\n",
    "        \n",
    "    if (change['new'][1] + (change['new'][1] - change['new'][0])) > w_rangeoftime.max:\n",
    "        w_right_button.disabled = True\n",
    "    else:\n",
    "        w_right_button.disabled = False\n",
    "\n",
    "w_rangeoftime.observe(button_disabling, names = 'value')  "
   ]
  },
  {
   "cell_type": "markdown",
   "metadata": {},
   "source": [
    "# Scratch paper here"
   ]
  },
  {
   "cell_type": "markdown",
   "metadata": {},
   "source": [
    "For scratcha paper, comment out when not in use"
   ]
  },
  {
   "cell_type": "markdown",
   "metadata": {},
   "source": [
    "int_range = widgets.IntRangeSlider()\n",
    "output2 = widgets.Output()\n",
    "\n",
    "display(int_range, output2)\n",
    "\n",
    "def on_value_change(change):\n",
    "    with output2:\n",
    "        print(change['new'])\n",
    "\n",
    "int_range.observe(on_value_change, names = 'value')"
   ]
  },
  {
   "cell_type": "code",
   "execution_count": null,
   "metadata": {},
   "outputs": [],
   "source": []
  },
  {
   "cell_type": "code",
   "execution_count": null,
   "metadata": {},
   "outputs": [],
   "source": []
  },
  {
   "cell_type": "code",
   "execution_count": null,
   "metadata": {},
   "outputs": [],
   "source": []
  }
 ],
 "metadata": {
  "hide_input": false,
  "kernelspec": {
   "display_name": "Python 3",
   "language": "python",
   "name": "python3"
  },
  "language_info": {
   "codemirror_mode": {
    "name": "ipython",
    "version": 3
   },
   "file_extension": ".py",
   "mimetype": "text/x-python",
   "name": "python",
   "nbconvert_exporter": "python",
   "pygments_lexer": "ipython3",
   "version": "3.8.6"
  },
  "toc": {
   "base_numbering": 1,
   "nav_menu": {},
   "number_sections": true,
   "sideBar": true,
   "skip_h1_title": false,
   "title_cell": "Table of Contents",
   "title_sidebar": "Contents",
   "toc_cell": false,
   "toc_position": {},
   "toc_section_display": true,
   "toc_window_display": false
  },
  "varInspector": {
   "cols": {
    "lenName": 16,
    "lenType": 16,
    "lenVar": 40
   },
   "kernels_config": {
    "python": {
     "delete_cmd_postfix": "",
     "delete_cmd_prefix": "del ",
     "library": "var_list.py",
     "varRefreshCmd": "print(var_dic_list())"
    },
    "r": {
     "delete_cmd_postfix": ") ",
     "delete_cmd_prefix": "rm(",
     "library": "var_list.r",
     "varRefreshCmd": "cat(var_dic_list()) "
    }
   },
   "types_to_exclude": [
    "module",
    "function",
    "builtin_function_or_method",
    "instance",
    "_Feature"
   ],
   "window_display": false
  }
 },
 "nbformat": 4,
 "nbformat_minor": 4
}
