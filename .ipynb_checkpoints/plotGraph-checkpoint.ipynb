{
 "cells": [
  {
   "cell_type": "markdown",
   "metadata": {},
   "source": [
    "<font size=7 color=\"magenta\">Analyzing Spikes: plotGraph"
   ]
  },
  {
   "cell_type": "markdown",
   "metadata": {
    "heading_collapsed": true
   },
   "source": [
    "## <font color=\"grey\"> Import Packages"
   ]
  },
  {
   "cell_type": "markdown",
   "metadata": {
    "hidden": true
   },
   "source": [
    "Import packages for data analysis"
   ]
  },
  {
   "cell_type": "code",
   "execution_count": 3,
   "metadata": {
    "hidden": true
   },
   "outputs": [],
   "source": [
    "# libraries and data\n",
    "#import matplotlib.pyplot as plt"
   ]
  },
  {
   "cell_type": "code",
   "execution_count": 4,
   "metadata": {
    "hidden": true
   },
   "outputs": [],
   "source": [
    "#import random\n",
    "#import os \n",
    "#import pandas as pd\n",
    "#import plotly.express as px\n",
    "#import plotly.graph_objects as go\n",
    "#import numpy as np\n",
    "#import matplotlib.pyplot as plt\n",
    "\n",
    "\n",
    "#import braingeneers\n",
    "#from braingeneers import datasets_electrophysiology as ephys"
   ]
  },
  {
   "cell_type": "markdown",
   "metadata": {
    "hidden": true,
    "slideshow": {
     "slide_type": "slide"
    }
   },
   "source": [
    "Import packages for <font color=\"green\">widget interface"
   ]
  },
  {
   "cell_type": "code",
   "execution_count": 5,
   "metadata": {
    "hidden": true
   },
   "outputs": [],
   "source": [
    "#from ipywidgets import interact, interactive, fixed, interact_manual\n",
    "#import ipywidgets as ipw\n",
    "#import ipywidgets as widgets\n",
    "#from IPython.core.display import HTML, display, Javascript, clear_output\n",
    "#from ipywidgets import HBox, VBox"
   ]
  },
  {
   "cell_type": "markdown",
   "metadata": {},
   "source": [
    "## Code for Debugging"
   ]
  },
  {
   "cell_type": "code",
   "execution_count": 6,
   "metadata": {},
   "outputs": [],
   "source": [
    "run 'GetData'.ipynb"
   ]
  },
  {
   "cell_type": "markdown",
   "metadata": {},
   "source": [
    "Use `batch_uuid`: **2020-11-05-e-UCSF-axionplate** as the <font color=\"blue\">file name"
   ]
  },
  {
   "cell_type": "code",
   "execution_count": 7,
   "metadata": {},
   "outputs": [],
   "source": [
    "#getData"
   ]
  },
  {
   "cell_type": "markdown",
   "metadata": {
    "heading_collapsed": true
   },
   "source": [
    "# <font color=\"green\"> Widgets "
   ]
  },
  {
   "cell_type": "markdown",
   "metadata": {
    "hidden": true
   },
   "source": [
    "Gets the time interval. The user will manipulate the range to their liking. "
   ]
  },
  {
   "cell_type": "code",
   "execution_count": 8,
   "metadata": {
    "hidden": true
   },
   "outputs": [
    {
     "data": {
      "application/vnd.jupyter.widget-view+json": {
       "model_id": "b7d70a4b5a3b4e889dde08495c12ea49",
       "version_major": 2,
       "version_minor": 0
      },
      "text/plain": [
       "IntRangeSlider(value=(12500, 37500), description='Time Interval', max=50000)"
      ]
     },
     "metadata": {},
     "output_type": "display_data"
    }
   ],
   "source": [
    "try:\n",
    "    w_rangeoftime = ipw.IntRangeSlider(description= \"Time Interval\", min = 0, max = len(Spike.t))\n",
    "except:\n",
    "    w_rangeoftime = ipw.IntRangeSlider(description= \"Time Interval\", min = 0, max = 50000)\n",
    "    \n",
    "w_rangeoftime"
   ]
  },
  {
   "cell_type": "markdown",
   "metadata": {
    "hidden": true
   },
   "source": [
    "Use button to create the graph. The user will use this button to create the graph."
   ]
  },
  {
   "cell_type": "code",
   "execution_count": 9,
   "metadata": {
    "hidden": true
   },
   "outputs": [
    {
     "data": {
      "application/vnd.jupyter.widget-view+json": {
       "model_id": "e4728052279b475d9918dafd781cdde7",
       "version_major": 2,
       "version_minor": 0
      },
      "text/plain": [
       "Button(description='Plot', style=ButtonStyle())"
      ]
     },
     "metadata": {},
     "output_type": "display_data"
    }
   ],
   "source": [
    "w_plot_btn = ipw.Button(description=\"Plot\")\n",
    "w_plot_btn"
   ]
  },
  {
   "cell_type": "markdown",
   "metadata": {
    "hidden": true
   },
   "source": [
    "Gets the channel numbers. The user will input the channels to their liking. Press **command** and **mouse click** to do multiple channels."
   ]
  },
  {
   "cell_type": "code",
   "execution_count": 10,
   "metadata": {
    "hidden": true
   },
   "outputs": [
    {
     "data": {
      "application/vnd.jupyter.widget-view+json": {
       "model_id": "fbeb966b5dad4cb1b83a657d8ea70efc",
       "version_major": 2,
       "version_minor": 0
      },
      "text/plain": [
       "SelectMultiple(description='Channels', index=(0,), options=('1', '2', '3', '4', '5', '6', '7', '8', '9', '10',…"
      ]
     },
     "metadata": {},
     "output_type": "display_data"
    }
   ],
   "source": [
    "w_channels2 = widgets.SelectMultiple(\n",
    "    options=['1', '2' , '3' , '4' , '5' , '6' , '7' , '8' , '9' , '10' , '11' , '12' , '13' , '14'\n",
    "             , '15' , '16' , '17' , '18' , '19' , '20' , '21' , '22' , '23' , '24' , '25' , '26' , '27' , '28' , '29' , '30' , '31' , '32'],\n",
    "    value=['1',],   \n",
    "    #rows=10,\n",
    "    description='Channels',\n",
    "    disabled=False\n",
    ")\n",
    "\n",
    "w_channels2"
   ]
  },
  {
   "cell_type": "markdown",
   "metadata": {
    "hidden": true
   },
   "source": [
    "Use button to shift the left."
   ]
  },
  {
   "cell_type": "code",
   "execution_count": 11,
   "metadata": {
    "hidden": true
   },
   "outputs": [
    {
     "data": {
      "application/vnd.jupyter.widget-view+json": {
       "model_id": "d4116a52e4384b76a144b98a6b4253b2",
       "version_major": 2,
       "version_minor": 0
      },
      "text/plain": [
       "Button(icon='arrow-left', layout=Layout(width='auto'), style=ButtonStyle())"
      ]
     },
     "metadata": {},
     "output_type": "display_data"
    }
   ],
   "source": [
    "w_left_button = ipw.Button(icon = \"arrow-left\", layout = ipw.Layout(width= \"auto\") )\n",
    "w_left_button"
   ]
  },
  {
   "cell_type": "markdown",
   "metadata": {
    "hidden": true
   },
   "source": [
    "Use button to shift the right. "
   ]
  },
  {
   "cell_type": "code",
   "execution_count": 12,
   "metadata": {
    "hidden": true
   },
   "outputs": [
    {
     "data": {
      "application/vnd.jupyter.widget-view+json": {
       "model_id": "456f5f88db014d4f93ae019a6385ac51",
       "version_major": 2,
       "version_minor": 0
      },
      "text/plain": [
       "Button(icon='arrow-right', layout=Layout(width='auto'), style=ButtonStyle())"
      ]
     },
     "metadata": {},
     "output_type": "display_data"
    }
   ],
   "source": [
    "w_right_button = ipw.Button(icon = \"arrow-right\", layout = ipw.Layout(width= \"auto\") )\n",
    "w_right_button"
   ]
  },
  {
   "cell_type": "markdown",
   "metadata": {},
   "source": [
    "# <font color=\"orchid\">Widget Box</font> "
   ]
  },
  {
   "cell_type": "code",
   "execution_count": 13,
   "metadata": {},
   "outputs": [
    {
     "data": {
      "application/vnd.jupyter.widget-view+json": {
       "model_id": "54555d7faf3e4ffba9e6abc0dedee71a",
       "version_major": 2,
       "version_minor": 0
      },
      "text/plain": [
       "VBox(children=(IntRangeSlider(value=(12500, 37500), description='Time Interval', max=50000), SelectMultiple(de…"
      ]
     },
     "metadata": {},
     "output_type": "display_data"
    }
   ],
   "source": [
    "makePlot = VBox([ w_rangeoftime, w_channels2, ipw.HBox([w_left_button,w_plot_btn,w_right_button])]) \n",
    "makePlot"
   ]
  },
  {
   "cell_type": "markdown",
   "metadata": {},
   "source": [
    "#  <font color=\"purple\">plotGraph Function</font>"
   ]
  },
  {
   "cell_type": "markdown",
   "metadata": {},
   "source": [
    "**plotGraph** is a function that allows the user to <font color=\"blue\">**plot data values**</font> that were **stored** in the <font color=\"blue\">**GetData function**</font>, in a **Spike object**, to create the graphs of multiple channels."
   ]
  },
  {
   "cell_type": "code",
   "execution_count": 14,
   "metadata": {},
   "outputs": [],
   "source": [
    "def plotGraph(a):\n",
    "    clear_output()\n",
    "    display(makePlot)\n",
    "    try:\n",
    "        timerange = range(w_rangeoftime.value[0],w_rangeoftime.value[1], 50)\n",
    "        \n",
    "        plt.style.use('default')\n",
    "        my_dpi=96\n",
    "        plt.figure(figsize=(1000/my_dpi, 1000/my_dpi), dpi=my_dpi)\n",
    "\n",
    "        for i in w_channels2.value: \n",
    "            plt.plot(Spike.t[timerange], Spike.X[:,(int(i)-1)][timerange], label = ('Channel ' + i), alpha = 0.4)\n",
    "\n",
    "        plt.ylabel('Voltage in microvolts (uV)')\n",
    "        plt.xlabel('time (ms)')\n",
    "        plt.legend()\n",
    "        plt.show()\n",
    "    except:\n",
    "        print(\"Data not Found, first get Data\")"
   ]
  },
  {
   "cell_type": "markdown",
   "metadata": {},
   "source": [
    "Run the function **plotGraph** when clicking the widget <font color=\"blue\">**w_plot_btn**</font>."
   ]
  },
  {
   "cell_type": "code",
   "execution_count": 15,
   "metadata": {},
   "outputs": [],
   "source": [
    "w_plot_btn.on_click(plotGraph)"
   ]
  },
  {
   "cell_type": "markdown",
   "metadata": {},
   "source": [
    "#  <font color=\"darkred\">Display Mover</font> "
   ]
  },
  {
   "cell_type": "markdown",
   "metadata": {},
   "source": [
    "## <font color=\"red\">moveRight Function</font> "
   ]
  },
  {
   "cell_type": "markdown",
   "metadata": {},
   "source": [
    "The **moveRight** function <font color=\"blue\">**shifts the range**</font> of the graph to the <font color=\"blue\">**right**</font>. "
   ]
  },
  {
   "cell_type": "code",
   "execution_count": 16,
   "metadata": {},
   "outputs": [],
   "source": [
    "def moveRight(a):\n",
    "    w_rangeoftime.value = (((w_rangeoftime.value[1] - w_rangeoftime.value[0]) + w_rangeoftime.value[0]) , ((w_rangeoftime.value[1] - w_rangeoftime.value[0]) + w_rangeoftime.value[1]))\n",
    "    plotGraph(\"b\")"
   ]
  },
  {
   "cell_type": "code",
   "execution_count": 17,
   "metadata": {},
   "outputs": [],
   "source": [
    "w_right_button.on_click(moveRight)"
   ]
  },
  {
   "cell_type": "markdown",
   "metadata": {},
   "source": [
    "## <font color=\"green\">moveLeft Function</font> "
   ]
  },
  {
   "cell_type": "markdown",
   "metadata": {},
   "source": [
    "The **moveLeft** function <font color=\"blue\">**shifts the range**</font> of the graph to the <font color=\"blue\">**left**</font>. "
   ]
  },
  {
   "cell_type": "code",
   "execution_count": 18,
   "metadata": {},
   "outputs": [],
   "source": [
    "def moveLeft(a):\n",
    "    w_rangeoftime.value = ((w_rangeoftime.value[0] - (w_rangeoftime.value[1] - w_rangeoftime.value[0])) , (w_rangeoftime.value[1] - (w_rangeoftime.value[1] - w_rangeoftime.value[0])))\n",
    "    plotGraph(\"b\")"
   ]
  },
  {
   "cell_type": "code",
   "execution_count": 19,
   "metadata": {},
   "outputs": [],
   "source": [
    "w_left_button.on_click(moveLeft)"
   ]
  },
  {
   "cell_type": "markdown",
   "metadata": {},
   "source": [
    "## <font color=\"orange\">buttonDisabling Function</font> "
   ]
  },
  {
   "cell_type": "markdown",
   "metadata": {},
   "source": [
    "The **buttonDisabling** function <font color=\"blue\">**checks**</font> if it can **shift more to the right or left**. If the graph **cannot shift**, the function **buttonDisabling** will <font color=\"blue\">**disable right/left buttons**</font> accordingly. "
   ]
  },
  {
   "cell_type": "code",
   "execution_count": 20,
   "metadata": {},
   "outputs": [],
   "source": [
    "def buttonDisabling(change):\n",
    "    if (change['new'][0] - (change['new'][1] - change['new'][0])) < w_rangeoftime.min:\n",
    "        w_left_button.disabled = True\n",
    "    else:\n",
    "        w_left_button.disabled = False\n",
    "        \n",
    "    if (change['new'][1] + (change['new'][1] - change['new'][0])) > w_rangeoftime.max:\n",
    "        w_right_button.disabled = True\n",
    "    else:\n",
    "        w_right_button.disabled = False\n",
    "\n",
    "w_rangeoftime.observe(buttonDisabling, names = 'value')  "
   ]
  }
 ],
 "metadata": {
  "hide_input": false,
  "kernelspec": {
   "display_name": "Python 3",
   "language": "python",
   "name": "python3"
  },
  "language_info": {
   "codemirror_mode": {
    "name": "ipython",
    "version": 3
   },
   "file_extension": ".py",
   "mimetype": "text/x-python",
   "name": "python",
   "nbconvert_exporter": "python",
   "pygments_lexer": "ipython3",
   "version": "3.8.6"
  },
  "toc": {
   "base_numbering": 1,
   "nav_menu": {},
   "number_sections": true,
   "sideBar": true,
   "skip_h1_title": false,
   "title_cell": "Table of Contents",
   "title_sidebar": "Contents",
   "toc_cell": false,
   "toc_position": {},
   "toc_section_display": true,
   "toc_window_display": false
  },
  "varInspector": {
   "cols": {
    "lenName": 16,
    "lenType": 16,
    "lenVar": 40
   },
   "kernels_config": {
    "python": {
     "delete_cmd_postfix": "",
     "delete_cmd_prefix": "del ",
     "library": "var_list.py",
     "varRefreshCmd": "print(var_dic_list())"
    },
    "r": {
     "delete_cmd_postfix": ") ",
     "delete_cmd_prefix": "rm(",
     "library": "var_list.r",
     "varRefreshCmd": "cat(var_dic_list()) "
    }
   },
   "types_to_exclude": [
    "module",
    "function",
    "builtin_function_or_method",
    "instance",
    "_Feature"
   ],
   "window_display": false
  }
 },
 "nbformat": 4,
 "nbformat_minor": 4
}
