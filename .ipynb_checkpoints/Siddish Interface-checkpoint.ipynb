{
 "cells": [
  {
   "cell_type": "markdown",
   "metadata": {},
   "source": [
    "<font size=7>Analyzing Spikes</font>"
   ]
  },
  {
   "cell_type": "markdown",
   "metadata": {},
   "source": [
    "Welcome to the **Analyzing Spikes interface**! Here you will be able to access the <font color='red'>necessary files</font> and be able to <font color='red'>analyze the data</font> from specific experiments by plotting them on a graph."
   ]
  },
  {
   "cell_type": "code",
   "execution_count": null,
   "metadata": {},
   "outputs": [],
   "source": [
    "run 'GetData'.ipynb"
   ]
  },
  {
   "cell_type": "code",
   "execution_count": null,
   "metadata": {},
   "outputs": [],
   "source": [
    "run 'plotGraph'.ipynb"
   ]
  },
  {
   "cell_type": "markdown",
   "metadata": {},
   "source": [
    "# Get Data"
   ]
  },
  {
   "cell_type": "markdown",
   "metadata": {},
   "source": [
    "The **GetData interface** allows you to <font color='blue'>choose an experiment</font> within a file and provide you with the data from that experiment. \n",
    "\n",
    "You can test the function with the `2020-11-05-e-UCSF-axionplate` dataset. <font color='red'>Wait until displayed Finished before plotting.</font>"
   ]
  },
  {
   "cell_type": "code",
   "execution_count": null,
   "metadata": {},
   "outputs": [],
   "source": [
    "getData"
   ]
  },
  {
   "cell_type": "markdown",
   "metadata": {},
   "source": [
    "# Make Plot"
   ]
  },
  {
   "cell_type": "markdown",
   "metadata": {},
   "source": [
    "The **Plot interface** allows you to <font color='blue'>use the data</font> that you recieved and  <font color='blue'>plot points</font> at a specified interval and number of channels to your choice, using **matplot**. \n",
    "\n",
    "To select specific different channels use <font color='blue'>shift and/or ctrl (or command)</font> **and** <font color='blue'>mouse clicks</font> or arrow keys."
   ]
  },
  {
   "cell_type": "code",
   "execution_count": null,
   "metadata": {},
   "outputs": [],
   "source": [
    "makePlot"
   ]
  }
 ],
 "metadata": {
  "hide_input": false,
  "kernelspec": {
   "display_name": "Python 3",
   "language": "python",
   "name": "python3"
  },
  "language_info": {
   "codemirror_mode": {
    "name": "ipython",
    "version": 3
   },
   "file_extension": ".py",
   "mimetype": "text/x-python",
   "name": "python",
   "nbconvert_exporter": "python",
   "pygments_lexer": "ipython3",
   "version": "3.8.6"
  },
  "toc": {
   "base_numbering": 1,
   "nav_menu": {},
   "number_sections": true,
   "sideBar": true,
   "skip_h1_title": false,
   "title_cell": "Table of Contents",
   "title_sidebar": "Contents",
   "toc_cell": false,
   "toc_position": {},
   "toc_section_display": true,
   "toc_window_display": false
  },
  "varInspector": {
   "cols": {
    "lenName": 16,
    "lenType": 16,
    "lenVar": 40
   },
   "kernels_config": {
    "python": {
     "delete_cmd_postfix": "",
     "delete_cmd_prefix": "del ",
     "library": "var_list.py",
     "varRefreshCmd": "print(var_dic_list())"
    },
    "r": {
     "delete_cmd_postfix": ") ",
     "delete_cmd_prefix": "rm(",
     "library": "var_list.r",
     "varRefreshCmd": "cat(var_dic_list()) "
    }
   },
   "types_to_exclude": [
    "module",
    "function",
    "builtin_function_or_method",
    "instance",
    "_Feature"
   ],
   "window_display": false
  },
  "widgets": {
   "application/vnd.jupyter.widget-state+json": {
    "state": {
     "00046258dcb24fe89af1b4228f7ad1f6": {
      "model_module": "@jupyter-widgets/base",
      "model_module_version": "1.2.0",
      "model_name": "LayoutModel",
      "state": {}
     },
     "006c35f7ac2248129d499087251ebe1b": {
      "model_module": "@jupyter-widgets/controls",
      "model_module_version": "1.5.0",
      "model_name": "VBoxModel",
      "state": {
       "children": [
        "IPY_MODEL_3d8787414f0b42f2af6667cc98f10b4d",
        "IPY_MODEL_f6bdf80678cf4f70a27941fd47c2ad2a",
        "IPY_MODEL_88319bcb901346ab9abcc6b9a704b194"
       ],
       "layout": "IPY_MODEL_ea87c8904bdc4a489001952dd4b823f8"
      }
     },
     "010869210e7142ae8e016b83880d418d": {
      "model_module": "@jupyter-widgets/controls",
      "model_module_version": "1.5.0",
      "model_name": "SliderStyleModel",
      "state": {
       "description_width": ""
      }
     },
     "011c34855adc48a18d61adc790e947a0": {
      "model_module": "@jupyter-widgets/base",
      "model_module_version": "1.2.0",
      "model_name": "LayoutModel",
      "state": {}
     },
     "0134c468a4744b5dab4d4a777a159b31": {
      "model_module": "@jupyter-widgets/base",
      "model_module_version": "1.2.0",
      "model_name": "LayoutModel",
      "state": {}
     },
     "019de40fb3444ec083db6160993cf6dc": {
      "model_module": "@jupyter-widgets/controls",
      "model_module_version": "1.5.0",
      "model_name": "VBoxModel",
      "state": {
       "children": [
        "IPY_MODEL_b33a9888c346468ea635c52ecc886faf",
        "IPY_MODEL_d8f5d5d276df46f6bf73c5dd189bdb78",
        "IPY_MODEL_b23031d266624e068427718805c4e589"
       ],
       "layout": "IPY_MODEL_07c4a7ddf0284cda8efa22492b883b78"
      }
     },
     "01a5de7d173740cbbe50a1c12b6a8a02": {
      "model_module": "@jupyter-widgets/controls",
      "model_module_version": "1.5.0",
      "model_name": "ButtonStyleModel",
      "state": {}
     },
     "01c21a78a941484dad1a6d8aa1594504": {
      "model_module": "@jupyter-widgets/controls",
      "model_module_version": "1.5.0",
      "model_name": "HBoxModel",
      "state": {
       "children": [
        "IPY_MODEL_0aaf9cf98cf04962854acec0adbce4cc",
        "IPY_MODEL_fb4f05c04b2d4fcfa1f25b88df221a82",
        "IPY_MODEL_2838843ba2f84db2a1ed021b1af34fde"
       ],
       "layout": "IPY_MODEL_bf88f2be5e5a41bb9aa0c4db488ded5f"
      }
     },
     "0318d1aab2a9447d8f5f8a03a8234c45": {
      "model_module": "@jupyter-widgets/controls",
      "model_module_version": "1.5.0",
      "model_name": "VBoxModel",
      "state": {
       "children": [
        "IPY_MODEL_6baaacfca0f24e7a954a40e1170a94fb",
        "IPY_MODEL_55b2fc533740485ea4dea4ded5ce4876",
        "IPY_MODEL_af37a5e9ab604be4a2d64a1df04b3167"
       ],
       "layout": "IPY_MODEL_71a2cc34285343a7976906a7c2ef17c4"
      }
     },
     "040b7c52e58f41798c45bdf02876aa02": {
      "model_module": "@jupyter-widgets/base",
      "model_module_version": "1.2.0",
      "model_name": "LayoutModel",
      "state": {}
     },
     "0512bd3186c84a8783d2f4aaf0fdb77a": {
      "model_module": "@jupyter-widgets/controls",
      "model_module_version": "1.5.0",
      "model_name": "ButtonModel",
      "state": {
       "icon": "arrow-left",
       "layout": "IPY_MODEL_70e23b58bd284fc19518b629064f5938",
       "style": "IPY_MODEL_0b41d52561cd499caf18d69c0941dbfa"
      }
     },
     "051f8b18450c4d949a5c5272ea0d11da": {
      "model_module": "@jupyter-widgets/controls",
      "model_module_version": "1.5.0",
      "model_name": "HBoxModel",
      "state": {
       "children": [
        "IPY_MODEL_76dc7b22e0a84a62bc74cacc7b1370a5",
        "IPY_MODEL_ce9dd5c9dbc144089ed635407a1c5f4b"
       ],
       "layout": "IPY_MODEL_599a6d3d6bc94fa58c7937f52b208a46"
      }
     },
     "05fc679e7b7e40a495fa6015c38f0f4c": {
      "model_module": "@jupyter-widgets/base",
      "model_module_version": "1.2.0",
      "model_name": "LayoutModel",
      "state": {}
     },
     "0643d1773e0f43b9ab2bc9cc931aaddd": {
      "model_module": "@jupyter-widgets/controls",
      "model_module_version": "1.5.0",
      "model_name": "SliderStyleModel",
      "state": {
       "description_width": ""
      }
     },
     "064603f7dcf34f76a475c28d7bbdd653": {
      "model_module": "@jupyter-widgets/base",
      "model_module_version": "1.2.0",
      "model_name": "LayoutModel",
      "state": {}
     },
     "07c4a7ddf0284cda8efa22492b883b78": {
      "model_module": "@jupyter-widgets/base",
      "model_module_version": "1.2.0",
      "model_name": "LayoutModel",
      "state": {}
     },
     "081f163dfa77470f9fab0fc0a36a0983": {
      "model_module": "@jupyter-widgets/controls",
      "model_module_version": "1.5.0",
      "model_name": "ButtonStyleModel",
      "state": {}
     },
     "0864947503734ffd84ec55d2b035e044": {
      "model_module": "@jupyter-widgets/controls",
      "model_module_version": "1.5.0",
      "model_name": "DescriptionStyleModel",
      "state": {
       "description_width": ""
      }
     },
     "09ce55f24b87466a8cf755968429eb38": {
      "model_module": "@jupyter-widgets/base",
      "model_module_version": "1.2.0",
      "model_name": "LayoutModel",
      "state": {}
     },
     "09f8a47beb754d8ab948de93d7a76ff1": {
      "model_module": "@jupyter-widgets/base",
      "model_module_version": "1.2.0",
      "model_name": "LayoutModel",
      "state": {}
     },
     "0a3ba1432d5646ccb71b08a8c7fdfcb2": {
      "model_module": "@jupyter-widgets/controls",
      "model_module_version": "1.5.0",
      "model_name": "BoundedIntTextModel",
      "state": {
       "description": "Experiment:",
       "layout": "IPY_MODEL_173deee5f6184813853f11d1eeeaa42a",
       "style": "IPY_MODEL_7c1253e5622a49e498d6e08f995909f0"
      }
     },
     "0aaf9cf98cf04962854acec0adbce4cc": {
      "model_module": "@jupyter-widgets/controls",
      "model_module_version": "1.5.0",
      "model_name": "ButtonModel",
      "state": {
       "icon": "arrow-left",
       "layout": "IPY_MODEL_777db4aa2a654f63b8003ce7d4d5f491",
       "style": "IPY_MODEL_657c89d19e2749b58637f9ee30daa59d"
      }
     },
     "0b2ef9ea9c5140d68ff9241fbc152116": {
      "model_module": "@jupyter-widgets/controls",
      "model_module_version": "1.5.0",
      "model_name": "HBoxModel",
      "state": {
       "children": [
        "IPY_MODEL_378b3661f7144e56ad37656b60c894ab",
        "IPY_MODEL_af37a5e9ab604be4a2d64a1df04b3167",
        "IPY_MODEL_6299452c7c6e49689af13c30c4a9f473"
       ],
       "layout": "IPY_MODEL_f0cd368804a94673a4da19c1bdcffd8f"
      }
     },
     "0b41d52561cd499caf18d69c0941dbfa": {
      "model_module": "@jupyter-widgets/controls",
      "model_module_version": "1.5.0",
      "model_name": "ButtonStyleModel",
      "state": {}
     },
     "0b4ab187e4434dfd8b71ef869fb894b1": {
      "model_module": "@jupyter-widgets/controls",
      "model_module_version": "1.5.0",
      "model_name": "ButtonModel",
      "state": {
       "description": "Get Data",
       "layout": "IPY_MODEL_4cd8aa7722814c839271416dcade37e1",
       "style": "IPY_MODEL_c5e7dc01e8714aea98c549286e7cce86"
      }
     },
     "0b7fee586863479980cdd658463513b1": {
      "model_module": "@jupyter-widgets/controls",
      "model_module_version": "1.5.0",
      "model_name": "VBoxModel",
      "state": {
       "children": [
        "IPY_MODEL_adc8b01e76e54a24b7c822ae9e4e6dc1",
        "IPY_MODEL_5d99bc1191f5445aa71fe9456ad3405a",
        "IPY_MODEL_bba17d1eb5394a90a6a227c171e29197"
       ],
       "layout": "IPY_MODEL_0134c468a4744b5dab4d4a777a159b31"
      }
     },
     "0bac807a81874e758757cb6eac3bdd2b": {
      "model_module": "@jupyter-widgets/controls",
      "model_module_version": "1.5.0",
      "model_name": "ButtonModel",
      "state": {
       "icon": "arrow-right",
       "layout": "IPY_MODEL_75eb3f5e80bf46eebadf0102d02200a2",
       "style": "IPY_MODEL_e112777f1094466a977b2d14a8d8c58d"
      }
     },
     "0cbfbfba98e641268be2b27781a1fe09": {
      "model_module": "@jupyter-widgets/base",
      "model_module_version": "1.2.0",
      "model_name": "LayoutModel",
      "state": {}
     },
     "0dbacddcfa494d7a875ec5c313a22aa0": {
      "model_module": "@jupyter-widgets/controls",
      "model_module_version": "1.5.0",
      "model_name": "ValidModel",
      "state": {
       "layout": "IPY_MODEL_6c820b7c099f4c919e0ec373a590b95c",
       "style": "IPY_MODEL_a705ee71729242eba01c3d66034e37d6",
       "value": true
      }
     },
     "0ed214f0ed5a4496bee520fe5436d63b": {
      "model_module": "@jupyter-widgets/base",
      "model_module_version": "1.2.0",
      "model_name": "LayoutModel",
      "state": {}
     },
     "0f854626c7364d20987f9b4ad6c83d5f": {
      "model_module": "@jupyter-widgets/base",
      "model_module_version": "1.2.0",
      "model_name": "LayoutModel",
      "state": {
       "width": "auto"
      }
     },
     "0fa6c0a0d3b348af92f13e9c585f91f0": {
      "model_module": "@jupyter-widgets/controls",
      "model_module_version": "1.5.0",
      "model_name": "DescriptionStyleModel",
      "state": {
       "description_width": ""
      }
     },
     "0fbc85bcbcea4f02ab9b5be036af048c": {
      "model_module": "@jupyter-widgets/base",
      "model_module_version": "1.2.0",
      "model_name": "LayoutModel",
      "state": {}
     },
     "0fd139ae2dc74fa1bfa7ae77903749fc": {
      "model_module": "@jupyter-widgets/controls",
      "model_module_version": "1.5.0",
      "model_name": "ButtonStyleModel",
      "state": {}
     },
     "11045c858bc64eb6a0fb2a1420d28fd9": {
      "model_module": "@jupyter-widgets/controls",
      "model_module_version": "1.5.0",
      "model_name": "DescriptionStyleModel",
      "state": {
       "description_width": ""
      }
     },
     "11596058dec04659b58915553cf88e72": {
      "model_module": "@jupyter-widgets/controls",
      "model_module_version": "1.5.0",
      "model_name": "DescriptionStyleModel",
      "state": {
       "description_width": ""
      }
     },
     "119f16779fa6459c87e86c0025e5a9f9": {
      "model_module": "@jupyter-widgets/controls",
      "model_module_version": "1.5.0",
      "model_name": "SliderStyleModel",
      "state": {
       "description_width": ""
      }
     },
     "123db30c5359450796d2c88663495cee": {
      "model_module": "@jupyter-widgets/base",
      "model_module_version": "1.2.0",
      "model_name": "LayoutModel",
      "state": {}
     },
     "12d15f8aef4d42288e48c3931c194bee": {
      "model_module": "@jupyter-widgets/controls",
      "model_module_version": "1.5.0",
      "model_name": "HBoxModel",
      "state": {
       "children": [
        "IPY_MODEL_8dbf095fedc448ddaf81023b5da1a94e",
        "IPY_MODEL_59f94336f01c42fa8a53cfe33356e833",
        "IPY_MODEL_7b5332d6afc2461a974f6f50e3afcf75"
       ],
       "layout": "IPY_MODEL_aa9e7da5f5fd47dc8152e91b4afe6d14"
      }
     },
     "1395467d20f1496b8f1b8ed3bbead75b": {
      "model_module": "@jupyter-widgets/controls",
      "model_module_version": "1.5.0",
      "model_name": "DescriptionStyleModel",
      "state": {
       "description_width": ""
      }
     },
     "1469b90c85714f218b445a0109f29fe8": {
      "model_module": "@jupyter-widgets/base",
      "model_module_version": "1.2.0",
      "model_name": "LayoutModel",
      "state": {
       "visibility": "hidden"
      }
     },
     "148dada2e81e4ba5bfb2e67aa5075310": {
      "model_module": "@jupyter-widgets/controls",
      "model_module_version": "1.5.0",
      "model_name": "HBoxModel",
      "state": {
       "children": [
        "IPY_MODEL_e7bdfa28178648e1b7f670a018cf4bf6",
        "IPY_MODEL_a82232316d1b404c8c81bf822526d27e",
        "IPY_MODEL_baa20a050d04434d9d10dc8e5aed67ed"
       ],
       "layout": "IPY_MODEL_99b18468af68432384744646409783ca"
      }
     },
     "148f3b9652f04780bb2d00efac4c4847": {
      "model_module": "@jupyter-widgets/controls",
      "model_module_version": "1.5.0",
      "model_name": "IntRangeSliderModel",
      "state": {
       "_model_name": "IntRangeSliderModel",
       "_view_name": "IntRangeSliderView",
       "layout": "IPY_MODEL_a9579d3e1b2a48ea9e89d2487a360bb3",
       "style": "IPY_MODEL_c7c5d51509444015bc022b812dd641c2",
       "value": [
        25,
        75
       ]
      }
     },
     "14aad3f25dab455abbbc677da3222ff3": {
      "model_module": "@jupyter-widgets/controls",
      "model_module_version": "1.5.0",
      "model_name": "ButtonStyleModel",
      "state": {}
     },
     "16ef037bcc074043bdf67736f9ea487b": {
      "model_module": "@jupyter-widgets/controls",
      "model_module_version": "1.5.0",
      "model_name": "ButtonStyleModel",
      "state": {}
     },
     "173deee5f6184813853f11d1eeeaa42a": {
      "model_module": "@jupyter-widgets/base",
      "model_module_version": "1.2.0",
      "model_name": "LayoutModel",
      "state": {}
     },
     "1804696605a74e298df971f20a300261": {
      "model_module": "@jupyter-widgets/controls",
      "model_module_version": "1.5.0",
      "model_name": "SelectMultipleModel",
      "state": {
       "_options_labels": [
        "1",
        "2",
        "3",
        "4",
        "5",
        "6",
        "7",
        "8",
        "9",
        "10",
        "11",
        "12",
        "13",
        "14",
        "15",
        "16",
        "17",
        "18",
        "19",
        "20",
        "21",
        "22",
        "23",
        "24",
        "25",
        "26",
        "27",
        "28",
        "29",
        "30",
        "31",
        "32"
       ],
       "description": "Channels",
       "index": [
        0
       ],
       "layout": "IPY_MODEL_ced05a040ac6460aa0bde4bc86386688",
       "rows": 5,
       "style": "IPY_MODEL_dfcf14f8c6b44d33bbefb0784478fa7a"
      }
     },
     "19f9bd7cb2294b0ca26ac6d90ea5ca7b": {
      "model_module": "@jupyter-widgets/base",
      "model_module_version": "1.2.0",
      "model_name": "LayoutModel",
      "state": {}
     },
     "1a5d297aa2574fc6b0e2235aa003828e": {
      "model_module": "@jupyter-widgets/controls",
      "model_module_version": "1.5.0",
      "model_name": "HBoxModel",
      "state": {
       "children": [
        "IPY_MODEL_4b0e928c2db64505b1cf242d0ec60339",
        "IPY_MODEL_fb4f05c04b2d4fcfa1f25b88df221a82",
        "IPY_MODEL_0bac807a81874e758757cb6eac3bdd2b"
       ],
       "layout": "IPY_MODEL_1b9ce0c580454226a7f35b8e90e32ea1"
      }
     },
     "1b21f183d9b94dffb773afd2b39ae7f4": {
      "model_module": "@jupyter-widgets/controls",
      "model_module_version": "1.5.0",
      "model_name": "TextModel",
      "state": {
       "description": "File name",
       "layout": "IPY_MODEL_39440573001641809e7bd6bdd9de6882",
       "style": "IPY_MODEL_75bee240f8fe4fdab6d37f98ad213fa8"
      }
     },
     "1b9ce0c580454226a7f35b8e90e32ea1": {
      "model_module": "@jupyter-widgets/base",
      "model_module_version": "1.2.0",
      "model_name": "LayoutModel",
      "state": {}
     },
     "1bc816a5f7fb4fbe89fc8605fea4b4b7": {
      "model_module": "@jupyter-widgets/controls",
      "model_module_version": "1.5.0",
      "model_name": "ButtonModel",
      "state": {
       "icon": "arrow-left",
       "layout": "IPY_MODEL_a094e081443145d3ac690c38dd8ab1a8",
       "style": "IPY_MODEL_ab852d1f3f16499bb0875330383fed82"
      }
     },
     "1c0d36a1697b4f89bbfc68f8f3ff2b20": {
      "model_module": "@jupyter-widgets/base",
      "model_module_version": "1.2.0",
      "model_name": "LayoutModel",
      "state": {
       "width": "auto"
      }
     },
     "1c24028d6bbc40ddb67f20896cc840f7": {
      "model_module": "@jupyter-widgets/controls",
      "model_module_version": "1.5.0",
      "model_name": "ButtonStyleModel",
      "state": {}
     },
     "1e7644105b6643c4b5f93efb47b5bfa4": {
      "model_module": "@jupyter-widgets/base",
      "model_module_version": "1.2.0",
      "model_name": "LayoutModel",
      "state": {}
     },
     "1e8718b31565442b8893f87a6c11f0a0": {
      "model_module": "@jupyter-widgets/controls",
      "model_module_version": "1.5.0",
      "model_name": "ValidModel",
      "state": {
       "layout": "IPY_MODEL_8a4eabd70e0a49ec917eb61f1f8aaa26",
       "style": "IPY_MODEL_3d16142f2e3b4ca3b4dad55d0d3b16e1",
       "value": true
      }
     },
     "1ed22681230e4e8fbd1b3cc42fafa5ac": {
      "model_module": "@jupyter-widgets/base",
      "model_module_version": "1.2.0",
      "model_name": "LayoutModel",
      "state": {}
     },
     "1f7bd90b8f9d4de4b1a696bb823ded3c": {
      "model_module": "@jupyter-widgets/base",
      "model_module_version": "1.2.0",
      "model_name": "LayoutModel",
      "state": {}
     },
     "1fa280e57e2944d9a3fbe2d659954bf0": {
      "model_module": "@jupyter-widgets/controls",
      "model_module_version": "1.5.0",
      "model_name": "SelectMultipleModel",
      "state": {
       "_options_labels": [
        "1",
        "2",
        "3",
        "4",
        "5",
        "6",
        "7",
        "8",
        "9",
        "10",
        "11",
        "12",
        "13",
        "14",
        "15",
        "16",
        "17",
        "18",
        "19",
        "20",
        "21",
        "22",
        "23",
        "24",
        "25",
        "26",
        "27",
        "28",
        "29",
        "30",
        "31",
        "32"
       ],
       "description": "Channels",
       "index": [
        0
       ],
       "layout": "IPY_MODEL_708bd82e0d474e57b5336f608cca86c1",
       "rows": 5,
       "style": "IPY_MODEL_6f622008575f4967b2e74c68b42eecfa"
      }
     },
     "216219db81704d279a6dae52e69540db": {
      "model_module": "@jupyter-widgets/controls",
      "model_module_version": "1.5.0",
      "model_name": "SliderStyleModel",
      "state": {
       "description_width": ""
      }
     },
     "220c11f42d6f4d5099a509a99447ddc9": {
      "model_module": "@jupyter-widgets/controls",
      "model_module_version": "1.5.0",
      "model_name": "IntRangeSliderModel",
      "state": {
       "_model_name": "IntRangeSliderModel",
       "_view_name": "IntRangeSliderView",
       "description": "Time Interval",
       "layout": "IPY_MODEL_a834de1b0fe44c09ad75017f2462a638",
       "max": 50000,
       "style": "IPY_MODEL_c412389b98ec48ed8d623b68778b7976",
       "value": [
        3986,
        15553
       ]
      }
     },
     "22a30354cbea408d90503a74da968ba2": {
      "model_module": "@jupyter-widgets/base",
      "model_module_version": "1.2.0",
      "model_name": "LayoutModel",
      "state": {
       "width": "auto"
      }
     },
     "22b9256de0bd41a7809e88593e0a866a": {
      "model_module": "@jupyter-widgets/base",
      "model_module_version": "1.2.0",
      "model_name": "LayoutModel",
      "state": {}
     },
     "23452a96b84941c3bf2d76a9d134652e": {
      "model_module": "@jupyter-widgets/controls",
      "model_module_version": "1.5.0",
      "model_name": "DescriptionStyleModel",
      "state": {
       "description_width": ""
      }
     },
     "23f1e5ebb5594ea2916fb8d31865b529": {
      "model_module": "@jupyter-widgets/controls",
      "model_module_version": "1.5.0",
      "model_name": "DescriptionStyleModel",
      "state": {
       "description_width": ""
      }
     },
     "2475345168c14c1ebf926c1491cd5500": {
      "model_module": "@jupyter-widgets/controls",
      "model_module_version": "1.5.0",
      "model_name": "ButtonStyleModel",
      "state": {}
     },
     "25a644e94d0649cb9ad0243dbbdb72d8": {
      "model_module": "@jupyter-widgets/base",
      "model_module_version": "1.2.0",
      "model_name": "LayoutModel",
      "state": {
       "visibility": "hidden"
      }
     },
     "26893043dc9f4dbab79688405cd9838a": {
      "model_module": "@jupyter-widgets/controls",
      "model_module_version": "1.5.0",
      "model_name": "VBoxModel",
      "state": {
       "children": [
        "IPY_MODEL_635341ae7c2f4aa090d47145d1136fff",
        "IPY_MODEL_ae94a697468643fd9de882603c29b6f7",
        "IPY_MODEL_a267670a80e24ac88ce4e7bb7f1c9bcd"
       ],
       "layout": "IPY_MODEL_a77e8ff2509e4203a439af365e5df532"
      }
     },
     "26a8a96406c348e59f67b974d42cce78": {
      "model_module": "@jupyter-widgets/controls",
      "model_module_version": "1.5.0",
      "model_name": "DescriptionStyleModel",
      "state": {
       "description_width": ""
      }
     },
     "26f5eb9323a747a186585173650bee8d": {
      "model_module": "@jupyter-widgets/controls",
      "model_module_version": "1.5.0",
      "model_name": "HBoxModel",
      "state": {
       "children": [
        "IPY_MODEL_1bc816a5f7fb4fbe89fc8605fea4b4b7",
        "IPY_MODEL_a02a1d207aaa4f159edd32e39b222dfc",
        "IPY_MODEL_9310f8e43d9d41549d75663b978371fd"
       ],
       "layout": "IPY_MODEL_b6acb69f8e4b44ad8176b395e623f52b"
      }
     },
     "27ab3ece3d614373b947bfb8fbf0bade": {
      "model_module": "@jupyter-widgets/controls",
      "model_module_version": "1.5.0",
      "model_name": "ButtonModel",
      "state": {
       "icon": "arrow-right",
       "layout": "IPY_MODEL_e7eb2014dc2c4c39b679b5872e417c15",
       "style": "IPY_MODEL_4c55601f4eee4103b25ba144706ab815"
      }
     },
     "2838843ba2f84db2a1ed021b1af34fde": {
      "model_module": "@jupyter-widgets/controls",
      "model_module_version": "1.5.0",
      "model_name": "ButtonModel",
      "state": {
       "icon": "arrow-right",
       "layout": "IPY_MODEL_69f82cee119b491bacd4a430e3969b58",
       "style": "IPY_MODEL_9c989fff0cb94695a283b0ecf910aef9"
      }
     },
     "2847d6195da142d48b6443da107a66c1": {
      "model_module": "@jupyter-widgets/base",
      "model_module_version": "1.2.0",
      "model_name": "LayoutModel",
      "state": {}
     },
     "28878d6f2ee844919a95d5758a4c278b": {
      "model_module": "@jupyter-widgets/controls",
      "model_module_version": "1.5.0",
      "model_name": "ValidModel",
      "state": {
       "layout": "IPY_MODEL_b0cba0200c8c48fb84d67c1a4be64389",
       "style": "IPY_MODEL_a8fca284b382483ca75187376462a392",
       "value": true
      }
     },
     "28c574c277e94cb6ad93c3bce215da6a": {
      "model_module": "@jupyter-widgets/base",
      "model_module_version": "1.2.0",
      "model_name": "LayoutModel",
      "state": {}
     },
     "2b5d46078d7740f1be88fa9f1fb3155c": {
      "model_module": "@jupyter-widgets/base",
      "model_module_version": "1.2.0",
      "model_name": "LayoutModel",
      "state": {}
     },
     "2c4d6297e7274762845abfde5be2e571": {
      "model_module": "@jupyter-widgets/base",
      "model_module_version": "1.2.0",
      "model_name": "LayoutModel",
      "state": {}
     },
     "2c69758daff949bc91f853e1651fe41f": {
      "model_module": "@jupyter-widgets/controls",
      "model_module_version": "1.5.0",
      "model_name": "DescriptionStyleModel",
      "state": {
       "description_width": ""
      }
     },
     "2d78b42e69c24f5d91001bbeb3d48a85": {
      "model_module": "@jupyter-widgets/controls",
      "model_module_version": "1.5.0",
      "model_name": "BoundedIntTextModel",
      "state": {
       "description": "Experiment:",
       "layout": "IPY_MODEL_3a5f521502484ba39c22d9cfb0df76b6",
       "style": "IPY_MODEL_34b08fbe4392482ea263a163fbb3c109"
      }
     },
     "2ec150df3ef94b06ad0ac165eda827f8": {
      "model_module": "@jupyter-widgets/controls",
      "model_module_version": "1.5.0",
      "model_name": "ValidModel",
      "state": {
       "layout": "IPY_MODEL_e4f2fd543ff440f8bf8250b9ab2cae70",
       "style": "IPY_MODEL_a3bdb30e828242d2ad7102fa1ecb9125",
       "value": true
      }
     },
     "2ec89b94fbb74bdba8886092e0af5adc": {
      "model_module": "@jupyter-widgets/base",
      "model_module_version": "1.2.0",
      "model_name": "LayoutModel",
      "state": {}
     },
     "2ee3e2d21d24460799359bb6957688a4": {
      "model_module": "@jupyter-widgets/controls",
      "model_module_version": "1.5.0",
      "model_name": "ButtonModel",
      "state": {
       "icon": "arrow-left",
       "layout": "IPY_MODEL_9392de2de6ca4cc9a27c361a6f724859",
       "style": "IPY_MODEL_4e96c9b0417f475d84f26e614981f07f"
      }
     },
     "2fc7a48ce2784bf790089315db236e9d": {
      "model_module": "@jupyter-widgets/base",
      "model_module_version": "1.2.0",
      "model_name": "LayoutModel",
      "state": {}
     },
     "30105dda925b47d6ba00712557871800": {
      "model_module": "@jupyter-widgets/controls",
      "model_module_version": "1.5.0",
      "model_name": "ButtonModel",
      "state": {
       "description": "Get Data",
       "layout": "IPY_MODEL_52bf0fbccaed4d6e9470a7d2e40226b5",
       "style": "IPY_MODEL_945fe26e2b1645d4aaae44f0068e555c"
      }
     },
     "30c298ff96144bc79ff59c4a2cb7cc57": {
      "model_module": "@jupyter-widgets/base",
      "model_module_version": "1.2.0",
      "model_name": "LayoutModel",
      "state": {}
     },
     "3247495e0e5941418da30ee2691f3d34": {
      "model_module": "@jupyter-widgets/base",
      "model_module_version": "1.2.0",
      "model_name": "LayoutModel",
      "state": {
       "width": "auto"
      }
     },
     "3266a486e1934260964bc5d28f5347e6": {
      "model_module": "@jupyter-widgets/controls",
      "model_module_version": "1.5.0",
      "model_name": "SelectMultipleModel",
      "state": {
       "_options_labels": [
        "Apples",
        "Oranges",
        "Pears"
       ],
       "description": "Fruits",
       "index": [
        1
       ],
       "layout": "IPY_MODEL_9992e316b9284683b5e06c048c3ad4ae",
       "rows": 5,
       "style": "IPY_MODEL_9143ea4666dc438f9a70ec75736d8606"
      }
     },
     "34243d856a004643ad6b086235c08b45": {
      "model_module": "@jupyter-widgets/base",
      "model_module_version": "1.2.0",
      "model_name": "LayoutModel",
      "state": {}
     },
     "3483550b09e148a7b4fb4b96d49ded10": {
      "model_module": "@jupyter-widgets/base",
      "model_module_version": "1.2.0",
      "model_name": "LayoutModel",
      "state": {}
     },
     "34b08fbe4392482ea263a163fbb3c109": {
      "model_module": "@jupyter-widgets/controls",
      "model_module_version": "1.5.0",
      "model_name": "DescriptionStyleModel",
      "state": {
       "description_width": ""
      }
     },
     "369d77f58a214cd888874e2d938a0a2b": {
      "model_module": "@jupyter-widgets/controls",
      "model_module_version": "1.5.0",
      "model_name": "SelectMultipleModel",
      "state": {
       "_options_labels": [
        "1",
        "2",
        "3",
        "4",
        "5",
        "6",
        "7",
        "8",
        "9",
        "10",
        "11",
        "12",
        "13",
        "14",
        "15",
        "16",
        "17",
        "18",
        "19",
        "20",
        "21",
        "22",
        "23",
        "24",
        "25",
        "26",
        "27",
        "28",
        "29",
        "30",
        "31",
        "32"
       ],
       "description": "Channels",
       "index": [
        0
       ],
       "layout": "IPY_MODEL_89b172078e774bc192eceb9725fd80c6",
       "rows": 5,
       "style": "IPY_MODEL_bb75cc9b4d7b4f1092590bf57c68ec91"
      }
     },
     "372f9f56b03f4d618b66ddabf73fa146": {
      "model_module": "@jupyter-widgets/controls",
      "model_module_version": "1.5.0",
      "model_name": "HBoxModel",
      "state": {
       "children": [
        "IPY_MODEL_0b4ab187e4434dfd8b71ef869fb894b1",
        "IPY_MODEL_af4a6b9b112942d2833698dddcce94a3"
       ],
       "layout": "IPY_MODEL_a0754953930d4cc18cb75c780eaaaa1a"
      }
     },
     "37496fb57f804cb8a2ae53e794c54801": {
      "model_module": "@jupyter-widgets/controls",
      "model_module_version": "1.5.0",
      "model_name": "IntRangeSliderModel",
      "state": {
       "_model_name": "IntRangeSliderModel",
       "_view_name": "IntRangeSliderView",
       "description": "Time Interval",
       "layout": "IPY_MODEL_bc044c3e9113487ba23751053a5d11be",
       "max": 50000,
       "style": "IPY_MODEL_cb531ad0a0b041488eccf7e275a70b5a",
       "value": [
        0,
        200
       ]
      }
     },
     "377e017b8fa74b65be5e22e120ce258d": {
      "model_module": "@jupyter-widgets/controls",
      "model_module_version": "1.5.0",
      "model_name": "DescriptionStyleModel",
      "state": {
       "description_width": ""
      }
     },
     "378b3661f7144e56ad37656b60c894ab": {
      "model_module": "@jupyter-widgets/controls",
      "model_module_version": "1.5.0",
      "model_name": "ButtonModel",
      "state": {
       "icon": "arrow-left",
       "layout": "IPY_MODEL_4554f0e1ea28432fad141155f364a478",
       "style": "IPY_MODEL_a872a45947a442f8a83208d71fe6edc1"
      }
     },
     "37aa32daac6f402d8362fbdeb2897f92": {
      "model_module": "@jupyter-widgets/controls",
      "model_module_version": "1.5.0",
      "model_name": "TextModel",
      "state": {
       "description": "File name",
       "layout": "IPY_MODEL_7f0ab34927014a19ad3cf181c7317e33",
       "style": "IPY_MODEL_c2f6f58f87794c59bfd1a64797656f45",
       "value": "2020-11-05-e-UCSF-axionplate"
      }
     },
     "37d61f9d6c1e46cfa1ff5dce34e26efe": {
      "model_module": "@jupyter-widgets/controls",
      "model_module_version": "1.5.0",
      "model_name": "ButtonModel",
      "state": {
       "description": "Plot",
       "layout": "IPY_MODEL_1ed22681230e4e8fbd1b3cc42fafa5ac",
       "style": "IPY_MODEL_081f163dfa77470f9fab0fc0a36a0983"
      }
     },
     "38b3a056e2fc47089f1cdde6eb76e1bf": {
      "model_module": "@jupyter-widgets/controls",
      "model_module_version": "1.5.0",
      "model_name": "SelectMultipleModel",
      "state": {
       "_options_labels": [
        "1",
        "2",
        "3",
        "4",
        "5",
        "6",
        "7",
        "8",
        "9",
        "10",
        "11",
        "12",
        "13",
        "14",
        "15",
        "16",
        "17",
        "18",
        "19",
        "20",
        "21",
        "22",
        "23",
        "24",
        "25",
        "26",
        "27",
        "28",
        "29",
        "30",
        "31",
        "32"
       ],
       "description": "Channels",
       "index": [
        0
       ],
       "layout": "IPY_MODEL_e5cd23d557e7426b8838d7c6f859a532",
       "rows": 5,
       "style": "IPY_MODEL_a2a338488492439a9a00235f5069f718"
      }
     },
     "39440573001641809e7bd6bdd9de6882": {
      "model_module": "@jupyter-widgets/base",
      "model_module_version": "1.2.0",
      "model_name": "LayoutModel",
      "state": {}
     },
     "399f1f3744ec402ebd8794ad822ee313": {
      "model_module": "@jupyter-widgets/base",
      "model_module_version": "1.2.0",
      "model_name": "LayoutModel",
      "state": {}
     },
     "3a5f521502484ba39c22d9cfb0df76b6": {
      "model_module": "@jupyter-widgets/base",
      "model_module_version": "1.2.0",
      "model_name": "LayoutModel",
      "state": {}
     },
     "3a624f8eebcb43ff886d679d351c851c": {
      "model_module": "@jupyter-widgets/base",
      "model_module_version": "1.2.0",
      "model_name": "LayoutModel",
      "state": {}
     },
     "3acda51fad354ff983caea1ddf31a4fe": {
      "model_module": "@jupyter-widgets/controls",
      "model_module_version": "1.5.0",
      "model_name": "HBoxModel",
      "state": {
       "children": [
        "IPY_MODEL_86c2906b794542f8b6b5ab8efc4a48a3",
        "IPY_MODEL_28878d6f2ee844919a95d5758a4c278b"
       ],
       "layout": "IPY_MODEL_554908ac81474366bc3972e8ad9cc8c3"
      }
     },
     "3c4156d253c74ff9bd3730d65d895bae": {
      "model_module": "@jupyter-widgets/base",
      "model_module_version": "1.2.0",
      "model_name": "LayoutModel",
      "state": {
       "width": "auto"
      }
     },
     "3c5196783edb439a89deb28b7c57d99a": {
      "model_module": "@jupyter-widgets/base",
      "model_module_version": "1.2.0",
      "model_name": "LayoutModel",
      "state": {}
     },
     "3d16142f2e3b4ca3b4dad55d0d3b16e1": {
      "model_module": "@jupyter-widgets/controls",
      "model_module_version": "1.5.0",
      "model_name": "DescriptionStyleModel",
      "state": {
       "description_width": ""
      }
     },
     "3d6d5de5d3f44956bda6b6f8873d6dc2": {
      "model_module": "@jupyter-widgets/base",
      "model_module_version": "1.2.0",
      "model_name": "LayoutModel",
      "state": {
       "visibility": "hidden"
      }
     },
     "3d8787414f0b42f2af6667cc98f10b4d": {
      "model_module": "@jupyter-widgets/controls",
      "model_module_version": "1.5.0",
      "model_name": "IntRangeSliderModel",
      "state": {
       "_model_name": "IntRangeSliderModel",
       "_view_name": "IntRangeSliderView",
       "description": "Time Interval",
       "layout": "IPY_MODEL_b1c402131b6c473e9302160ba76fcdbc",
       "max": 50000,
       "style": "IPY_MODEL_bd9ca8d40f024cfb867f83ea45c169b4",
       "value": [
        0,
        100
       ]
      }
     },
     "3dd600960d384c92ba3e58a757339a48": {
      "model_module": "@jupyter-widgets/base",
      "model_module_version": "1.2.0",
      "model_name": "LayoutModel",
      "state": {}
     },
     "3dde8368458742fe88792bacc3db0c15": {
      "model_module": "@jupyter-widgets/controls",
      "model_module_version": "1.5.0",
      "model_name": "SelectMultipleModel",
      "state": {
       "_options_labels": [
        "1",
        "2",
        "3",
        "4",
        "5",
        "6",
        "7",
        "8",
        "9",
        "10",
        "11",
        "12",
        "13",
        "14",
        "15",
        "16",
        "17",
        "18",
        "19",
        "20",
        "21",
        "22",
        "23",
        "24",
        "25",
        "26",
        "27",
        "28",
        "29",
        "30",
        "31",
        "32"
       ],
       "description": "Channels",
       "index": [
        1,
        3,
        7
       ],
       "layout": "IPY_MODEL_9ca52690cc024a8eac2b618e9bace9f1",
       "rows": 5,
       "style": "IPY_MODEL_377e017b8fa74b65be5e22e120ce258d"
      }
     },
     "3e7b157463bb4edfa9b19782e2e8ad9b": {
      "model_module": "@jupyter-widgets/base",
      "model_module_version": "1.2.0",
      "model_name": "LayoutModel",
      "state": {
       "width": "auto"
      }
     },
     "3ec4b333c0e7410c82484cb3b670b0ca": {
      "model_module": "@jupyter-widgets/controls",
      "model_module_version": "1.5.0",
      "model_name": "SelectMultipleModel",
      "state": {
       "_options_labels": [
        "Apples",
        "Oranges",
        "Pears"
       ],
       "description": "Fruits",
       "index": [
        1
       ],
       "layout": "IPY_MODEL_c97698de2741430bb4962c856bdf1d5d",
       "rows": 5,
       "style": "IPY_MODEL_b22b5440fcf64b18be2990ab34a20c5b"
      }
     },
     "3ff6d45b5be643618d4537ab51160e1a": {
      "model_module": "@jupyter-widgets/controls",
      "model_module_version": "1.5.0",
      "model_name": "ButtonStyleModel",
      "state": {}
     },
     "40695ae75ee44fdf8b7b516794e504b6": {
      "model_module": "@jupyter-widgets/controls",
      "model_module_version": "1.5.0",
      "model_name": "SliderStyleModel",
      "state": {
       "description_width": ""
      }
     },
     "40adcab8b6914416be9858769d66943b": {
      "model_module": "@jupyter-widgets/base",
      "model_module_version": "1.2.0",
      "model_name": "LayoutModel",
      "state": {}
     },
     "423d4c39ff4e4bf6a4b9752ef7b64d1d": {
      "model_module": "@jupyter-widgets/controls",
      "model_module_version": "1.5.0",
      "model_name": "DescriptionStyleModel",
      "state": {
       "description_width": ""
      }
     },
     "4255be6e1d014161b7f18e0b2ee43455": {
      "model_module": "@jupyter-widgets/controls",
      "model_module_version": "1.5.0",
      "model_name": "BoundedIntTextModel",
      "state": {
       "description": "Experiment:",
       "layout": "IPY_MODEL_5f3257c6f3404119afe0715090956760",
       "style": "IPY_MODEL_d26f2eb858d34d2988ea6e590e346890",
       "value": 2
      }
     },
     "438fed8c16b54cd59ffa4672a5e11ef0": {
      "model_module": "@jupyter-widgets/controls",
      "model_module_version": "1.5.0",
      "model_name": "SelectMultipleModel",
      "state": {
       "_options_labels": [
        "1",
        "2",
        "3",
        "4",
        "5",
        "6",
        "7",
        "8",
        "9",
        "10",
        "11",
        "12",
        "13",
        "14",
        "15",
        "16",
        "17",
        "18",
        "19",
        "20",
        "21",
        "22",
        "23",
        "24",
        "25",
        "26",
        "27",
        "28",
        "29",
        "30",
        "31",
        "32"
       ],
       "description": "Channels",
       "index": [
        0
       ],
       "layout": "IPY_MODEL_4999e9ee8d2547c7884660dd1470d2ba",
       "rows": 5,
       "style": "IPY_MODEL_cfa06f3598024ddab48c2934b9c86f91"
      }
     },
     "43c2742d5d1246fb8cc2f4d8e969b8bd": {
      "model_module": "@jupyter-widgets/controls",
      "model_module_version": "1.5.0",
      "model_name": "ButtonModel",
      "state": {
       "description": "Get Data",
       "layout": "IPY_MODEL_ee5c6af7d05742e385a548b29bed02f1",
       "style": "IPY_MODEL_0fd139ae2dc74fa1bfa7ae77903749fc"
      }
     },
     "45136983c56f469cb6f34dc41b1d0234": {
      "model_module": "@jupyter-widgets/controls",
      "model_module_version": "1.5.0",
      "model_name": "DescriptionStyleModel",
      "state": {
       "description_width": ""
      }
     },
     "4554f0e1ea28432fad141155f364a478": {
      "model_module": "@jupyter-widgets/base",
      "model_module_version": "1.2.0",
      "model_name": "LayoutModel",
      "state": {
       "width": "auto"
      }
     },
     "4703a4ccc29646af95400b4233a4fa24": {
      "model_module": "@jupyter-widgets/controls",
      "model_module_version": "1.5.0",
      "model_name": "ButtonModel",
      "state": {
       "description": "Get Data",
       "layout": "IPY_MODEL_09f8a47beb754d8ab948de93d7a76ff1",
       "style": "IPY_MODEL_f4eb72ad42794fdf95d4f6fc03a65a06"
      }
     },
     "4737ea5af178426e996d311283e19ce9": {
      "model_module": "@jupyter-widgets/base",
      "model_module_version": "1.2.0",
      "model_name": "LayoutModel",
      "state": {}
     },
     "47568e154d514460ab1a3fd4e2f30170": {
      "model_module": "@jupyter-widgets/controls",
      "model_module_version": "1.5.0",
      "model_name": "DescriptionStyleModel",
      "state": {
       "description_width": ""
      }
     },
     "476d10bbf96346f287a95f8d17ec2ac3": {
      "model_module": "@jupyter-widgets/base",
      "model_module_version": "1.2.0",
      "model_name": "LayoutModel",
      "state": {}
     },
     "479881ee554b4131a0011c45f3963e3f": {
      "model_module": "@jupyter-widgets/base",
      "model_module_version": "1.2.0",
      "model_name": "LayoutModel",
      "state": {}
     },
     "47ee13b1c9ca4234b297d1f374ee3238": {
      "model_module": "@jupyter-widgets/base",
      "model_module_version": "1.2.0",
      "model_name": "LayoutModel",
      "state": {}
     },
     "485bd8a3e0104dcc99d4a02bd9a2660a": {
      "model_module": "@jupyter-widgets/controls",
      "model_module_version": "1.5.0",
      "model_name": "BoundedIntTextModel",
      "state": {
       "description": "Experiment:",
       "layout": "IPY_MODEL_6056c7cf890d44b3afe7b7c517d47251",
       "style": "IPY_MODEL_85ecfbdb89dc48ad8f49dbb29e1ced8f",
       "value": 1
      }
     },
     "4999e9ee8d2547c7884660dd1470d2ba": {
      "model_module": "@jupyter-widgets/base",
      "model_module_version": "1.2.0",
      "model_name": "LayoutModel",
      "state": {}
     },
     "49b97ec4ad1942bdb77278734a541d91": {
      "model_module": "@jupyter-widgets/base",
      "model_module_version": "1.2.0",
      "model_name": "LayoutModel",
      "state": {}
     },
     "49f1711127e2453cbeb2be44da24c70d": {
      "model_module": "@jupyter-widgets/controls",
      "model_module_version": "1.5.0",
      "model_name": "SelectMultipleModel",
      "state": {
       "_options_labels": [
        "1",
        "2",
        "3",
        "4",
        "5",
        "6",
        "7",
        "8",
        "9",
        "10",
        "11",
        "12",
        "13",
        "14",
        "15",
        "16",
        "17",
        "18",
        "19",
        "20",
        "21",
        "22",
        "23",
        "24",
        "25",
        "26",
        "27",
        "28",
        "29",
        "30",
        "31",
        "32"
       ],
       "description": "Channels",
       "index": [
        0
       ],
       "layout": "IPY_MODEL_7d39b5bdf3824bdfb1f33817102c2a4a",
       "rows": 5,
       "style": "IPY_MODEL_acb95c92968e4184aa3bb32237f280e5"
      }
     },
     "4b0e928c2db64505b1cf242d0ec60339": {
      "model_module": "@jupyter-widgets/controls",
      "model_module_version": "1.5.0",
      "model_name": "ButtonModel",
      "state": {
       "disabled": true,
       "icon": "arrow-left",
       "layout": "IPY_MODEL_7902e39355e4469faeea84935aa19b72",
       "style": "IPY_MODEL_83543ba2c4224920a72dc052f70d88d2"
      }
     },
     "4bbe7e4f318d4e54957e874a7936edf2": {
      "model_module": "@jupyter-widgets/base",
      "model_module_version": "1.2.0",
      "model_name": "LayoutModel",
      "state": {}
     },
     "4c55601f4eee4103b25ba144706ab815": {
      "model_module": "@jupyter-widgets/controls",
      "model_module_version": "1.5.0",
      "model_name": "ButtonStyleModel",
      "state": {}
     },
     "4c8733d7275143d69693670ff5a95882": {
      "model_module": "@jupyter-widgets/controls",
      "model_module_version": "1.5.0",
      "model_name": "TextModel",
      "state": {
       "description": "File name",
       "layout": "IPY_MODEL_96a2ca35c54e4268a165c2cd098194b9",
       "style": "IPY_MODEL_45136983c56f469cb6f34dc41b1d0234",
       "value": "2020-11-05-e-UCSF-axionplate"
      }
     },
     "4cd8aa7722814c839271416dcade37e1": {
      "model_module": "@jupyter-widgets/base",
      "model_module_version": "1.2.0",
      "model_name": "LayoutModel",
      "state": {}
     },
     "4d5c784449514b92b3f300518b919514": {
      "model_module": "@jupyter-widgets/base",
      "model_module_version": "1.2.0",
      "model_name": "LayoutModel",
      "state": {}
     },
     "4dd83c9492424dabb133188d43f6ed96": {
      "model_module": "@jupyter-widgets/controls",
      "model_module_version": "1.5.0",
      "model_name": "SliderStyleModel",
      "state": {
       "description_width": ""
      }
     },
     "4e02b6ab49f04350b8361ca244131992": {
      "model_module": "@jupyter-widgets/controls",
      "model_module_version": "1.5.0",
      "model_name": "ButtonModel",
      "state": {
       "icon": "arrow-left",
       "layout": "IPY_MODEL_bd8e997703eb42018688a1151c9d1727",
       "style": "IPY_MODEL_967af8c584e3412b9f0e112a9a988890"
      }
     },
     "4e6097ae958f4fb784413e97fd7875cb": {
      "model_module": "@jupyter-widgets/base",
      "model_module_version": "1.2.0",
      "model_name": "LayoutModel",
      "state": {}
     },
     "4e96c9b0417f475d84f26e614981f07f": {
      "model_module": "@jupyter-widgets/controls",
      "model_module_version": "1.5.0",
      "model_name": "ButtonStyleModel",
      "state": {}
     },
     "4ef4dc117fa4426496f9522522724ea7": {
      "model_module": "@jupyter-widgets/base",
      "model_module_version": "1.2.0",
      "model_name": "LayoutModel",
      "state": {}
     },
     "4f3ec80dfc1b43998b9f2a97e39eb0eb": {
      "model_module": "@jupyter-widgets/base",
      "model_module_version": "1.2.0",
      "model_name": "LayoutModel",
      "state": {}
     },
     "50703d60dda64bf5bd4da3a54ac7a835": {
      "model_module": "@jupyter-widgets/controls",
      "model_module_version": "1.5.0",
      "model_name": "IntRangeSliderModel",
      "state": {
       "_model_name": "IntRangeSliderModel",
       "_view_name": "IntRangeSliderView",
       "description": "Time Interval",
       "layout": "IPY_MODEL_fe0acee3da934754a25faf39181f854b",
       "max": 50000,
       "style": "IPY_MODEL_a802822ae07c4b87ab73e66a87eaf4d7",
       "value": [
        0,
        200
       ]
      }
     },
     "507dc52faac9470088bb3310a41ee3d9": {
      "model_module": "@jupyter-widgets/controls",
      "model_module_version": "1.5.0",
      "model_name": "ButtonStyleModel",
      "state": {}
     },
     "50fe27fd41364806afb7658c53be66d9": {
      "model_module": "@jupyter-widgets/base",
      "model_module_version": "1.2.0",
      "model_name": "LayoutModel",
      "state": {}
     },
     "50ff134d3adb4532b4a3c1e170e562e0": {
      "model_module": "@jupyter-widgets/controls",
      "model_module_version": "1.5.0",
      "model_name": "DescriptionStyleModel",
      "state": {
       "description_width": ""
      }
     },
     "5103fe346b5e4a44bbd183668cbe232c": {
      "model_module": "@jupyter-widgets/base",
      "model_module_version": "1.2.0",
      "model_name": "LayoutModel",
      "state": {}
     },
     "516f5d65364b4f1691ffcc41247fdb8a": {
      "model_module": "@jupyter-widgets/controls",
      "model_module_version": "1.5.0",
      "model_name": "TextModel",
      "state": {
       "description": "File name",
       "layout": "IPY_MODEL_971a72f46d344aceb31203f1523207ae",
       "style": "IPY_MODEL_cc90a7ca4a234ffb8846b255f65026cd"
      }
     },
     "521dd87c7b9f49589ab72306ee628ec9": {
      "model_module": "@jupyter-widgets/base",
      "model_module_version": "1.2.0",
      "model_name": "LayoutModel",
      "state": {}
     },
     "52bf0fbccaed4d6e9470a7d2e40226b5": {
      "model_module": "@jupyter-widgets/base",
      "model_module_version": "1.2.0",
      "model_name": "LayoutModel",
      "state": {}
     },
     "532d1d30cce64259938d8a1628443ca6": {
      "model_module": "@jupyter-widgets/base",
      "model_module_version": "1.2.0",
      "model_name": "LayoutModel",
      "state": {}
     },
     "554908ac81474366bc3972e8ad9cc8c3": {
      "model_module": "@jupyter-widgets/base",
      "model_module_version": "1.2.0",
      "model_name": "LayoutModel",
      "state": {}
     },
     "557a502149ba4137a7ff944aefa087a1": {
      "model_module": "@jupyter-widgets/controls",
      "model_module_version": "1.5.0",
      "model_name": "VBoxModel",
      "state": {
       "children": [
        "IPY_MODEL_c19cb6a9498045568bc2269488d72d6a",
        "IPY_MODEL_f9e88c35b1e341dba5a42a7e398f1ead",
        "IPY_MODEL_59f94336f01c42fa8a53cfe33356e833"
       ],
       "layout": "IPY_MODEL_5103fe346b5e4a44bbd183668cbe232c"
      }
     },
     "55b2fc533740485ea4dea4ded5ce4876": {
      "model_module": "@jupyter-widgets/controls",
      "model_module_version": "1.5.0",
      "model_name": "SelectMultipleModel",
      "state": {
       "_options_labels": [
        "1",
        "2",
        "3",
        "4",
        "5",
        "6",
        "7",
        "8",
        "9",
        "10",
        "11",
        "12",
        "13",
        "14",
        "15",
        "16",
        "17",
        "18",
        "19",
        "20",
        "21",
        "22",
        "23",
        "24",
        "25",
        "26",
        "27",
        "28",
        "29",
        "30",
        "31",
        "32"
       ],
       "description": "Channels",
       "index": [
        1,
        2,
        4
       ],
       "layout": "IPY_MODEL_1f7bd90b8f9d4de4b1a696bb823ded3c",
       "rows": 5,
       "style": "IPY_MODEL_0fa6c0a0d3b348af92f13e9c585f91f0"
      }
     },
     "56dc317c3f5f4d1c83b60a8db12e46cc": {
      "model_module": "@jupyter-widgets/base",
      "model_module_version": "1.2.0",
      "model_name": "LayoutModel",
      "state": {}
     },
     "587797f5c1f7493cbd96853f86268cf2": {
      "model_module": "@jupyter-widgets/controls",
      "model_module_version": "1.5.0",
      "model_name": "ButtonModel",
      "state": {
       "description": "Plot",
       "layout": "IPY_MODEL_83277b98c26d4162bbc0f9eb08a9e0cd",
       "style": "IPY_MODEL_507dc52faac9470088bb3310a41ee3d9"
      }
     },
     "59957808a3c740dd8dbda6ae59811b9a": {
      "model_module": "@jupyter-widgets/base",
      "model_module_version": "1.2.0",
      "model_name": "LayoutModel",
      "state": {}
     },
     "599a6d3d6bc94fa58c7937f52b208a46": {
      "model_module": "@jupyter-widgets/base",
      "model_module_version": "1.2.0",
      "model_name": "LayoutModel",
      "state": {}
     },
     "59f94336f01c42fa8a53cfe33356e833": {
      "model_module": "@jupyter-widgets/controls",
      "model_module_version": "1.5.0",
      "model_name": "ButtonModel",
      "state": {
       "description": "Plot",
       "layout": "IPY_MODEL_7822351fc1664a90ba6ac0b3af5e5561",
       "style": "IPY_MODEL_f8e1f9ee8de14760b387500f4f0e4a37"
      }
     },
     "5a8b46f32fd04a7e8ff608ada1e258aa": {
      "model_module": "@jupyter-widgets/base",
      "model_module_version": "1.2.0",
      "model_name": "LayoutModel",
      "state": {}
     },
     "5cd9bb1f21344469a5c257de2eff87d2": {
      "model_module": "@jupyter-widgets/controls",
      "model_module_version": "1.5.0",
      "model_name": "SelectMultipleModel",
      "state": {
       "_options_labels": [
        "1",
        "2",
        "3",
        "4",
        "5",
        "6",
        "7",
        "8",
        "9",
        "10",
        "11",
        "12",
        "13",
        "14",
        "15",
        "16",
        "17",
        "18",
        "19",
        "20",
        "21",
        "22",
        "23",
        "24",
        "25",
        "26",
        "27",
        "28",
        "29",
        "30",
        "31",
        "32"
       ],
       "description": "Channels",
       "index": [
        1,
        4,
        8
       ],
       "layout": "IPY_MODEL_123db30c5359450796d2c88663495cee",
       "rows": 5,
       "style": "IPY_MODEL_d48ab6744df04cb2a690afcbee36bf9f"
      }
     },
     "5d39618aaf7047af83c9b1f18484927a": {
      "model_module": "@jupyter-widgets/controls",
      "model_module_version": "1.5.0",
      "model_name": "SelectMultipleModel",
      "state": {
       "_options_labels": [
        "Apples",
        "Oranges",
        "Pears"
       ],
       "description": "Fruits",
       "index": [
        1
       ],
       "layout": "IPY_MODEL_a036add8f5a74c95b1251a8139d5dde0",
       "rows": 5,
       "style": "IPY_MODEL_11596058dec04659b58915553cf88e72"
      }
     },
     "5d99bc1191f5445aa71fe9456ad3405a": {
      "model_module": "@jupyter-widgets/controls",
      "model_module_version": "1.5.0",
      "model_name": "BoundedIntTextModel",
      "state": {
       "description": "Experiment:",
       "layout": "IPY_MODEL_83209d5221b6440fa94906ff9d42bc7a",
       "style": "IPY_MODEL_69d29bbd8cfa4cafa19d393d5fec372e"
      }
     },
     "5dc9cfe5002c4facb0482ad3223f38b0": {
      "model_module": "@jupyter-widgets/controls",
      "model_module_version": "1.5.0",
      "model_name": "SelectMultipleModel",
      "state": {
       "_options_labels": [
        "1",
        "2",
        "3",
        "4",
        "5",
        "6",
        "7",
        "8",
        "9",
        "10",
        "11",
        "12",
        "13",
        "14",
        "15",
        "16",
        "17",
        "18",
        "19",
        "20",
        "21",
        "22",
        "23",
        "24",
        "25",
        "26",
        "27",
        "28",
        "29",
        "30",
        "31",
        "32"
       ],
       "description": "Channels",
       "index": [
        0
       ],
       "layout": "IPY_MODEL_e39d1173812a4d26855a3dedc0b37be9",
       "rows": 5,
       "style": "IPY_MODEL_91cb3a7ce03946e692f26a8040f66ea7"
      }
     },
     "5f3257c6f3404119afe0715090956760": {
      "model_module": "@jupyter-widgets/base",
      "model_module_version": "1.2.0",
      "model_name": "LayoutModel",
      "state": {}
     },
     "5f830b62c2704a2ba8d5b5cc02cc2574": {
      "model_module": "@jupyter-widgets/base",
      "model_module_version": "1.2.0",
      "model_name": "LayoutModel",
      "state": {}
     },
     "5fbe1df76053401eabf9d64cf84896cc": {
      "model_module": "@jupyter-widgets/controls",
      "model_module_version": "1.5.0",
      "model_name": "VBoxModel",
      "state": {
       "children": [
        "IPY_MODEL_516f5d65364b4f1691ffcc41247fdb8a",
        "IPY_MODEL_0a3ba1432d5646ccb71b08a8c7fdfcb2",
        "IPY_MODEL_a674c29938a849968d279a901a35fc32"
       ],
       "layout": "IPY_MODEL_09ce55f24b87466a8cf755968429eb38"
      }
     },
     "6056c7cf890d44b3afe7b7c517d47251": {
      "model_module": "@jupyter-widgets/base",
      "model_module_version": "1.2.0",
      "model_name": "LayoutModel",
      "state": {}
     },
     "6082df1429994e618ec2513e31a970be": {
      "model_module": "@jupyter-widgets/controls",
      "model_module_version": "1.5.0",
      "model_name": "TextModel",
      "state": {
       "description": "File name",
       "layout": "IPY_MODEL_4e6097ae958f4fb784413e97fd7875cb",
       "style": "IPY_MODEL_ef61d85bdbee4957957365566f257df1",
       "value": "2020-11-05-e-UCSF-axionplate"
      }
     },
     "60ece2ac8b8b455c913838c308a4bfb7": {
      "model_module": "@jupyter-widgets/controls",
      "model_module_version": "1.5.0",
      "model_name": "DescriptionStyleModel",
      "state": {
       "description_width": ""
      }
     },
     "60f7d740094b4d44a3bcb802df9d354c": {
      "model_module": "@jupyter-widgets/base",
      "model_module_version": "1.2.0",
      "model_name": "LayoutModel",
      "state": {}
     },
     "61937081268a40b9bc1285845b8722bd": {
      "model_module": "@jupyter-widgets/base",
      "model_module_version": "1.2.0",
      "model_name": "LayoutModel",
      "state": {}
     },
     "61f0d2abac2e4b24acab73560426ab25": {
      "model_module": "@jupyter-widgets/base",
      "model_module_version": "1.2.0",
      "model_name": "LayoutModel",
      "state": {}
     },
     "62161e1b507147babe9c12c157e8d7d5": {
      "model_module": "@jupyter-widgets/controls",
      "model_module_version": "1.5.0",
      "model_name": "VBoxModel",
      "state": {
       "children": [
        "IPY_MODEL_905d111533204491b0e7c2ea8853868b",
        "IPY_MODEL_dc7205e0c7d246d2ae9e9fbd0faa6e38",
        "IPY_MODEL_c6c865f0dc064948b34ee6cd0bd37bb7"
       ],
       "layout": "IPY_MODEL_6662da1d36cc4a8995036bcbf9c43ad0"
      }
     },
     "6299452c7c6e49689af13c30c4a9f473": {
      "model_module": "@jupyter-widgets/controls",
      "model_module_version": "1.5.0",
      "model_name": "ButtonModel",
      "state": {
       "icon": "arrow-right",
       "layout": "IPY_MODEL_0f854626c7364d20987f9b4ad6c83d5f",
       "style": "IPY_MODEL_01a5de7d173740cbbe50a1c12b6a8a02"
      }
     },
     "635341ae7c2f4aa090d47145d1136fff": {
      "model_module": "@jupyter-widgets/controls",
      "model_module_version": "1.5.0",
      "model_name": "IntRangeSliderModel",
      "state": {
       "_model_name": "IntRangeSliderModel",
       "_view_name": "IntRangeSliderView",
       "description": "Time Interval",
       "layout": "IPY_MODEL_ffc37df7eb7a43349cf92d7832ec1bc3",
       "max": 50000,
       "style": "IPY_MODEL_40695ae75ee44fdf8b7b516794e504b6",
       "value": [
        0,
        200
       ]
      }
     },
     "648745f3d6b8406ba23dfb095472af64": {
      "model_module": "@jupyter-widgets/controls",
      "model_module_version": "1.5.0",
      "model_name": "DescriptionStyleModel",
      "state": {
       "description_width": ""
      }
     },
     "657c89d19e2749b58637f9ee30daa59d": {
      "model_module": "@jupyter-widgets/controls",
      "model_module_version": "1.5.0",
      "model_name": "ButtonStyleModel",
      "state": {}
     },
     "6662da1d36cc4a8995036bcbf9c43ad0": {
      "model_module": "@jupyter-widgets/base",
      "model_module_version": "1.2.0",
      "model_name": "LayoutModel",
      "state": {}
     },
     "6779124b3e9f42e290fea344db948330": {
      "model_module": "@jupyter-widgets/controls",
      "model_module_version": "1.5.0",
      "model_name": "HBoxModel",
      "state": {
       "children": [
        "IPY_MODEL_4703a4ccc29646af95400b4233a4fa24",
        "IPY_MODEL_0dbacddcfa494d7a875ec5c313a22aa0"
       ],
       "layout": "IPY_MODEL_cda43f3707c74e4485d334c47e5a2107"
      }
     },
     "6795c050768343da9e549c2f025bf9b0": {
      "model_module": "@jupyter-widgets/controls",
      "model_module_version": "1.5.0",
      "model_name": "BoundedIntTextModel",
      "state": {
       "description": "Experiment:",
       "layout": "IPY_MODEL_ed59d81d2aaa4fb899d21c80e831abf3",
       "style": "IPY_MODEL_0864947503734ffd84ec55d2b035e044"
      }
     },
     "67961faf9cb644d791cc10846a95c0b0": {
      "model_module": "@jupyter-widgets/controls",
      "model_module_version": "1.5.0",
      "model_name": "SliderStyleModel",
      "state": {
       "description_width": ""
      }
     },
     "686336d285484ab68b8ecce63398c6b9": {
      "model_module": "@jupyter-widgets/base",
      "model_module_version": "1.2.0",
      "model_name": "LayoutModel",
      "state": {}
     },
     "69cd25934bea473c869ef921a9ee79e0": {
      "model_module": "@jupyter-widgets/base",
      "model_module_version": "1.2.0",
      "model_name": "LayoutModel",
      "state": {}
     },
     "69d29bbd8cfa4cafa19d393d5fec372e": {
      "model_module": "@jupyter-widgets/controls",
      "model_module_version": "1.5.0",
      "model_name": "DescriptionStyleModel",
      "state": {
       "description_width": ""
      }
     },
     "69ee2e44276446bd85918ec529880930": {
      "model_module": "@jupyter-widgets/controls",
      "model_module_version": "1.5.0",
      "model_name": "SelectMultipleModel",
      "state": {
       "_options_labels": [
        "Apples",
        "Oranges",
        "Pears"
       ],
       "description": "Fruits",
       "index": [
        1
       ],
       "layout": "IPY_MODEL_3c5196783edb439a89deb28b7c57d99a",
       "rows": 5,
       "style": "IPY_MODEL_11045c858bc64eb6a0fb2a1420d28fd9"
      }
     },
     "69f10b7f3bdf4805875841c5edd43962": {
      "model_module": "@jupyter-widgets/base",
      "model_module_version": "1.2.0",
      "model_name": "LayoutModel",
      "state": {}
     },
     "69f82cee119b491bacd4a430e3969b58": {
      "model_module": "@jupyter-widgets/base",
      "model_module_version": "1.2.0",
      "model_name": "LayoutModel",
      "state": {
       "width": "auto"
      }
     },
     "6ad3adb395954f938e7facfe7d0d2e7e": {
      "model_module": "@jupyter-widgets/base",
      "model_module_version": "1.2.0",
      "model_name": "LayoutModel",
      "state": {
       "width": "auto"
      }
     },
     "6b6e8d8fd30b4d08aa21c314ee802cbb": {
      "model_module": "@jupyter-widgets/controls",
      "model_module_version": "1.5.0",
      "model_name": "DescriptionStyleModel",
      "state": {
       "description_width": ""
      }
     },
     "6b9cc370a22b4d5cbb06c90de4dc76a3": {
      "model_module": "@jupyter-widgets/base",
      "model_module_version": "1.2.0",
      "model_name": "LayoutModel",
      "state": {}
     },
     "6baaacfca0f24e7a954a40e1170a94fb": {
      "model_module": "@jupyter-widgets/controls",
      "model_module_version": "1.5.0",
      "model_name": "IntRangeSliderModel",
      "state": {
       "_model_name": "IntRangeSliderModel",
       "_view_name": "IntRangeSliderView",
       "description": "Time Interval",
       "layout": "IPY_MODEL_bc25af4fc39b4be08fdabf190b4a84cc",
       "max": 50000,
       "style": "IPY_MODEL_b4c11c94df854b08bf42853b0e80a504",
       "value": [
        5000,
        34486
       ]
      }
     },
     "6c7d1df5d5614de6b2f8193157dfdde9": {
      "model_module": "@jupyter-widgets/base",
      "model_module_version": "1.2.0",
      "model_name": "LayoutModel",
      "state": {}
     },
     "6c820b7c099f4c919e0ec373a590b95c": {
      "model_module": "@jupyter-widgets/base",
      "model_module_version": "1.2.0",
      "model_name": "LayoutModel",
      "state": {
       "visibility": "hidden"
      }
     },
     "6e6f907ae0f3402d91ef8e1d141c548c": {
      "model_module": "@jupyter-widgets/controls",
      "model_module_version": "1.5.0",
      "model_name": "SelectMultipleModel",
      "state": {
       "_options_labels": [
        "1",
        "2",
        "3",
        "4",
        "5",
        "6",
        "7",
        "8",
        "9",
        "10",
        "11",
        "12",
        "13",
        "14",
        "15",
        "16",
        "17",
        "18",
        "19",
        "20",
        "21",
        "22",
        "23",
        "24",
        "25",
        "26",
        "27",
        "28",
        "29",
        "30",
        "31",
        "32"
       ],
       "description": "Channels",
       "index": [
        0
       ],
       "layout": "IPY_MODEL_2c4d6297e7274762845abfde5be2e571",
       "rows": 5,
       "style": "IPY_MODEL_bbdecec0b97846a0bbce00fb6c879d1e"
      }
     },
     "6eb0e8935e044baf9f5de353dce8f57e": {
      "model_module": "@jupyter-widgets/controls",
      "model_module_version": "1.5.0",
      "model_name": "HBoxModel",
      "state": {
       "children": [
        "IPY_MODEL_81c9ffde8c8340ae89224d93e5c55690",
        "IPY_MODEL_1e8718b31565442b8893f87a6c11f0a0"
       ],
       "layout": "IPY_MODEL_81f65a95c2c34e0dba57f32929c72d15"
      }
     },
     "6eee917237fe4ccdb321f1cc63118986": {
      "model_module": "@jupyter-widgets/controls",
      "model_module_version": "1.5.0",
      "model_name": "ButtonStyleModel",
      "state": {}
     },
     "6f2736216825429884cb6a4b3fd46d64": {
      "model_module": "@jupyter-widgets/controls",
      "model_module_version": "1.5.0",
      "model_name": "DescriptionStyleModel",
      "state": {
       "description_width": ""
      }
     },
     "6f512a8c29fd4dac85a0d570ee64f9db": {
      "model_module": "@jupyter-widgets/base",
      "model_module_version": "1.2.0",
      "model_name": "LayoutModel",
      "state": {}
     },
     "6f622008575f4967b2e74c68b42eecfa": {
      "model_module": "@jupyter-widgets/controls",
      "model_module_version": "1.5.0",
      "model_name": "DescriptionStyleModel",
      "state": {
       "description_width": ""
      }
     },
     "6f65ce832ca249db9abb054919f439df": {
      "model_module": "@jupyter-widgets/base",
      "model_module_version": "1.2.0",
      "model_name": "LayoutModel",
      "state": {
       "visibility": "hidden"
      }
     },
     "6fef5d2fbcae40fb8e49d2967e4391fe": {
      "model_module": "@jupyter-widgets/controls",
      "model_module_version": "1.5.0",
      "model_name": "ButtonStyleModel",
      "state": {}
     },
     "708bd82e0d474e57b5336f608cca86c1": {
      "model_module": "@jupyter-widgets/base",
      "model_module_version": "1.2.0",
      "model_name": "LayoutModel",
      "state": {}
     },
     "70e23b58bd284fc19518b629064f5938": {
      "model_module": "@jupyter-widgets/base",
      "model_module_version": "1.2.0",
      "model_name": "LayoutModel",
      "state": {
       "width": "auto"
      }
     },
     "71a2cc34285343a7976906a7c2ef17c4": {
      "model_module": "@jupyter-widgets/base",
      "model_module_version": "1.2.0",
      "model_name": "LayoutModel",
      "state": {}
     },
     "721f951e86e4411c9f1fa5d9c8c6aee9": {
      "model_module": "@jupyter-widgets/controls",
      "model_module_version": "1.5.0",
      "model_name": "IntRangeSliderModel",
      "state": {
       "_model_name": "IntRangeSliderModel",
       "_view_name": "IntRangeSliderView",
       "layout": "IPY_MODEL_479881ee554b4131a0011c45f3963e3f",
       "style": "IPY_MODEL_67961faf9cb644d791cc10846a95c0b0",
       "value": [
        25,
        75
       ]
      }
     },
     "73a6f64e31ef4c48a3bf3e017ea988dd": {
      "model_module": "@jupyter-widgets/controls",
      "model_module_version": "1.5.0",
      "model_name": "ValidModel",
      "state": {
       "layout": "IPY_MODEL_3d6d5de5d3f44956bda6b6f8873d6dc2",
       "style": "IPY_MODEL_93e5fc172a5741c6bd788bc41fea3e78",
       "value": true
      }
     },
     "742228fab52e4c2e82d1c839e2994639": {
      "model_module": "@jupyter-widgets/controls",
      "model_module_version": "1.5.0",
      "model_name": "ButtonStyleModel",
      "state": {}
     },
     "742b34aa7ed249bb8e3cbe5aa109d57a": {
      "model_module": "@jupyter-widgets/controls",
      "model_module_version": "1.5.0",
      "model_name": "ButtonModel",
      "state": {
       "description": "Plot",
       "layout": "IPY_MODEL_fb5030c75b7e47fb9cdae9580f3778c9",
       "style": "IPY_MODEL_6fef5d2fbcae40fb8e49d2967e4391fe"
      }
     },
     "74a3ddb9242448e2ba11c3af4ac200c7": {
      "model_module": "@jupyter-widgets/base",
      "model_module_version": "1.2.0",
      "model_name": "LayoutModel",
      "state": {
       "visibility": "hidden"
      }
     },
     "75bee240f8fe4fdab6d37f98ad213fa8": {
      "model_module": "@jupyter-widgets/controls",
      "model_module_version": "1.5.0",
      "model_name": "DescriptionStyleModel",
      "state": {
       "description_width": ""
      }
     },
     "75eb3f5e80bf46eebadf0102d02200a2": {
      "model_module": "@jupyter-widgets/base",
      "model_module_version": "1.2.0",
      "model_name": "LayoutModel",
      "state": {
       "width": "auto"
      }
     },
     "7646e6a2f22846c9a40a4c1533197294": {
      "model_module": "@jupyter-widgets/base",
      "model_module_version": "1.2.0",
      "model_name": "LayoutModel",
      "state": {}
     },
     "76dc7b22e0a84a62bc74cacc7b1370a5": {
      "model_module": "@jupyter-widgets/controls",
      "model_module_version": "1.5.0",
      "model_name": "ButtonModel",
      "state": {
       "description": "Get Data",
       "layout": "IPY_MODEL_399f1f3744ec402ebd8794ad822ee313",
       "style": "IPY_MODEL_f2397429b3f0441a8e8b301da0d13afb"
      }
     },
     "777db4aa2a654f63b8003ce7d4d5f491": {
      "model_module": "@jupyter-widgets/base",
      "model_module_version": "1.2.0",
      "model_name": "LayoutModel",
      "state": {
       "width": "auto"
      }
     },
     "7822351fc1664a90ba6ac0b3af5e5561": {
      "model_module": "@jupyter-widgets/base",
      "model_module_version": "1.2.0",
      "model_name": "LayoutModel",
      "state": {}
     },
     "7902e39355e4469faeea84935aa19b72": {
      "model_module": "@jupyter-widgets/base",
      "model_module_version": "1.2.0",
      "model_name": "LayoutModel",
      "state": {
       "width": "auto"
      }
     },
     "798bb9abbc574091b61de689f80f5ceb": {
      "model_module": "@jupyter-widgets/controls",
      "model_module_version": "1.5.0",
      "model_name": "SelectMultipleModel",
      "state": {
       "_options_labels": [
        "Apples",
        "Oranges",
        "Pears"
       ],
       "description": "Fruits",
       "index": [
        1
       ],
       "layout": "IPY_MODEL_be7c71bbdce0487c84d231fe3735571f",
       "rows": 5,
       "style": "IPY_MODEL_b17b77c9b9f145dca6bd41a948d7cab0"
      }
     },
     "79d818ff34e84c5ea28c09b2d33c2976": {
      "model_module": "@jupyter-widgets/controls",
      "model_module_version": "1.5.0",
      "model_name": "DescriptionStyleModel",
      "state": {
       "description_width": ""
      }
     },
     "7a528b3aeed54359a7b74fc653eb0a27": {
      "model_module": "@jupyter-widgets/controls",
      "model_module_version": "1.5.0",
      "model_name": "SelectMultipleModel",
      "state": {
       "_options_labels": [
        "1",
        "2",
        "3",
        "4",
        "5",
        "6",
        "7",
        "8",
        "9",
        "10",
        "11",
        "12",
        "13",
        "14",
        "15",
        "16",
        "17",
        "18",
        "19",
        "20",
        "21",
        "22",
        "23",
        "24",
        "25",
        "26",
        "27",
        "28",
        "29",
        "30",
        "31",
        "32"
       ],
       "description": "Channels",
       "index": [
        0
       ],
       "layout": "IPY_MODEL_61f0d2abac2e4b24acab73560426ab25",
       "rows": 5,
       "style": "IPY_MODEL_c939365b9b3c4ac29b260ef24d11dddf"
      }
     },
     "7b1620a9863b4dfa903e8e0265c00630": {
      "model_module": "@jupyter-widgets/controls",
      "model_module_version": "1.5.0",
      "model_name": "HBoxModel",
      "state": {
       "children": [
        "IPY_MODEL_0512bd3186c84a8783d2f4aaf0fdb77a",
        "IPY_MODEL_742b34aa7ed249bb8e3cbe5aa109d57a",
        "IPY_MODEL_9f50275e0ce54e8dbd648d90d0fa61b9"
       ],
       "layout": "IPY_MODEL_d5d5df88497542379823bd6a43970048"
      }
     },
     "7b5332d6afc2461a974f6f50e3afcf75": {
      "model_module": "@jupyter-widgets/controls",
      "model_module_version": "1.5.0",
      "model_name": "ButtonModel",
      "state": {
       "icon": "arrow-right",
       "layout": "IPY_MODEL_d957c0b7c3ac42cc9570299e11c76701",
       "style": "IPY_MODEL_7d25d2b330374013961b457b7e51ad06"
      }
     },
     "7c1253e5622a49e498d6e08f995909f0": {
      "model_module": "@jupyter-widgets/controls",
      "model_module_version": "1.5.0",
      "model_name": "DescriptionStyleModel",
      "state": {
       "description_width": ""
      }
     },
     "7c12bd025b3a4270adcacf23f9e09fbe": {
      "model_module": "@jupyter-widgets/controls",
      "model_module_version": "1.5.0",
      "model_name": "IntRangeSliderModel",
      "state": {
       "_model_name": "IntRangeSliderModel",
       "_view_name": "IntRangeSliderView",
       "layout": "IPY_MODEL_babf489324194371932f190e3f63592c",
       "style": "IPY_MODEL_c888019ce1394a72802bba7efdf2c89a",
       "value": [
        25,
        75
       ]
      }
     },
     "7d25d2b330374013961b457b7e51ad06": {
      "model_module": "@jupyter-widgets/controls",
      "model_module_version": "1.5.0",
      "model_name": "ButtonStyleModel",
      "state": {}
     },
     "7d39b5bdf3824bdfb1f33817102c2a4a": {
      "model_module": "@jupyter-widgets/base",
      "model_module_version": "1.2.0",
      "model_name": "LayoutModel",
      "state": {}
     },
     "7ea3f2e7e8374ed6998be70550cc30b1": {
      "model_module": "@jupyter-widgets/controls",
      "model_module_version": "1.5.0",
      "model_name": "SelectMultipleModel",
      "state": {
       "_options_labels": [
        "1",
        "2",
        "3",
        "4",
        "5",
        "6",
        "7",
        "8",
        "9",
        "10",
        "11",
        "12",
        "13",
        "14",
        "15",
        "16",
        "17",
        "18",
        "19",
        "20",
        "21",
        "22",
        "23",
        "24",
        "25",
        "26",
        "27",
        "28",
        "29",
        "30",
        "31",
        "32"
       ],
       "description": "Channels",
       "index": [
        0
       ],
       "layout": "IPY_MODEL_34243d856a004643ad6b086235c08b45",
       "rows": 5,
       "style": "IPY_MODEL_9b9f579a1c8f4cf981096dc7ce551895"
      }
     },
     "7f0ab34927014a19ad3cf181c7317e33": {
      "model_module": "@jupyter-widgets/base",
      "model_module_version": "1.2.0",
      "model_name": "LayoutModel",
      "state": {}
     },
     "7f27e52007334ad19e6fa76e2b09d474": {
      "model_module": "@jupyter-widgets/controls",
      "model_module_version": "1.5.0",
      "model_name": "SliderStyleModel",
      "state": {
       "description_width": ""
      }
     },
     "7f790208d49e40cdb98352dfa7395a71": {
      "model_module": "@jupyter-widgets/controls",
      "model_module_version": "1.5.0",
      "model_name": "ButtonStyleModel",
      "state": {}
     },
     "8030b18c54e74d6fa8823b57f321351e": {
      "model_module": "@jupyter-widgets/base",
      "model_module_version": "1.2.0",
      "model_name": "LayoutModel",
      "state": {}
     },
     "808e8cb806774543998ffd46adf1b9af": {
      "model_module": "@jupyter-widgets/controls",
      "model_module_version": "1.5.0",
      "model_name": "DescriptionStyleModel",
      "state": {
       "description_width": ""
      }
     },
     "81c9ffde8c8340ae89224d93e5c55690": {
      "model_module": "@jupyter-widgets/controls",
      "model_module_version": "1.5.0",
      "model_name": "ButtonModel",
      "state": {
       "description": "Get Data",
       "layout": "IPY_MODEL_521dd87c7b9f49589ab72306ee628ec9",
       "style": "IPY_MODEL_c109b345d83d4b98ac292224bdcf8113"
      }
     },
     "81f65a95c2c34e0dba57f32929c72d15": {
      "model_module": "@jupyter-widgets/base",
      "model_module_version": "1.2.0",
      "model_name": "LayoutModel",
      "state": {}
     },
     "822825ce44cc42468a0bfe2fbcfba118": {
      "model_module": "@jupyter-widgets/controls",
      "model_module_version": "1.5.0",
      "model_name": "SelectMultipleModel",
      "state": {
       "_options_labels": [
        "Apples",
        "Oranges",
        "Pears"
       ],
       "description": "Fruits",
       "index": [
        1
       ],
       "layout": "IPY_MODEL_fbfb153f05424093b674d0603f5a7638",
       "rows": 5,
       "style": "IPY_MODEL_fc7a946ea854415299db63319de12e6a"
      }
     },
     "831e452e80654e5c9bfad15c40c3cc9e": {
      "model_module": "@jupyter-widgets/base",
      "model_module_version": "1.2.0",
      "model_name": "LayoutModel",
      "state": {}
     },
     "83209d5221b6440fa94906ff9d42bc7a": {
      "model_module": "@jupyter-widgets/base",
      "model_module_version": "1.2.0",
      "model_name": "LayoutModel",
      "state": {}
     },
     "83277b98c26d4162bbc0f9eb08a9e0cd": {
      "model_module": "@jupyter-widgets/base",
      "model_module_version": "1.2.0",
      "model_name": "LayoutModel",
      "state": {}
     },
     "83543ba2c4224920a72dc052f70d88d2": {
      "model_module": "@jupyter-widgets/controls",
      "model_module_version": "1.5.0",
      "model_name": "ButtonStyleModel",
      "state": {}
     },
     "85ecfbdb89dc48ad8f49dbb29e1ced8f": {
      "model_module": "@jupyter-widgets/controls",
      "model_module_version": "1.5.0",
      "model_name": "DescriptionStyleModel",
      "state": {
       "description_width": ""
      }
     },
     "86c2906b794542f8b6b5ab8efc4a48a3": {
      "model_module": "@jupyter-widgets/controls",
      "model_module_version": "1.5.0",
      "model_name": "ButtonModel",
      "state": {
       "description": "Get Data",
       "layout": "IPY_MODEL_bd7be1ecff6e4e41a1c4df2848c748ca",
       "style": "IPY_MODEL_af3e12de64b747738db3f4ec7700d57d"
      }
     },
     "86cad27bc90a42a59ae247deeb334286": {
      "model_module": "@jupyter-widgets/controls",
      "model_module_version": "1.5.0",
      "model_name": "ButtonStyleModel",
      "state": {}
     },
     "874278fbebe546d4b2bf683e992638cc": {
      "model_module": "@jupyter-widgets/controls",
      "model_module_version": "1.5.0",
      "model_name": "HBoxModel",
      "state": {
       "children": [
        "IPY_MODEL_30105dda925b47d6ba00712557871800",
        "IPY_MODEL_73a6f64e31ef4c48a3bf3e017ea988dd"
       ],
       "layout": "IPY_MODEL_a38fd8d1c8804aa2a3ce32b31b65f089"
      }
     },
     "8773f7ee5a0f484c80e7f89e34c224e0": {
      "model_module": "@jupyter-widgets/controls",
      "model_module_version": "1.5.0",
      "model_name": "ValidModel",
      "state": {
       "layout": "IPY_MODEL_25a644e94d0649cb9ad0243dbbdb72d8",
       "style": "IPY_MODEL_ce6ab2d1a636475a9cc06a1ce8075f0b",
       "value": true
      }
     },
     "88319bcb901346ab9abcc6b9a704b194": {
      "model_module": "@jupyter-widgets/controls",
      "model_module_version": "1.5.0",
      "model_name": "HBoxModel",
      "state": {
       "children": [
        "IPY_MODEL_e7bdfa28178648e1b7f670a018cf4bf6",
        "IPY_MODEL_587797f5c1f7493cbd96853f86268cf2",
        "IPY_MODEL_baa20a050d04434d9d10dc8e5aed67ed"
       ],
       "layout": "IPY_MODEL_abc1c2d0a44d4bacb1aa96402e4f78ef"
      }
     },
     "88c4d6b952d841368f2be8deda5e8811": {
      "model_module": "@jupyter-widgets/controls",
      "model_module_version": "1.5.0",
      "model_name": "BoundedIntTextModel",
      "state": {
       "description": "Experiment:",
       "layout": "IPY_MODEL_b0440de2e8024415b667ba95c363802e",
       "style": "IPY_MODEL_423d4c39ff4e4bf6a4b9752ef7b64d1d",
       "value": 2
      }
     },
     "893185adb9ef4f3bba9e4df8ae8c78dc": {
      "model_module": "@jupyter-widgets/controls",
      "model_module_version": "1.5.0",
      "model_name": "SliderStyleModel",
      "state": {
       "description_width": ""
      }
     },
     "895804084e514fdfb05561518e763185": {
      "model_module": "@jupyter-widgets/base",
      "model_module_version": "1.2.0",
      "model_name": "LayoutModel",
      "state": {}
     },
     "89b172078e774bc192eceb9725fd80c6": {
      "model_module": "@jupyter-widgets/base",
      "model_module_version": "1.2.0",
      "model_name": "LayoutModel",
      "state": {}
     },
     "8a1d5d8d7dba4ec69475e752c152755c": {
      "model_module": "@jupyter-widgets/controls",
      "model_module_version": "1.5.0",
      "model_name": "HBoxModel",
      "state": {
       "children": [
        "IPY_MODEL_2ee3e2d21d24460799359bb6957688a4",
        "IPY_MODEL_37d61f9d6c1e46cfa1ff5dce34e26efe",
        "IPY_MODEL_ddb8e2fcee894189a9cf64a21a27e55c"
       ],
       "layout": "IPY_MODEL_686336d285484ab68b8ecce63398c6b9"
      }
     },
     "8a4eabd70e0a49ec917eb61f1f8aaa26": {
      "model_module": "@jupyter-widgets/base",
      "model_module_version": "1.2.0",
      "model_name": "LayoutModel",
      "state": {
       "visibility": "hidden"
      }
     },
     "8acea5a026444a73baf43393f46c8216": {
      "model_module": "@jupyter-widgets/base",
      "model_module_version": "1.2.0",
      "model_name": "LayoutModel",
      "state": {
       "width": "auto"
      }
     },
     "8bcb1f7eb63e4897a7ccb2afbe31a632": {
      "model_module": "@jupyter-widgets/controls",
      "model_module_version": "1.5.0",
      "model_name": "ButtonStyleModel",
      "state": {}
     },
     "8c20eae9546d4003b8b59bea418d87fc": {
      "model_module": "@jupyter-widgets/base",
      "model_module_version": "1.2.0",
      "model_name": "LayoutModel",
      "state": {}
     },
     "8c9bd87c5e2f45f78538f83ec1450f32": {
      "model_module": "@jupyter-widgets/controls",
      "model_module_version": "1.5.0",
      "model_name": "SliderStyleModel",
      "state": {
       "description_width": ""
      }
     },
     "8dbf095fedc448ddaf81023b5da1a94e": {
      "model_module": "@jupyter-widgets/controls",
      "model_module_version": "1.5.0",
      "model_name": "ButtonModel",
      "state": {
       "icon": "arrow-left",
       "layout": "IPY_MODEL_6ad3adb395954f938e7facfe7d0d2e7e",
       "style": "IPY_MODEL_b4bdbfdb15db4d1c9380a9e8863e6bbc"
      }
     },
     "8f41ac27e0934c0e83761c02ea1a3175": {
      "model_module": "@jupyter-widgets/controls",
      "model_module_version": "1.5.0",
      "model_name": "DescriptionStyleModel",
      "state": {
       "description_width": ""
      }
     },
     "8f4d8f695d2446fdb277055be38f8c83": {
      "model_module": "@jupyter-widgets/controls",
      "model_module_version": "1.5.0",
      "model_name": "DescriptionStyleModel",
      "state": {
       "description_width": ""
      }
     },
     "9052d116a4b64222857b11d28bc70423": {
      "model_module": "@jupyter-widgets/controls",
      "model_module_version": "1.5.0",
      "model_name": "VBoxModel",
      "state": {
       "children": [
        "IPY_MODEL_220c11f42d6f4d5099a509a99447ddc9",
        "IPY_MODEL_3dde8368458742fe88792bacc3db0c15",
        "IPY_MODEL_01c21a78a941484dad1a6d8aa1594504"
       ],
       "layout": "IPY_MODEL_8c20eae9546d4003b8b59bea418d87fc"
      }
     },
     "905d111533204491b0e7c2ea8853868b": {
      "model_module": "@jupyter-widgets/controls",
      "model_module_version": "1.5.0",
      "model_name": "TextModel",
      "state": {
       "description": "File name",
       "layout": "IPY_MODEL_fbb4a9c85e4846f8a9dff9f14c112176",
       "style": "IPY_MODEL_8f41ac27e0934c0e83761c02ea1a3175",
       "value": "2020-11-05-e-UCSF-axionplate"
      }
     },
     "9143ea4666dc438f9a70ec75736d8606": {
      "model_module": "@jupyter-widgets/controls",
      "model_module_version": "1.5.0",
      "model_name": "DescriptionStyleModel",
      "state": {
       "description_width": ""
      }
     },
     "918b416555444ce2bb2d45a8dcdae345": {
      "model_module": "@jupyter-widgets/controls",
      "model_module_version": "1.5.0",
      "model_name": "VBoxModel",
      "state": {
       "children": [
        "IPY_MODEL_a5ede96abfc047adb2c9ca018abebb3e",
        "IPY_MODEL_c83117ce50234529bf9fb2965c19020f",
        "IPY_MODEL_051f8b18450c4d949a5c5272ea0d11da"
       ],
       "layout": "IPY_MODEL_bae103498a044fd58f94faf21c3e5bd1"
      }
     },
     "91cb3a7ce03946e692f26a8040f66ea7": {
      "model_module": "@jupyter-widgets/controls",
      "model_module_version": "1.5.0",
      "model_name": "DescriptionStyleModel",
      "state": {
       "description_width": ""
      }
     },
     "92e519523164440d9b61a4d7f4846690": {
      "model_module": "@jupyter-widgets/controls",
      "model_module_version": "1.5.0",
      "model_name": "TextModel",
      "state": {
       "description": "File name",
       "layout": "IPY_MODEL_0cbfbfba98e641268be2b27781a1fe09",
       "style": "IPY_MODEL_79d818ff34e84c5ea28c09b2d33c2976",
       "value": "2020-11-05-e-UCSF-axionplate"
      }
     },
     "9310f8e43d9d41549d75663b978371fd": {
      "model_module": "@jupyter-widgets/controls",
      "model_module_version": "1.5.0",
      "model_name": "ButtonModel",
      "state": {
       "icon": "arrow-right",
       "layout": "IPY_MODEL_8acea5a026444a73baf43393f46c8216",
       "style": "IPY_MODEL_86cad27bc90a42a59ae247deeb334286"
      }
     },
     "936f7b395ccc4dbd868b16c71999bde3": {
      "model_module": "@jupyter-widgets/controls",
      "model_module_version": "1.5.0",
      "model_name": "VBoxModel",
      "state": {
       "children": [
        "IPY_MODEL_1b21f183d9b94dffb773afd2b39ae7f4",
        "IPY_MODEL_2d78b42e69c24f5d91001bbeb3d48a85",
        "IPY_MODEL_6eb0e8935e044baf9f5de353dce8f57e"
       ],
       "layout": "IPY_MODEL_4737ea5af178426e996d311283e19ce9"
      }
     },
     "9392de2de6ca4cc9a27c361a6f724859": {
      "model_module": "@jupyter-widgets/base",
      "model_module_version": "1.2.0",
      "model_name": "LayoutModel",
      "state": {
       "width": "auto"
      }
     },
     "93e5fc172a5741c6bd788bc41fea3e78": {
      "model_module": "@jupyter-widgets/controls",
      "model_module_version": "1.5.0",
      "model_name": "DescriptionStyleModel",
      "state": {
       "description_width": ""
      }
     },
     "941d2371050445e8b0a3c030f0e950d5": {
      "model_module": "@jupyter-widgets/controls",
      "model_module_version": "1.5.0",
      "model_name": "SliderStyleModel",
      "state": {
       "description_width": ""
      }
     },
     "945fe26e2b1645d4aaae44f0068e555c": {
      "model_module": "@jupyter-widgets/controls",
      "model_module_version": "1.5.0",
      "model_name": "ButtonStyleModel",
      "state": {}
     },
     "9475d7f738b047a6bce79bb72c7c5407": {
      "model_module": "@jupyter-widgets/base",
      "model_module_version": "1.2.0",
      "model_name": "LayoutModel",
      "state": {}
     },
     "94d2a51fac114865b5c86e97c6957289": {
      "model_module": "@jupyter-widgets/controls",
      "model_module_version": "1.5.0",
      "model_name": "IntRangeSliderModel",
      "state": {
       "_model_name": "IntRangeSliderModel",
       "_view_name": "IntRangeSliderView",
       "description": "Time Interval",
       "layout": "IPY_MODEL_c17d8eaf35554213bbe05136aaecd7cc",
       "max": 50000,
       "style": "IPY_MODEL_8c9bd87c5e2f45f78538f83ec1450f32",
       "value": [
        17947,
        37468
       ]
      }
     },
     "95921c2c4c85486d8cf05aceb0711a14": {
      "model_module": "@jupyter-widgets/base",
      "model_module_version": "1.2.0",
      "model_name": "LayoutModel",
      "state": {}
     },
     "967af8c584e3412b9f0e112a9a988890": {
      "model_module": "@jupyter-widgets/controls",
      "model_module_version": "1.5.0",
      "model_name": "ButtonStyleModel",
      "state": {}
     },
     "96a2ca35c54e4268a165c2cd098194b9": {
      "model_module": "@jupyter-widgets/base",
      "model_module_version": "1.2.0",
      "model_name": "LayoutModel",
      "state": {}
     },
     "971a72f46d344aceb31203f1523207ae": {
      "model_module": "@jupyter-widgets/base",
      "model_module_version": "1.2.0",
      "model_name": "LayoutModel",
      "state": {}
     },
     "9992e316b9284683b5e06c048c3ad4ae": {
      "model_module": "@jupyter-widgets/base",
      "model_module_version": "1.2.0",
      "model_name": "LayoutModel",
      "state": {}
     },
     "99b18468af68432384744646409783ca": {
      "model_module": "@jupyter-widgets/base",
      "model_module_version": "1.2.0",
      "model_name": "LayoutModel",
      "state": {}
     },
     "9a30cdad32aa45a48bcb2e7fd0d8644e": {
      "model_module": "@jupyter-widgets/controls",
      "model_module_version": "1.5.0",
      "model_name": "ButtonStyleModel",
      "state": {}
     },
     "9afbe27f195f45a3b82f647ecc0abeb6": {
      "model_module": "@jupyter-widgets/controls",
      "model_module_version": "1.5.0",
      "model_name": "ButtonStyleModel",
      "state": {}
     },
     "9b9f579a1c8f4cf981096dc7ce551895": {
      "model_module": "@jupyter-widgets/controls",
      "model_module_version": "1.5.0",
      "model_name": "DescriptionStyleModel",
      "state": {
       "description_width": ""
      }
     },
     "9bf3f2e8b7a44b5a82eeb8b10e566c40": {
      "model_module": "@jupyter-widgets/controls",
      "model_module_version": "1.5.0",
      "model_name": "ButtonStyleModel",
      "state": {}
     },
     "9c989fff0cb94695a283b0ecf910aef9": {
      "model_module": "@jupyter-widgets/controls",
      "model_module_version": "1.5.0",
      "model_name": "ButtonStyleModel",
      "state": {}
     },
     "9ca52690cc024a8eac2b618e9bace9f1": {
      "model_module": "@jupyter-widgets/base",
      "model_module_version": "1.2.0",
      "model_name": "LayoutModel",
      "state": {}
     },
     "9ea7817e1c634e028d25a483a9f09a3e": {
      "model_module": "@jupyter-widgets/controls",
      "model_module_version": "1.5.0",
      "model_name": "ButtonStyleModel",
      "state": {}
     },
     "9ee1cf9bc38c4ec29a2f137f9baf31a2": {
      "model_module": "@jupyter-widgets/controls",
      "model_module_version": "1.5.0",
      "model_name": "VBoxModel",
      "state": {
       "children": [
        "IPY_MODEL_b34e268c94504bfcbbaaf7b9a379d4f9",
        "IPY_MODEL_7a528b3aeed54359a7b74fc653eb0a27",
        "IPY_MODEL_a82232316d1b404c8c81bf822526d27e"
       ],
       "layout": "IPY_MODEL_895804084e514fdfb05561518e763185"
      }
     },
     "9f50275e0ce54e8dbd648d90d0fa61b9": {
      "model_module": "@jupyter-widgets/controls",
      "model_module_version": "1.5.0",
      "model_name": "ButtonModel",
      "state": {
       "icon": "arrow-right",
       "layout": "IPY_MODEL_1c0d36a1697b4f89bbfc68f8f3ff2b20",
       "style": "IPY_MODEL_9a30cdad32aa45a48bcb2e7fd0d8644e"
      }
     },
     "a02a1d207aaa4f159edd32e39b222dfc": {
      "model_module": "@jupyter-widgets/controls",
      "model_module_version": "1.5.0",
      "model_name": "ButtonModel",
      "state": {
       "description": "Plot",
       "layout": "IPY_MODEL_064603f7dcf34f76a475c28d7bbdd653",
       "style": "IPY_MODEL_d64c32b8ef6c49b09309dfbbf97044b8"
      }
     },
     "a036add8f5a74c95b1251a8139d5dde0": {
      "model_module": "@jupyter-widgets/base",
      "model_module_version": "1.2.0",
      "model_name": "LayoutModel",
      "state": {}
     },
     "a0754953930d4cc18cb75c780eaaaa1a": {
      "model_module": "@jupyter-widgets/base",
      "model_module_version": "1.2.0",
      "model_name": "LayoutModel",
      "state": {}
     },
     "a094e081443145d3ac690c38dd8ab1a8": {
      "model_module": "@jupyter-widgets/base",
      "model_module_version": "1.2.0",
      "model_name": "LayoutModel",
      "state": {
       "width": "auto"
      }
     },
     "a0df4e6a456a433fb95f9a66522b3a11": {
      "model_module": "@jupyter-widgets/controls",
      "model_module_version": "1.5.0",
      "model_name": "DescriptionStyleModel",
      "state": {
       "description_width": ""
      }
     },
     "a216faf433d642959251654e96543f51": {
      "model_module": "@jupyter-widgets/controls",
      "model_module_version": "1.5.0",
      "model_name": "ValidModel",
      "state": {
       "layout": "IPY_MODEL_74a3ddb9242448e2ba11c3af4ac200c7",
       "style": "IPY_MODEL_1395467d20f1496b8f1b8ed3bbead75b",
       "value": true
      }
     },
     "a267670a80e24ac88ce4e7bb7f1c9bcd": {
      "model_module": "@jupyter-widgets/controls",
      "model_module_version": "1.5.0",
      "model_name": "ButtonModel",
      "state": {
       "description": "Plot",
       "layout": "IPY_MODEL_cc5d33ea05db425ab6b7a55710016ce1",
       "style": "IPY_MODEL_6eee917237fe4ccdb321f1cc63118986"
      }
     },
     "a2a338488492439a9a00235f5069f718": {
      "model_module": "@jupyter-widgets/controls",
      "model_module_version": "1.5.0",
      "model_name": "DescriptionStyleModel",
      "state": {
       "description_width": ""
      }
     },
     "a2f386b2b7fd4a9f9c54a1de2de2767b": {
      "model_module": "@jupyter-widgets/base",
      "model_module_version": "1.2.0",
      "model_name": "LayoutModel",
      "state": {}
     },
     "a38fd8d1c8804aa2a3ce32b31b65f089": {
      "model_module": "@jupyter-widgets/base",
      "model_module_version": "1.2.0",
      "model_name": "LayoutModel",
      "state": {}
     },
     "a3bdb30e828242d2ad7102fa1ecb9125": {
      "model_module": "@jupyter-widgets/controls",
      "model_module_version": "1.5.0",
      "model_name": "DescriptionStyleModel",
      "state": {
       "description_width": ""
      }
     },
     "a3cfd1089b6441f19af6906d3e3a21ee": {
      "model_module": "@jupyter-widgets/controls",
      "model_module_version": "1.5.0",
      "model_name": "DescriptionStyleModel",
      "state": {
       "description_width": ""
      }
     },
     "a42c3ac2df2c43938f9a0c2661154f32": {
      "model_module": "@jupyter-widgets/controls",
      "model_module_version": "1.5.0",
      "model_name": "ButtonModel",
      "state": {
       "icon": "arrow-right",
       "layout": "IPY_MODEL_b37c7bf2400c426593d66ac87cfe6420",
       "style": "IPY_MODEL_7f790208d49e40cdb98352dfa7395a71"
      }
     },
     "a4995c148d094598ae25b0c0263f84ea": {
      "model_module": "@jupyter-widgets/base",
      "model_module_version": "1.2.0",
      "model_name": "LayoutModel",
      "state": {}
     },
     "a5ede96abfc047adb2c9ca018abebb3e": {
      "model_module": "@jupyter-widgets/controls",
      "model_module_version": "1.5.0",
      "model_name": "TextModel",
      "state": {
       "description": "File name",
       "layout": "IPY_MODEL_bc844efb134a4d2894e875f53b0f7c46",
       "style": "IPY_MODEL_8f4d8f695d2446fdb277055be38f8c83"
      }
     },
     "a6642d92b54b4dcf9c12f9ade17aeb62": {
      "model_module": "@jupyter-widgets/controls",
      "model_module_version": "1.5.0",
      "model_name": "TextModel",
      "state": {
       "description": "File name",
       "layout": "IPY_MODEL_476d10bbf96346f287a95f8d17ec2ac3",
       "style": "IPY_MODEL_26a8a96406c348e59f67b974d42cce78",
       "value": "2020-11-05-e-UCSF-axionplate"
      }
     },
     "a674c29938a849968d279a901a35fc32": {
      "model_module": "@jupyter-widgets/controls",
      "model_module_version": "1.5.0",
      "model_name": "HBoxModel",
      "state": {
       "children": [
        "IPY_MODEL_f3ad2cc804e745a785c10e6c0f72f2b6",
        "IPY_MODEL_b15d146c433c477187102efa0f349f90"
       ],
       "layout": "IPY_MODEL_afafd4e114004673a19d9704e0b4d4ae"
      }
     },
     "a705ee71729242eba01c3d66034e37d6": {
      "model_module": "@jupyter-widgets/controls",
      "model_module_version": "1.5.0",
      "model_name": "DescriptionStyleModel",
      "state": {
       "description_width": ""
      }
     },
     "a770252dcd704d3694fcb3a566b8303d": {
      "model_module": "@jupyter-widgets/controls",
      "model_module_version": "1.5.0",
      "model_name": "IntRangeSliderModel",
      "state": {
       "_model_name": "IntRangeSliderModel",
       "_view_name": "IntRangeSliderView",
       "layout": "IPY_MODEL_ae45923e99184869acab22b9902ed837",
       "style": "IPY_MODEL_7f27e52007334ad19e6fa76e2b09d474",
       "value": [
        25,
        75
       ]
      }
     },
     "a77e8ff2509e4203a439af365e5df532": {
      "model_module": "@jupyter-widgets/base",
      "model_module_version": "1.2.0",
      "model_name": "LayoutModel",
      "state": {}
     },
     "a802822ae07c4b87ab73e66a87eaf4d7": {
      "model_module": "@jupyter-widgets/controls",
      "model_module_version": "1.5.0",
      "model_name": "SliderStyleModel",
      "state": {
       "description_width": ""
      }
     },
     "a815353bb98d4d8eb438f010c9caf819": {
      "model_module": "@jupyter-widgets/controls",
      "model_module_version": "1.5.0",
      "model_name": "HBoxModel",
      "state": {
       "children": [
        "IPY_MODEL_4e02b6ab49f04350b8361ca244131992",
        "IPY_MODEL_b23031d266624e068427718805c4e589",
        "IPY_MODEL_bf47ba0c792645d2a174f59018a14ddd"
       ],
       "layout": "IPY_MODEL_cb8ac5a790c14a2fb023149777929049"
      }
     },
     "a82232316d1b404c8c81bf822526d27e": {
      "model_module": "@jupyter-widgets/controls",
      "model_module_version": "1.5.0",
      "model_name": "ButtonModel",
      "state": {
       "description": "Plot",
       "layout": "IPY_MODEL_5a8b46f32fd04a7e8ff608ada1e258aa",
       "style": "IPY_MODEL_9ea7817e1c634e028d25a483a9f09a3e"
      }
     },
     "a834de1b0fe44c09ad75017f2462a638": {
      "model_module": "@jupyter-widgets/base",
      "model_module_version": "1.2.0",
      "model_name": "LayoutModel",
      "state": {}
     },
     "a872a45947a442f8a83208d71fe6edc1": {
      "model_module": "@jupyter-widgets/controls",
      "model_module_version": "1.5.0",
      "model_name": "ButtonStyleModel",
      "state": {}
     },
     "a8fca284b382483ca75187376462a392": {
      "model_module": "@jupyter-widgets/controls",
      "model_module_version": "1.5.0",
      "model_name": "DescriptionStyleModel",
      "state": {
       "description_width": ""
      }
     },
     "a9579d3e1b2a48ea9e89d2487a360bb3": {
      "model_module": "@jupyter-widgets/base",
      "model_module_version": "1.2.0",
      "model_name": "LayoutModel",
      "state": {}
     },
     "a9eeeb2b0c824c95a14b4db206816f2c": {
      "model_module": "@jupyter-widgets/controls",
      "model_module_version": "1.5.0",
      "model_name": "SelectMultipleModel",
      "state": {
       "_options_labels": [
        "1",
        "2",
        "3",
        "4",
        "5",
        "6",
        "7",
        "8",
        "9",
        "10",
        "11",
        "12",
        "13",
        "14",
        "15",
        "16",
        "17",
        "18",
        "19",
        "20",
        "21",
        "22",
        "23",
        "24",
        "25",
        "26",
        "27",
        "28",
        "29",
        "30",
        "31",
        "32"
       ],
       "description": "Channels",
       "index": [
        0
       ],
       "layout": "IPY_MODEL_fd6ee407497346b895eda13e41d1d6cb",
       "rows": 5,
       "style": "IPY_MODEL_23452a96b84941c3bf2d76a9d134652e"
      }
     },
     "aa9e7da5f5fd47dc8152e91b4afe6d14": {
      "model_module": "@jupyter-widgets/base",
      "model_module_version": "1.2.0",
      "model_name": "LayoutModel",
      "state": {}
     },
     "aaf8e06e56e14d4680cd87ecf17ba8f4": {
      "model_module": "@jupyter-widgets/controls",
      "model_module_version": "1.5.0",
      "model_name": "ValidModel",
      "state": {
       "layout": "IPY_MODEL_6f65ce832ca249db9abb054919f439df",
       "style": "IPY_MODEL_c3c7e0c71ebf42ed9291c7b975c02a4a",
       "value": true
      }
     },
     "ab852d1f3f16499bb0875330383fed82": {
      "model_module": "@jupyter-widgets/controls",
      "model_module_version": "1.5.0",
      "model_name": "ButtonStyleModel",
      "state": {}
     },
     "abc1c2d0a44d4bacb1aa96402e4f78ef": {
      "model_module": "@jupyter-widgets/base",
      "model_module_version": "1.2.0",
      "model_name": "LayoutModel",
      "state": {}
     },
     "acb95c92968e4184aa3bb32237f280e5": {
      "model_module": "@jupyter-widgets/controls",
      "model_module_version": "1.5.0",
      "model_name": "DescriptionStyleModel",
      "state": {
       "description_width": ""
      }
     },
     "aceb5602022f40e8a8accbc5d6668de3": {
      "model_module": "@jupyter-widgets/controls",
      "model_module_version": "1.5.0",
      "model_name": "DescriptionStyleModel",
      "state": {
       "description_width": ""
      }
     },
     "ad784a7c52a1458bb28cd08746f7a1ec": {
      "model_module": "@jupyter-widgets/controls",
      "model_module_version": "1.5.0",
      "model_name": "SelectMultipleModel",
      "state": {
       "_options_labels": [
        "1",
        "2",
        "3",
        "4",
        "5",
        "6",
        "7",
        "8",
        "9",
        "10",
        "11",
        "12",
        "13",
        "14",
        "15",
        "16",
        "17",
        "18",
        "19",
        "20",
        "21",
        "22",
        "23",
        "24",
        "25",
        "26",
        "27",
        "28",
        "29",
        "30",
        "31",
        "32"
       ],
       "description": "Channels",
       "index": [
        0
       ],
       "layout": "IPY_MODEL_05fc679e7b7e40a495fa6015c38f0f4c",
       "rows": 5,
       "style": "IPY_MODEL_aceb5602022f40e8a8accbc5d6668de3"
      }
     },
     "adc8b01e76e54a24b7c822ae9e4e6dc1": {
      "model_module": "@jupyter-widgets/controls",
      "model_module_version": "1.5.0",
      "model_name": "TextModel",
      "state": {
       "description": "File name",
       "layout": "IPY_MODEL_3dd600960d384c92ba3e58a757339a48",
       "style": "IPY_MODEL_a3cfd1089b6441f19af6906d3e3a21ee"
      }
     },
     "adede103a56246bdb21f776f9f9d6d8b": {
      "model_module": "@jupyter-widgets/controls",
      "model_module_version": "1.5.0",
      "model_name": "SelectMultipleModel",
      "state": {
       "_options_labels": [
        "1",
        "2",
        "3",
        "4",
        "5",
        "6",
        "7",
        "8",
        "9",
        "10",
        "11",
        "12",
        "13",
        "14",
        "15",
        "16",
        "17",
        "18",
        "19",
        "20",
        "21",
        "22",
        "23",
        "24",
        "25",
        "26",
        "27",
        "28",
        "29",
        "30",
        "31",
        "32"
       ],
       "description": "Channels",
       "index": [
        0
       ],
       "layout": "IPY_MODEL_2847d6195da142d48b6443da107a66c1",
       "rows": 5,
       "style": "IPY_MODEL_6f2736216825429884cb6a4b3fd46d64"
      }
     },
     "ae45923e99184869acab22b9902ed837": {
      "model_module": "@jupyter-widgets/base",
      "model_module_version": "1.2.0",
      "model_name": "LayoutModel",
      "state": {}
     },
     "ae661b79ef8e4f8e86f340bd44f520a6": {
      "model_module": "@jupyter-widgets/controls",
      "model_module_version": "1.5.0",
      "model_name": "SliderStyleModel",
      "state": {
       "description_width": ""
      }
     },
     "ae94a697468643fd9de882603c29b6f7": {
      "model_module": "@jupyter-widgets/controls",
      "model_module_version": "1.5.0",
      "model_name": "SelectMultipleModel",
      "state": {
       "_options_labels": [
        "1",
        "2",
        "3",
        "4",
        "5",
        "6",
        "7",
        "8",
        "9",
        "10",
        "11",
        "12",
        "13",
        "14",
        "15",
        "16",
        "17",
        "18",
        "19",
        "20",
        "21",
        "22",
        "23",
        "24",
        "25",
        "26",
        "27",
        "28",
        "29",
        "30",
        "31",
        "32"
       ],
       "description": "Channels",
       "index": [
        0
       ],
       "layout": "IPY_MODEL_d780b304c6934112b64daffc0f9b2f1e",
       "rows": 5,
       "style": "IPY_MODEL_50ff134d3adb4532b4a3c1e170e562e0"
      }
     },
     "af37a5e9ab604be4a2d64a1df04b3167": {
      "model_module": "@jupyter-widgets/controls",
      "model_module_version": "1.5.0",
      "model_name": "ButtonModel",
      "state": {
       "description": "Plot",
       "layout": "IPY_MODEL_040b7c52e58f41798c45bdf02876aa02",
       "style": "IPY_MODEL_16ef037bcc074043bdf67736f9ea487b"
      }
     },
     "af3e12de64b747738db3f4ec7700d57d": {
      "model_module": "@jupyter-widgets/controls",
      "model_module_version": "1.5.0",
      "model_name": "ButtonStyleModel",
      "state": {}
     },
     "af4a6b9b112942d2833698dddcce94a3": {
      "model_module": "@jupyter-widgets/controls",
      "model_module_version": "1.5.0",
      "model_name": "ValidModel",
      "state": {
       "layout": "IPY_MODEL_bba51e5d72b644aea2732677424e1576",
       "style": "IPY_MODEL_d296a5602d6f4b38a76c36c3aea0d081",
       "value": true
      }
     },
     "afafd4e114004673a19d9704e0b4d4ae": {
      "model_module": "@jupyter-widgets/base",
      "model_module_version": "1.2.0",
      "model_name": "LayoutModel",
      "state": {}
     },
     "afed1442844e47d1ad40e6f2109b7af7": {
      "model_module": "@jupyter-widgets/controls",
      "model_module_version": "1.5.0",
      "model_name": "DescriptionStyleModel",
      "state": {
       "description_width": ""
      }
     },
     "aff92fae27b347fc934425452e8e2a8a": {
      "model_module": "@jupyter-widgets/base",
      "model_module_version": "1.2.0",
      "model_name": "LayoutModel",
      "state": {}
     },
     "b00f9b07cb2541478a74958841eb4825": {
      "model_module": "@jupyter-widgets/controls",
      "model_module_version": "1.5.0",
      "model_name": "VBoxModel",
      "state": {
       "children": [
        "IPY_MODEL_dfe31b85462f4b28a26cb73efe701151",
        "IPY_MODEL_cdfbdada579549029ab3eb0c575fcfde",
        "IPY_MODEL_3acda51fad354ff983caea1ddf31a4fe"
       ],
       "layout": "IPY_MODEL_b0e2c33502574cbea416acbc4eaeec20"
      }
     },
     "b0440de2e8024415b667ba95c363802e": {
      "model_module": "@jupyter-widgets/base",
      "model_module_version": "1.2.0",
      "model_name": "LayoutModel",
      "state": {}
     },
     "b0cba0200c8c48fb84d67c1a4be64389": {
      "model_module": "@jupyter-widgets/base",
      "model_module_version": "1.2.0",
      "model_name": "LayoutModel",
      "state": {
       "visibility": "hidden"
      }
     },
     "b0e2c33502574cbea416acbc4eaeec20": {
      "model_module": "@jupyter-widgets/base",
      "model_module_version": "1.2.0",
      "model_name": "LayoutModel",
      "state": {}
     },
     "b15d146c433c477187102efa0f349f90": {
      "model_module": "@jupyter-widgets/controls",
      "model_module_version": "1.5.0",
      "model_name": "ValidModel",
      "state": {
       "layout": "IPY_MODEL_1469b90c85714f218b445a0109f29fe8",
       "style": "IPY_MODEL_47568e154d514460ab1a3fd4e2f30170",
       "value": true
      }
     },
     "b17b77c9b9f145dca6bd41a948d7cab0": {
      "model_module": "@jupyter-widgets/controls",
      "model_module_version": "1.5.0",
      "model_name": "DescriptionStyleModel",
      "state": {
       "description_width": ""
      }
     },
     "b190982ed2d44be3ae9e6d4a0274835f": {
      "model_module": "@jupyter-widgets/base",
      "model_module_version": "1.2.0",
      "model_name": "LayoutModel",
      "state": {}
     },
     "b1c402131b6c473e9302160ba76fcdbc": {
      "model_module": "@jupyter-widgets/base",
      "model_module_version": "1.2.0",
      "model_name": "LayoutModel",
      "state": {}
     },
     "b1f8ec56d6aa4adab6e0d35b513befe1": {
      "model_module": "@jupyter-widgets/controls",
      "model_module_version": "1.5.0",
      "model_name": "DescriptionStyleModel",
      "state": {
       "description_width": ""
      }
     },
     "b22b5440fcf64b18be2990ab34a20c5b": {
      "model_module": "@jupyter-widgets/controls",
      "model_module_version": "1.5.0",
      "model_name": "DescriptionStyleModel",
      "state": {
       "description_width": ""
      }
     },
     "b23031d266624e068427718805c4e589": {
      "model_module": "@jupyter-widgets/controls",
      "model_module_version": "1.5.0",
      "model_name": "ButtonModel",
      "state": {
       "description": "Plot",
       "layout": "IPY_MODEL_8030b18c54e74d6fa8823b57f321351e",
       "style": "IPY_MODEL_742228fab52e4c2e82d1c839e2994639"
      }
     },
     "b2a8c742b3f54f8d88829ef8842264a1": {
      "model_module": "@jupyter-widgets/controls",
      "model_module_version": "1.5.0",
      "model_name": "DescriptionStyleModel",
      "state": {
       "description_width": ""
      }
     },
     "b33a9888c346468ea635c52ecc886faf": {
      "model_module": "@jupyter-widgets/controls",
      "model_module_version": "1.5.0",
      "model_name": "IntRangeSliderModel",
      "state": {
       "_model_name": "IntRangeSliderModel",
       "_view_name": "IntRangeSliderView",
       "description": "Time Interval",
       "layout": "IPY_MODEL_2b5d46078d7740f1be88fa9f1fb3155c",
       "max": 50000,
       "style": "IPY_MODEL_4dd83c9492424dabb133188d43f6ed96",
       "value": [
        9435,
        28671
       ]
      }
     },
     "b3402e183e3c4b9ba9d32b0e2c88976e": {
      "model_module": "@jupyter-widgets/base",
      "model_module_version": "1.2.0",
      "model_name": "LayoutModel",
      "state": {}
     },
     "b34e268c94504bfcbbaaf7b9a379d4f9": {
      "model_module": "@jupyter-widgets/controls",
      "model_module_version": "1.5.0",
      "model_name": "IntRangeSliderModel",
      "state": {
       "_model_name": "IntRangeSliderModel",
       "_view_name": "IntRangeSliderView",
       "description": "Time Interval",
       "layout": "IPY_MODEL_50fe27fd41364806afb7658c53be66d9",
       "max": 50000,
       "style": "IPY_MODEL_ae661b79ef8e4f8e86f340bd44f520a6",
       "value": [
        0,
        200
       ]
      }
     },
     "b37c7bf2400c426593d66ac87cfe6420": {
      "model_module": "@jupyter-widgets/base",
      "model_module_version": "1.2.0",
      "model_name": "LayoutModel",
      "state": {
       "width": "auto"
      }
     },
     "b492a6b1bd614e4eb08d159cf0e04812": {
      "model_module": "@jupyter-widgets/base",
      "model_module_version": "1.2.0",
      "model_name": "LayoutModel",
      "state": {}
     },
     "b4bdbfdb15db4d1c9380a9e8863e6bbc": {
      "model_module": "@jupyter-widgets/controls",
      "model_module_version": "1.5.0",
      "model_name": "ButtonStyleModel",
      "state": {}
     },
     "b4c11c94df854b08bf42853b0e80a504": {
      "model_module": "@jupyter-widgets/controls",
      "model_module_version": "1.5.0",
      "model_name": "SliderStyleModel",
      "state": {
       "description_width": ""
      }
     },
     "b541304cf7b2432dbf85111fe6a66ed9": {
      "model_module": "@jupyter-widgets/controls",
      "model_module_version": "1.5.0",
      "model_name": "SelectMultipleModel",
      "state": {
       "_options_labels": [
        "Apples",
        "Oranges",
        "Pears"
       ],
       "description": "Fruits",
       "index": [
        1
       ],
       "layout": "IPY_MODEL_28c574c277e94cb6ad93c3bce215da6a",
       "rows": 5,
       "style": "IPY_MODEL_afed1442844e47d1ad40e6f2109b7af7"
      }
     },
     "b5bc1c267e3d460c8268201ed2b5c6aa": {
      "model_module": "@jupyter-widgets/controls",
      "model_module_version": "1.5.0",
      "model_name": "ButtonModel",
      "state": {
       "description": "Plot",
       "layout": "IPY_MODEL_19f9bd7cb2294b0ca26ac6d90ea5ca7b",
       "style": "IPY_MODEL_ff1dd03431b84edbaed4115995dcb604"
      }
     },
     "b640408f114e440cbd0a892f24154f33": {
      "model_module": "@jupyter-widgets/controls",
      "model_module_version": "1.5.0",
      "model_name": "VBoxModel",
      "state": {
       "children": [
        "IPY_MODEL_4c8733d7275143d69693670ff5a95882",
        "IPY_MODEL_88c4d6b952d841368f2be8deda5e8811",
        "IPY_MODEL_372f9f56b03f4d618b66ddabf73fa146"
       ],
       "layout": "IPY_MODEL_61937081268a40b9bc1285845b8722bd"
      }
     },
     "b6acb69f8e4b44ad8176b395e623f52b": {
      "model_module": "@jupyter-widgets/base",
      "model_module_version": "1.2.0",
      "model_name": "LayoutModel",
      "state": {}
     },
     "b7cd9d1142784a938d63bf12cc5d4fdd": {
      "model_module": "@jupyter-widgets/base",
      "model_module_version": "1.2.0",
      "model_name": "LayoutModel",
      "state": {}
     },
     "b8979ce9f0a44ceaac977301f9914da1": {
      "model_module": "@jupyter-widgets/base",
      "model_module_version": "1.2.0",
      "model_name": "LayoutModel",
      "state": {}
     },
     "b9415db81bae46f4af286d406150a9b5": {
      "model_module": "@jupyter-widgets/controls",
      "model_module_version": "1.5.0",
      "model_name": "ButtonStyleModel",
      "state": {}
     },
     "baa20a050d04434d9d10dc8e5aed67ed": {
      "model_module": "@jupyter-widgets/controls",
      "model_module_version": "1.5.0",
      "model_name": "ButtonModel",
      "state": {
       "icon": "arrow-right",
       "layout": "IPY_MODEL_3e7b157463bb4edfa9b19782e2e8ad9b",
       "style": "IPY_MODEL_b9415db81bae46f4af286d406150a9b5"
      }
     },
     "babf489324194371932f190e3f63592c": {
      "model_module": "@jupyter-widgets/base",
      "model_module_version": "1.2.0",
      "model_name": "LayoutModel",
      "state": {}
     },
     "bae103498a044fd58f94faf21c3e5bd1": {
      "model_module": "@jupyter-widgets/base",
      "model_module_version": "1.2.0",
      "model_name": "LayoutModel",
      "state": {}
     },
     "bb75cc9b4d7b4f1092590bf57c68ec91": {
      "model_module": "@jupyter-widgets/controls",
      "model_module_version": "1.5.0",
      "model_name": "DescriptionStyleModel",
      "state": {
       "description_width": ""
      }
     },
     "bb78b0d4b9344bf6bf34fdd32388dd3a": {
      "model_module": "@jupyter-widgets/controls",
      "model_module_version": "1.5.0",
      "model_name": "HBoxModel",
      "state": {
       "children": [
        "IPY_MODEL_c764ffabd2ed427fa76e107ec60b53e1",
        "IPY_MODEL_a216faf433d642959251654e96543f51"
       ],
       "layout": "IPY_MODEL_b190982ed2d44be3ae9e6d4a0274835f"
      }
     },
     "bba17d1eb5394a90a6a227c171e29197": {
      "model_module": "@jupyter-widgets/controls",
      "model_module_version": "1.5.0",
      "model_name": "HBoxModel",
      "state": {
       "children": [
        "IPY_MODEL_d2c1fe315732491c805fa4e5b0e91c50",
        "IPY_MODEL_8773f7ee5a0f484c80e7f89e34c224e0"
       ],
       "layout": "IPY_MODEL_2ec89b94fbb74bdba8886092e0af5adc"
      }
     },
     "bba51e5d72b644aea2732677424e1576": {
      "model_module": "@jupyter-widgets/base",
      "model_module_version": "1.2.0",
      "model_name": "LayoutModel",
      "state": {
       "visibility": "hidden"
      }
     },
     "bbdecec0b97846a0bbce00fb6c879d1e": {
      "model_module": "@jupyter-widgets/controls",
      "model_module_version": "1.5.0",
      "model_name": "DescriptionStyleModel",
      "state": {
       "description_width": ""
      }
     },
     "bc044c3e9113487ba23751053a5d11be": {
      "model_module": "@jupyter-widgets/base",
      "model_module_version": "1.2.0",
      "model_name": "LayoutModel",
      "state": {}
     },
     "bc25af4fc39b4be08fdabf190b4a84cc": {
      "model_module": "@jupyter-widgets/base",
      "model_module_version": "1.2.0",
      "model_name": "LayoutModel",
      "state": {}
     },
     "bc844efb134a4d2894e875f53b0f7c46": {
      "model_module": "@jupyter-widgets/base",
      "model_module_version": "1.2.0",
      "model_name": "LayoutModel",
      "state": {}
     },
     "bd7be1ecff6e4e41a1c4df2848c748ca": {
      "model_module": "@jupyter-widgets/base",
      "model_module_version": "1.2.0",
      "model_name": "LayoutModel",
      "state": {}
     },
     "bd8e997703eb42018688a1151c9d1727": {
      "model_module": "@jupyter-widgets/base",
      "model_module_version": "1.2.0",
      "model_name": "LayoutModel",
      "state": {
       "width": "auto"
      }
     },
     "bd9ca8d40f024cfb867f83ea45c169b4": {
      "model_module": "@jupyter-widgets/controls",
      "model_module_version": "1.5.0",
      "model_name": "SliderStyleModel",
      "state": {
       "description_width": ""
      }
     },
     "be7c71bbdce0487c84d231fe3735571f": {
      "model_module": "@jupyter-widgets/base",
      "model_module_version": "1.2.0",
      "model_name": "LayoutModel",
      "state": {}
     },
     "bf47ba0c792645d2a174f59018a14ddd": {
      "model_module": "@jupyter-widgets/controls",
      "model_module_version": "1.5.0",
      "model_name": "ButtonModel",
      "state": {
       "icon": "arrow-right",
       "layout": "IPY_MODEL_d66a195f502b421680b0a18ad9042801",
       "style": "IPY_MODEL_3ff6d45b5be643618d4537ab51160e1a"
      }
     },
     "bf88f2be5e5a41bb9aa0c4db488ded5f": {
      "model_module": "@jupyter-widgets/base",
      "model_module_version": "1.2.0",
      "model_name": "LayoutModel",
      "state": {}
     },
     "c109b345d83d4b98ac292224bdcf8113": {
      "model_module": "@jupyter-widgets/controls",
      "model_module_version": "1.5.0",
      "model_name": "ButtonStyleModel",
      "state": {}
     },
     "c165f8f7b1f5415083702561d09bb71c": {
      "model_module": "@jupyter-widgets/controls",
      "model_module_version": "1.5.0",
      "model_name": "VBoxModel",
      "state": {
       "children": [
        "IPY_MODEL_c32c2de30b8c47de8692326ee789a2ff",
        "IPY_MODEL_1fa280e57e2944d9a3fbe2d659954bf0",
        "IPY_MODEL_b5bc1c267e3d460c8268201ed2b5c6aa"
       ],
       "layout": "IPY_MODEL_4d5c784449514b92b3f300518b919514"
      }
     },
     "c17d8eaf35554213bbe05136aaecd7cc": {
      "model_module": "@jupyter-widgets/base",
      "model_module_version": "1.2.0",
      "model_name": "LayoutModel",
      "state": {}
     },
     "c19cb6a9498045568bc2269488d72d6a": {
      "model_module": "@jupyter-widgets/controls",
      "model_module_version": "1.5.0",
      "model_name": "IntRangeSliderModel",
      "state": {
       "_model_name": "IntRangeSliderModel",
       "_view_name": "IntRangeSliderView",
       "description": "Time Interval",
       "layout": "IPY_MODEL_831e452e80654e5c9bfad15c40c3cc9e",
       "max": 50000,
       "style": "IPY_MODEL_f938e682fada44858fc05295d2a05346",
       "value": [
        0,
        9955
       ]
      }
     },
     "c2f6f58f87794c59bfd1a64797656f45": {
      "model_module": "@jupyter-widgets/controls",
      "model_module_version": "1.5.0",
      "model_name": "DescriptionStyleModel",
      "state": {
       "description_width": ""
      }
     },
     "c32c2de30b8c47de8692326ee789a2ff": {
      "model_module": "@jupyter-widgets/controls",
      "model_module_version": "1.5.0",
      "model_name": "IntRangeSliderModel",
      "state": {
       "_model_name": "IntRangeSliderModel",
       "_view_name": "IntRangeSliderView",
       "description": "Time Interval",
       "layout": "IPY_MODEL_b492a6b1bd614e4eb08d159cf0e04812",
       "max": 50000,
       "style": "IPY_MODEL_119f16779fa6459c87e86c0025e5a9f9",
       "value": [
        0,
        200
       ]
      }
     },
     "c35ecb2efb4f46bcba670bc9aec7869e": {
      "model_module": "@jupyter-widgets/controls",
      "model_module_version": "1.5.0",
      "model_name": "HBoxModel",
      "state": {
       "children": [
        "IPY_MODEL_dc5c9db623d641ce91d630c0c215752c",
        "IPY_MODEL_b5bc1c267e3d460c8268201ed2b5c6aa",
        "IPY_MODEL_a42c3ac2df2c43938f9a0c2661154f32"
       ],
       "layout": "IPY_MODEL_4f3ec80dfc1b43998b9f2a97e39eb0eb"
      }
     },
     "c3c7e0c71ebf42ed9291c7b975c02a4a": {
      "model_module": "@jupyter-widgets/controls",
      "model_module_version": "1.5.0",
      "model_name": "DescriptionStyleModel",
      "state": {
       "description_width": ""
      }
     },
     "c412389b98ec48ed8d623b68778b7976": {
      "model_module": "@jupyter-widgets/controls",
      "model_module_version": "1.5.0",
      "model_name": "SliderStyleModel",
      "state": {
       "description_width": ""
      }
     },
     "c589ec763ee04557b4efa762210f9889": {
      "model_module": "@jupyter-widgets/controls",
      "model_module_version": "1.5.0",
      "model_name": "VBoxModel",
      "state": {
       "children": [
        "IPY_MODEL_37496fb57f804cb8a2ae53e794c54801",
        "IPY_MODEL_ad784a7c52a1458bb28cd08746f7a1ec",
        "IPY_MODEL_742b34aa7ed249bb8e3cbe5aa109d57a"
       ],
       "layout": "IPY_MODEL_b7cd9d1142784a938d63bf12cc5d4fdd"
      }
     },
     "c5cb3d172c564daa878f057ada309480": {
      "model_module": "@jupyter-widgets/controls",
      "model_module_version": "1.5.0",
      "model_name": "ButtonModel",
      "state": {
       "icon": "arrow-left",
       "layout": "IPY_MODEL_3247495e0e5941418da30ee2691f3d34",
       "style": "IPY_MODEL_dea022b032694b6894e7b16b926affc9"
      }
     },
     "c5e7dc01e8714aea98c549286e7cce86": {
      "model_module": "@jupyter-widgets/controls",
      "model_module_version": "1.5.0",
      "model_name": "ButtonStyleModel",
      "state": {}
     },
     "c641638fd81e49dc9f5d5a0e1455b4d1": {
      "model_module": "@jupyter-widgets/controls",
      "model_module_version": "1.5.0",
      "model_name": "VBoxModel",
      "state": {
       "children": [
        "IPY_MODEL_92e519523164440d9b61a4d7f4846690",
        "IPY_MODEL_485bd8a3e0104dcc99d4a02bd9a2660a",
        "IPY_MODEL_cda13cf139e846d29e14231ee80ecf74"
       ],
       "layout": "IPY_MODEL_4ef4dc117fa4426496f9522522724ea7"
      }
     },
     "c6c865f0dc064948b34ee6cd0bd37bb7": {
      "model_module": "@jupyter-widgets/controls",
      "model_module_version": "1.5.0",
      "model_name": "HBoxModel",
      "state": {
       "children": [
        "IPY_MODEL_43c2742d5d1246fb8cc2f4d8e969b8bd",
        "IPY_MODEL_aaf8e06e56e14d4680cd87ecf17ba8f4"
       ],
       "layout": "IPY_MODEL_69cd25934bea473c869ef921a9ee79e0"
      }
     },
     "c764ffabd2ed427fa76e107ec60b53e1": {
      "model_module": "@jupyter-widgets/controls",
      "model_module_version": "1.5.0",
      "model_name": "ButtonModel",
      "state": {
       "description": "Get Data",
       "layout": "IPY_MODEL_fa4af784e2bf427b984c7c1401f9a595",
       "style": "IPY_MODEL_9afbe27f195f45a3b82f647ecc0abeb6"
      }
     },
     "c7c5d51509444015bc022b812dd641c2": {
      "model_module": "@jupyter-widgets/controls",
      "model_module_version": "1.5.0",
      "model_name": "SliderStyleModel",
      "state": {
       "description_width": ""
      }
     },
     "c800ef41252142b69d4602947454985f": {
      "model_module": "@jupyter-widgets/controls",
      "model_module_version": "1.5.0",
      "model_name": "VBoxModel",
      "state": {
       "children": [
        "IPY_MODEL_a6642d92b54b4dcf9c12f9ade17aeb62",
        "IPY_MODEL_d7eb0398dee44cb78b6d743c72c93ffc",
        "IPY_MODEL_6779124b3e9f42e290fea344db948330"
       ],
       "layout": "IPY_MODEL_40adcab8b6914416be9858769d66943b"
      }
     },
     "c83117ce50234529bf9fb2965c19020f": {
      "model_module": "@jupyter-widgets/controls",
      "model_module_version": "1.5.0",
      "model_name": "BoundedIntTextModel",
      "state": {
       "description": "Experiment:",
       "layout": "IPY_MODEL_69f10b7f3bdf4805875841c5edd43962",
       "style": "IPY_MODEL_a0df4e6a456a433fb95f9a66522b3a11"
      }
     },
     "c888019ce1394a72802bba7efdf2c89a": {
      "model_module": "@jupyter-widgets/controls",
      "model_module_version": "1.5.0",
      "model_name": "SliderStyleModel",
      "state": {
       "description_width": ""
      }
     },
     "c939365b9b3c4ac29b260ef24d11dddf": {
      "model_module": "@jupyter-widgets/controls",
      "model_module_version": "1.5.0",
      "model_name": "DescriptionStyleModel",
      "state": {
       "description_width": ""
      }
     },
     "c97698de2741430bb4962c856bdf1d5d": {
      "model_module": "@jupyter-widgets/base",
      "model_module_version": "1.2.0",
      "model_name": "LayoutModel",
      "state": {}
     },
     "ca2482039e704cc9ba827182f8f3821f": {
      "model_module": "@jupyter-widgets/controls",
      "model_module_version": "1.5.0",
      "model_name": "ButtonStyleModel",
      "state": {}
     },
     "cae480951be54502bc879f8969cbb1ad": {
      "model_module": "@jupyter-widgets/controls",
      "model_module_version": "1.5.0",
      "model_name": "IntRangeSliderModel",
      "state": {
       "_model_name": "IntRangeSliderModel",
       "_view_name": "IntRangeSliderView",
       "layout": "IPY_MODEL_6f512a8c29fd4dac85a0d570ee64f9db",
       "style": "IPY_MODEL_010869210e7142ae8e016b83880d418d",
       "value": [
        25,
        75
       ]
      }
     },
     "cb391245a71640e39678e6bb5c7d9d2a": {
      "model_module": "@jupyter-widgets/controls",
      "model_module_version": "1.5.0",
      "model_name": "SliderStyleModel",
      "state": {
       "description_width": ""
      }
     },
     "cb531ad0a0b041488eccf7e275a70b5a": {
      "model_module": "@jupyter-widgets/controls",
      "model_module_version": "1.5.0",
      "model_name": "SliderStyleModel",
      "state": {
       "description_width": ""
      }
     },
     "cb6a3f082c6a48ff80c4a75804d9c468": {
      "model_module": "@jupyter-widgets/controls",
      "model_module_version": "1.5.0",
      "model_name": "IntRangeSliderModel",
      "state": {
       "_model_name": "IntRangeSliderModel",
       "_view_name": "IntRangeSliderView",
       "layout": "IPY_MODEL_6c7d1df5d5614de6b2f8193157dfdde9",
       "style": "IPY_MODEL_cb391245a71640e39678e6bb5c7d9d2a",
       "value": [
        25,
        75
       ]
      }
     },
     "cb8ac5a790c14a2fb023149777929049": {
      "model_module": "@jupyter-widgets/base",
      "model_module_version": "1.2.0",
      "model_name": "LayoutModel",
      "state": {}
     },
     "cc5d33ea05db425ab6b7a55710016ce1": {
      "model_module": "@jupyter-widgets/base",
      "model_module_version": "1.2.0",
      "model_name": "LayoutModel",
      "state": {}
     },
     "cc90a7ca4a234ffb8846b255f65026cd": {
      "model_module": "@jupyter-widgets/controls",
      "model_module_version": "1.5.0",
      "model_name": "DescriptionStyleModel",
      "state": {
       "description_width": ""
      }
     },
     "cda13cf139e846d29e14231ee80ecf74": {
      "model_module": "@jupyter-widgets/controls",
      "model_module_version": "1.5.0",
      "model_name": "HBoxModel",
      "state": {
       "children": [
        "IPY_MODEL_e02e4ff0e5bb424bb7e627f1d3a97812",
        "IPY_MODEL_2ec150df3ef94b06ad0ac165eda827f8"
       ],
       "layout": "IPY_MODEL_faa6489e79f140f99757ea27b3895ea4"
      }
     },
     "cda43f3707c74e4485d334c47e5a2107": {
      "model_module": "@jupyter-widgets/base",
      "model_module_version": "1.2.0",
      "model_name": "LayoutModel",
      "state": {}
     },
     "cdfbdada579549029ab3eb0c575fcfde": {
      "model_module": "@jupyter-widgets/controls",
      "model_module_version": "1.5.0",
      "model_name": "BoundedIntTextModel",
      "state": {
       "description": "Experiment:",
       "layout": "IPY_MODEL_5f830b62c2704a2ba8d5b5cc02cc2574",
       "style": "IPY_MODEL_648745f3d6b8406ba23dfb095472af64"
      }
     },
     "ce111e40222a4d409f2a9889cafd2d66": {
      "model_module": "@jupyter-widgets/controls",
      "model_module_version": "1.5.0",
      "model_name": "SelectMultipleModel",
      "state": {
       "_options_labels": [
        "Apples",
        "Oranges",
        "Pears"
       ],
       "description": "Fruits",
       "index": [
        1
       ],
       "layout": "IPY_MODEL_e649905a06da42a3953f638c359b1207",
       "rows": 5,
       "style": "IPY_MODEL_b2a8c742b3f54f8d88829ef8842264a1"
      }
     },
     "ce6ab2d1a636475a9cc06a1ce8075f0b": {
      "model_module": "@jupyter-widgets/controls",
      "model_module_version": "1.5.0",
      "model_name": "DescriptionStyleModel",
      "state": {
       "description_width": ""
      }
     },
     "ce9dd5c9dbc144089ed635407a1c5f4b": {
      "model_module": "@jupyter-widgets/controls",
      "model_module_version": "1.5.0",
      "model_name": "ValidModel",
      "state": {
       "layout": "IPY_MODEL_e2568966eec84269be96dd3cf10b69a7",
       "style": "IPY_MODEL_f01ff16e246a4d4a96c88e43094355a0",
       "value": true
      }
     },
     "ced05a040ac6460aa0bde4bc86386688": {
      "model_module": "@jupyter-widgets/base",
      "model_module_version": "1.2.0",
      "model_name": "LayoutModel",
      "state": {}
     },
     "cfa06f3598024ddab48c2934b9c86f91": {
      "model_module": "@jupyter-widgets/controls",
      "model_module_version": "1.5.0",
      "model_name": "DescriptionStyleModel",
      "state": {
       "description_width": ""
      }
     },
     "d0ffbc5a899644ab843b2ee20b76103c": {
      "model_module": "@jupyter-widgets/controls",
      "model_module_version": "1.5.0",
      "model_name": "VBoxModel",
      "state": {
       "children": [
        "IPY_MODEL_50703d60dda64bf5bd4da3a54ac7a835",
        "IPY_MODEL_5dc9cfe5002c4facb0482ad3223f38b0",
        "IPY_MODEL_37d61f9d6c1e46cfa1ff5dce34e26efe"
       ],
       "layout": "IPY_MODEL_3a624f8eebcb43ff886d679d351c851c"
      }
     },
     "d26f2eb858d34d2988ea6e590e346890": {
      "model_module": "@jupyter-widgets/controls",
      "model_module_version": "1.5.0",
      "model_name": "DescriptionStyleModel",
      "state": {
       "description_width": ""
      }
     },
     "d296a5602d6f4b38a76c36c3aea0d081": {
      "model_module": "@jupyter-widgets/controls",
      "model_module_version": "1.5.0",
      "model_name": "DescriptionStyleModel",
      "state": {
       "description_width": ""
      }
     },
     "d2c1fe315732491c805fa4e5b0e91c50": {
      "model_module": "@jupyter-widgets/controls",
      "model_module_version": "1.5.0",
      "model_name": "ButtonModel",
      "state": {
       "description": "Get Data",
       "layout": "IPY_MODEL_2fc7a48ce2784bf790089315db236e9d",
       "style": "IPY_MODEL_9bf3f2e8b7a44b5a82eeb8b10e566c40"
      }
     },
     "d3c71b0dafad48e7ab4d0fc104e9bbb3": {
      "model_module": "@jupyter-widgets/controls",
      "model_module_version": "1.5.0",
      "model_name": "SelectMultipleModel",
      "state": {
       "_options_labels": [
        "Apples",
        "Oranges",
        "Pears"
       ],
       "description": "Fruits",
       "index": [
        1
       ],
       "layout": "IPY_MODEL_a4995c148d094598ae25b0c0263f84ea",
       "rows": 5,
       "style": "IPY_MODEL_b1f8ec56d6aa4adab6e0d35b513befe1"
      }
     },
     "d48ab6744df04cb2a690afcbee36bf9f": {
      "model_module": "@jupyter-widgets/controls",
      "model_module_version": "1.5.0",
      "model_name": "DescriptionStyleModel",
      "state": {
       "description_width": ""
      }
     },
     "d5d5df88497542379823bd6a43970048": {
      "model_module": "@jupyter-widgets/base",
      "model_module_version": "1.2.0",
      "model_name": "LayoutModel",
      "state": {}
     },
     "d64c32b8ef6c49b09309dfbbf97044b8": {
      "model_module": "@jupyter-widgets/controls",
      "model_module_version": "1.5.0",
      "model_name": "ButtonStyleModel",
      "state": {}
     },
     "d66a195f502b421680b0a18ad9042801": {
      "model_module": "@jupyter-widgets/base",
      "model_module_version": "1.2.0",
      "model_name": "LayoutModel",
      "state": {
       "width": "auto"
      }
     },
     "d69d2d58cc824028b0b1a301836087d8": {
      "model_module": "@jupyter-widgets/controls",
      "model_module_version": "1.5.0",
      "model_name": "HBoxModel",
      "state": {
       "children": [
        "IPY_MODEL_0aaf9cf98cf04962854acec0adbce4cc",
        "IPY_MODEL_587797f5c1f7493cbd96853f86268cf2",
        "IPY_MODEL_2838843ba2f84db2a1ed021b1af34fde"
       ],
       "layout": "IPY_MODEL_9475d7f738b047a6bce79bb72c7c5407"
      }
     },
     "d780b304c6934112b64daffc0f9b2f1e": {
      "model_module": "@jupyter-widgets/base",
      "model_module_version": "1.2.0",
      "model_name": "LayoutModel",
      "state": {}
     },
     "d7eb0398dee44cb78b6d743c72c93ffc": {
      "model_module": "@jupyter-widgets/controls",
      "model_module_version": "1.5.0",
      "model_name": "BoundedIntTextModel",
      "state": {
       "description": "Experiment:",
       "layout": "IPY_MODEL_7646e6a2f22846c9a40a4c1533197294",
       "style": "IPY_MODEL_e0ecaa76f42941388590069f6f6bbd0f",
       "value": 1
      }
     },
     "d8f5d5d276df46f6bf73c5dd189bdb78": {
      "model_module": "@jupyter-widgets/controls",
      "model_module_version": "1.5.0",
      "model_name": "SelectMultipleModel",
      "state": {
       "_options_labels": [
        "1",
        "2",
        "3",
        "4",
        "5",
        "6",
        "7",
        "8",
        "9",
        "10",
        "11",
        "12",
        "13",
        "14",
        "15",
        "16",
        "17",
        "18",
        "19",
        "20",
        "21",
        "22",
        "23",
        "24",
        "25",
        "26",
        "27",
        "28",
        "29",
        "30",
        "31",
        "32"
       ],
       "description": "Channels",
       "index": [
        1,
        2,
        3
       ],
       "layout": "IPY_MODEL_59957808a3c740dd8dbda6ae59811b9a",
       "rows": 5,
       "style": "IPY_MODEL_23f1e5ebb5594ea2916fb8d31865b529"
      }
     },
     "d957c0b7c3ac42cc9570299e11c76701": {
      "model_module": "@jupyter-widgets/base",
      "model_module_version": "1.2.0",
      "model_name": "LayoutModel",
      "state": {
       "width": "auto"
      }
     },
     "dae6ca74c78147168c6e032a7dfc04d0": {
      "model_module": "@jupyter-widgets/controls",
      "model_module_version": "1.5.0",
      "model_name": "IntRangeSliderModel",
      "state": {
       "_model_name": "IntRangeSliderModel",
       "_view_name": "IntRangeSliderView",
       "layout": "IPY_MODEL_30c298ff96144bc79ff59c4a2cb7cc57",
       "style": "IPY_MODEL_893185adb9ef4f3bba9e4df8ae8c78dc",
       "value": [
        25,
        75
       ]
      }
     },
     "db2a7ddabc6649c19552421819e4a1ff": {
      "model_module": "@jupyter-widgets/controls",
      "model_module_version": "1.5.0",
      "model_name": "VBoxModel",
      "state": {
       "children": [
        "IPY_MODEL_94d2a51fac114865b5c86e97c6957289",
        "IPY_MODEL_5cd9bb1f21344469a5c257de2eff87d2",
        "IPY_MODEL_a02a1d207aaa4f159edd32e39b222dfc"
       ],
       "layout": "IPY_MODEL_3483550b09e148a7b4fb4b96d49ded10"
      }
     },
     "dc5c9db623d641ce91d630c0c215752c": {
      "model_module": "@jupyter-widgets/controls",
      "model_module_version": "1.5.0",
      "model_name": "ButtonModel",
      "state": {
       "icon": "arrow-left",
       "layout": "IPY_MODEL_22a30354cbea408d90503a74da968ba2",
       "style": "IPY_MODEL_8bcb1f7eb63e4897a7ccb2afbe31a632"
      }
     },
     "dc7205e0c7d246d2ae9e9fbd0faa6e38": {
      "model_module": "@jupyter-widgets/controls",
      "model_module_version": "1.5.0",
      "model_name": "BoundedIntTextModel",
      "state": {
       "description": "Experiment:",
       "layout": "IPY_MODEL_011c34855adc48a18d61adc790e947a0",
       "style": "IPY_MODEL_2c69758daff949bc91f853e1651fe41f"
      }
     },
     "dd6f780f31924dd99613d3071a235b89": {
      "model_module": "@jupyter-widgets/controls",
      "model_module_version": "1.5.0",
      "model_name": "VBoxModel",
      "state": {
       "children": [
        "IPY_MODEL_6082df1429994e618ec2513e31a970be",
        "IPY_MODEL_6795c050768343da9e549c2f025bf9b0",
        "IPY_MODEL_874278fbebe546d4b2bf683e992638cc"
       ],
       "layout": "IPY_MODEL_b3402e183e3c4b9ba9d32b0e2c88976e"
      }
     },
     "ddb8e2fcee894189a9cf64a21a27e55c": {
      "model_module": "@jupyter-widgets/controls",
      "model_module_version": "1.5.0",
      "model_name": "ButtonModel",
      "state": {
       "icon": "arrow-right",
       "layout": "IPY_MODEL_3c4156d253c74ff9bd3730d65d895bae",
       "style": "IPY_MODEL_2475345168c14c1ebf926c1491cd5500"
      }
     },
     "dde22f0721614de68f5d16d62bd04f5c": {
      "model_module": "@jupyter-widgets/controls",
      "model_module_version": "1.5.0",
      "model_name": "DescriptionStyleModel",
      "state": {
       "description_width": ""
      }
     },
     "dea022b032694b6894e7b16b926affc9": {
      "model_module": "@jupyter-widgets/controls",
      "model_module_version": "1.5.0",
      "model_name": "ButtonStyleModel",
      "state": {}
     },
     "dfc448b4e6e64b76921ec73b4707bef9": {
      "model_module": "@jupyter-widgets/controls",
      "model_module_version": "1.5.0",
      "model_name": "SliderStyleModel",
      "state": {
       "description_width": ""
      }
     },
     "dfcf14f8c6b44d33bbefb0784478fa7a": {
      "model_module": "@jupyter-widgets/controls",
      "model_module_version": "1.5.0",
      "model_name": "DescriptionStyleModel",
      "state": {
       "description_width": ""
      }
     },
     "dfe31b85462f4b28a26cb73efe701151": {
      "model_module": "@jupyter-widgets/controls",
      "model_module_version": "1.5.0",
      "model_name": "TextModel",
      "state": {
       "description": "File name",
       "layout": "IPY_MODEL_0ed214f0ed5a4496bee520fe5436d63b",
       "style": "IPY_MODEL_60ece2ac8b8b455c913838c308a4bfb7"
      }
     },
     "e01e7f84f46f4a02befafe5a3a367903": {
      "model_module": "@jupyter-widgets/base",
      "model_module_version": "1.2.0",
      "model_name": "LayoutModel",
      "state": {
       "width": "auto"
      }
     },
     "e02e4ff0e5bb424bb7e627f1d3a97812": {
      "model_module": "@jupyter-widgets/controls",
      "model_module_version": "1.5.0",
      "model_name": "ButtonModel",
      "state": {
       "description": "Get Data",
       "layout": "IPY_MODEL_47ee13b1c9ca4234b297d1f374ee3238",
       "style": "IPY_MODEL_ca2482039e704cc9ba827182f8f3821f"
      }
     },
     "e0ecaa76f42941388590069f6f6bbd0f": {
      "model_module": "@jupyter-widgets/controls",
      "model_module_version": "1.5.0",
      "model_name": "DescriptionStyleModel",
      "state": {
       "description_width": ""
      }
     },
     "e112777f1094466a977b2d14a8d8c58d": {
      "model_module": "@jupyter-widgets/controls",
      "model_module_version": "1.5.0",
      "model_name": "ButtonStyleModel",
      "state": {}
     },
     "e19fa7268c5f46c782ccdb4722514656": {
      "model_module": "@jupyter-widgets/controls",
      "model_module_version": "1.5.0",
      "model_name": "DescriptionStyleModel",
      "state": {
       "description_width": ""
      }
     },
     "e2568966eec84269be96dd3cf10b69a7": {
      "model_module": "@jupyter-widgets/base",
      "model_module_version": "1.2.0",
      "model_name": "LayoutModel",
      "state": {
       "visibility": "hidden"
      }
     },
     "e39d1173812a4d26855a3dedc0b37be9": {
      "model_module": "@jupyter-widgets/base",
      "model_module_version": "1.2.0",
      "model_name": "LayoutModel",
      "state": {}
     },
     "e4f2fd543ff440f8bf8250b9ab2cae70": {
      "model_module": "@jupyter-widgets/base",
      "model_module_version": "1.2.0",
      "model_name": "LayoutModel",
      "state": {
       "visibility": "hidden"
      }
     },
     "e555532876ee45f49aeba14cd331d043": {
      "model_module": "@jupyter-widgets/controls",
      "model_module_version": "1.5.0",
      "model_name": "DescriptionStyleModel",
      "state": {
       "description_width": ""
      }
     },
     "e5cd23d557e7426b8838d7c6f859a532": {
      "model_module": "@jupyter-widgets/base",
      "model_module_version": "1.2.0",
      "model_name": "LayoutModel",
      "state": {}
     },
     "e649905a06da42a3953f638c359b1207": {
      "model_module": "@jupyter-widgets/base",
      "model_module_version": "1.2.0",
      "model_name": "LayoutModel",
      "state": {}
     },
     "e67680b261454b5198e6a67c76760150": {
      "model_module": "@jupyter-widgets/controls",
      "model_module_version": "1.5.0",
      "model_name": "SelectMultipleModel",
      "state": {
       "_options_labels": [
        "Apples",
        "Oranges",
        "Pears"
       ],
       "description": "Fruits",
       "index": [
        1
       ],
       "layout": "IPY_MODEL_49b97ec4ad1942bdb77278734a541d91",
       "rows": 5,
       "style": "IPY_MODEL_6b6e8d8fd30b4d08aa21c314ee802cbb"
      }
     },
     "e7200cce6552494abb86f97ee4aeefcd": {
      "model_module": "@jupyter-widgets/controls",
      "model_module_version": "1.5.0",
      "model_name": "VBoxModel",
      "state": {
       "children": [
        "IPY_MODEL_37aa32daac6f402d8362fbdeb2897f92",
        "IPY_MODEL_4255be6e1d014161b7f18e0b2ee43455",
        "IPY_MODEL_bb78b0d4b9344bf6bf34fdd32388dd3a"
       ],
       "layout": "IPY_MODEL_532d1d30cce64259938d8a1628443ca6"
      }
     },
     "e7bdfa28178648e1b7f670a018cf4bf6": {
      "model_module": "@jupyter-widgets/controls",
      "model_module_version": "1.5.0",
      "model_name": "ButtonModel",
      "state": {
       "icon": "arrow-left",
       "layout": "IPY_MODEL_e01e7f84f46f4a02befafe5a3a367903",
       "style": "IPY_MODEL_14aad3f25dab455abbbc677da3222ff3"
      }
     },
     "e7eb2014dc2c4c39b679b5872e417c15": {
      "model_module": "@jupyter-widgets/base",
      "model_module_version": "1.2.0",
      "model_name": "LayoutModel",
      "state": {
       "width": "auto"
      }
     },
     "ea74d972c7b24030abb3c284e320583a": {
      "model_module": "@jupyter-widgets/controls",
      "model_module_version": "1.5.0",
      "model_name": "ButtonStyleModel",
      "state": {}
     },
     "ea87c8904bdc4a489001952dd4b823f8": {
      "model_module": "@jupyter-widgets/base",
      "model_module_version": "1.2.0",
      "model_name": "LayoutModel",
      "state": {}
     },
     "ed59d81d2aaa4fb899d21c80e831abf3": {
      "model_module": "@jupyter-widgets/base",
      "model_module_version": "1.2.0",
      "model_name": "LayoutModel",
      "state": {}
     },
     "ee5c6af7d05742e385a548b29bed02f1": {
      "model_module": "@jupyter-widgets/base",
      "model_module_version": "1.2.0",
      "model_name": "LayoutModel",
      "state": {}
     },
     "ef04cc3a44a644a09f17f4bb3045bc10": {
      "model_module": "@jupyter-widgets/controls",
      "model_module_version": "1.5.0",
      "model_name": "DescriptionStyleModel",
      "state": {
       "description_width": ""
      }
     },
     "ef07af1a3f8e4e959efd222799686f77": {
      "model_module": "@jupyter-widgets/controls",
      "model_module_version": "1.5.0",
      "model_name": "IntRangeSliderModel",
      "state": {
       "_model_name": "IntRangeSliderModel",
       "_view_name": "IntRangeSliderView",
       "layout": "IPY_MODEL_95921c2c4c85486d8cf05aceb0711a14",
       "style": "IPY_MODEL_216219db81704d279a6dae52e69540db",
       "value": [
        25,
        75
       ]
      }
     },
     "ef61d85bdbee4957957365566f257df1": {
      "model_module": "@jupyter-widgets/controls",
      "model_module_version": "1.5.0",
      "model_name": "DescriptionStyleModel",
      "state": {
       "description_width": ""
      }
     },
     "f01ff16e246a4d4a96c88e43094355a0": {
      "model_module": "@jupyter-widgets/controls",
      "model_module_version": "1.5.0",
      "model_name": "DescriptionStyleModel",
      "state": {
       "description_width": ""
      }
     },
     "f0cd368804a94673a4da19c1bdcffd8f": {
      "model_module": "@jupyter-widgets/base",
      "model_module_version": "1.2.0",
      "model_name": "LayoutModel",
      "state": {}
     },
     "f18ad83ce9dc43caafd5c2aafbfb4c9e": {
      "model_module": "@jupyter-widgets/controls",
      "model_module_version": "1.5.0",
      "model_name": "IntRangeSliderModel",
      "state": {
       "_model_name": "IntRangeSliderModel",
       "_view_name": "IntRangeSliderView",
       "layout": "IPY_MODEL_60f7d740094b4d44a3bcb802df9d354c",
       "style": "IPY_MODEL_941d2371050445e8b0a3c030f0e950d5",
       "value": [
        25,
        75
       ]
      }
     },
     "f2397429b3f0441a8e8b301da0d13afb": {
      "model_module": "@jupyter-widgets/controls",
      "model_module_version": "1.5.0",
      "model_name": "ButtonStyleModel",
      "state": {}
     },
     "f307db49a7be4347a7f0bef79cfe8ea6": {
      "model_module": "@jupyter-widgets/controls",
      "model_module_version": "1.5.0",
      "model_name": "IntRangeSliderModel",
      "state": {
       "_model_name": "IntRangeSliderModel",
       "_view_name": "IntRangeSliderView",
       "layout": "IPY_MODEL_00046258dcb24fe89af1b4228f7ad1f6",
       "style": "IPY_MODEL_dfc448b4e6e64b76921ec73b4707bef9",
       "value": [
        25,
        75
       ]
      }
     },
     "f32421023b6241e2b41452442e927dc6": {
      "model_module": "@jupyter-widgets/controls",
      "model_module_version": "1.5.0",
      "model_name": "SelectMultipleModel",
      "state": {
       "_options_labels": [
        "1",
        "2",
        "3",
        "4",
        "5",
        "6",
        "7",
        "8",
        "9",
        "10",
        "11",
        "12",
        "13",
        "14",
        "15",
        "16",
        "17",
        "18",
        "19",
        "20",
        "21",
        "22",
        "23",
        "24",
        "25",
        "26",
        "27",
        "28",
        "29",
        "30",
        "31",
        "32"
       ],
       "description": "Channels",
       "index": [
        0
       ],
       "layout": "IPY_MODEL_aff92fae27b347fc934425452e8e2a8a",
       "rows": 5,
       "style": "IPY_MODEL_e555532876ee45f49aeba14cd331d043"
      }
     },
     "f387bc1ef8e44695a1cae1381294b96a": {
      "model_module": "@jupyter-widgets/controls",
      "model_module_version": "1.5.0",
      "model_name": "SelectMultipleModel",
      "state": {
       "_options_labels": [
        "Apples",
        "Oranges",
        "Pears"
       ],
       "description": "Fruits",
       "index": [
        1
       ],
       "layout": "IPY_MODEL_a2f386b2b7fd4a9f9c54a1de2de2767b",
       "rows": 5,
       "style": "IPY_MODEL_ef04cc3a44a644a09f17f4bb3045bc10"
      }
     },
     "f3ad2cc804e745a785c10e6c0f72f2b6": {
      "model_module": "@jupyter-widgets/controls",
      "model_module_version": "1.5.0",
      "model_name": "ButtonModel",
      "state": {
       "description": "Get Data",
       "layout": "IPY_MODEL_1e7644105b6643c4b5f93efb47b5bfa4",
       "style": "IPY_MODEL_1c24028d6bbc40ddb67f20896cc840f7"
      }
     },
     "f4eb72ad42794fdf95d4f6fc03a65a06": {
      "model_module": "@jupyter-widgets/controls",
      "model_module_version": "1.5.0",
      "model_name": "ButtonStyleModel",
      "state": {}
     },
     "f5b32a0cc7c641458db91206442ea72f": {
      "model_module": "@jupyter-widgets/controls",
      "model_module_version": "1.5.0",
      "model_name": "HBoxModel",
      "state": {
       "children": [
        "IPY_MODEL_c5cb3d172c564daa878f057ada309480",
        "IPY_MODEL_a267670a80e24ac88ce4e7bb7f1c9bcd",
        "IPY_MODEL_27ab3ece3d614373b947bfb8fbf0bade"
       ],
       "layout": "IPY_MODEL_b8979ce9f0a44ceaac977301f9914da1"
      }
     },
     "f6bdf80678cf4f70a27941fd47c2ad2a": {
      "model_module": "@jupyter-widgets/controls",
      "model_module_version": "1.5.0",
      "model_name": "SelectMultipleModel",
      "state": {
       "_options_labels": [
        "1",
        "2",
        "3",
        "4",
        "5",
        "6",
        "7",
        "8",
        "9",
        "10",
        "11",
        "12",
        "13",
        "14",
        "15",
        "16",
        "17",
        "18",
        "19",
        "20",
        "21",
        "22",
        "23",
        "24",
        "25",
        "26",
        "27",
        "28",
        "29",
        "30",
        "31",
        "32"
       ],
       "description": "Channels",
       "index": [
        0
       ],
       "layout": "IPY_MODEL_0fbc85bcbcea4f02ab9b5be036af048c",
       "rows": 5,
       "style": "IPY_MODEL_dde22f0721614de68f5d16d62bd04f5c"
      }
     },
     "f8e1f9ee8de14760b387500f4f0e4a37": {
      "model_module": "@jupyter-widgets/controls",
      "model_module_version": "1.5.0",
      "model_name": "ButtonStyleModel",
      "state": {}
     },
     "f938e682fada44858fc05295d2a05346": {
      "model_module": "@jupyter-widgets/controls",
      "model_module_version": "1.5.0",
      "model_name": "SliderStyleModel",
      "state": {
       "description_width": ""
      }
     },
     "f9e88c35b1e341dba5a42a7e398f1ead": {
      "model_module": "@jupyter-widgets/controls",
      "model_module_version": "1.5.0",
      "model_name": "SelectMultipleModel",
      "state": {
       "_options_labels": [
        "1",
        "2",
        "3",
        "4",
        "5",
        "6",
        "7",
        "8",
        "9",
        "10",
        "11",
        "12",
        "13",
        "14",
        "15",
        "16",
        "17",
        "18",
        "19",
        "20",
        "21",
        "22",
        "23",
        "24",
        "25",
        "26",
        "27",
        "28",
        "29",
        "30",
        "31",
        "32"
       ],
       "description": "Channels",
       "index": [
        1
       ],
       "layout": "IPY_MODEL_56dc317c3f5f4d1c83b60a8db12e46cc",
       "rows": 5,
       "style": "IPY_MODEL_e19fa7268c5f46c782ccdb4722514656"
      }
     },
     "fa4af784e2bf427b984c7c1401f9a595": {
      "model_module": "@jupyter-widgets/base",
      "model_module_version": "1.2.0",
      "model_name": "LayoutModel",
      "state": {}
     },
     "faa6489e79f140f99757ea27b3895ea4": {
      "model_module": "@jupyter-widgets/base",
      "model_module_version": "1.2.0",
      "model_name": "LayoutModel",
      "state": {}
     },
     "fb4f05c04b2d4fcfa1f25b88df221a82": {
      "model_module": "@jupyter-widgets/controls",
      "model_module_version": "1.5.0",
      "model_name": "ButtonModel",
      "state": {
       "description": "Plot",
       "layout": "IPY_MODEL_22b9256de0bd41a7809e88593e0a866a",
       "style": "IPY_MODEL_ea74d972c7b24030abb3c284e320583a"
      }
     },
     "fb5030c75b7e47fb9cdae9580f3778c9": {
      "model_module": "@jupyter-widgets/base",
      "model_module_version": "1.2.0",
      "model_name": "LayoutModel",
      "state": {}
     },
     "fbb4a9c85e4846f8a9dff9f14c112176": {
      "model_module": "@jupyter-widgets/base",
      "model_module_version": "1.2.0",
      "model_name": "LayoutModel",
      "state": {}
     },
     "fbfb153f05424093b674d0603f5a7638": {
      "model_module": "@jupyter-widgets/base",
      "model_module_version": "1.2.0",
      "model_name": "LayoutModel",
      "state": {}
     },
     "fc7a946ea854415299db63319de12e6a": {
      "model_module": "@jupyter-widgets/controls",
      "model_module_version": "1.5.0",
      "model_name": "DescriptionStyleModel",
      "state": {
       "description_width": ""
      }
     },
     "fd6ee407497346b895eda13e41d1d6cb": {
      "model_module": "@jupyter-widgets/base",
      "model_module_version": "1.2.0",
      "model_name": "LayoutModel",
      "state": {}
     },
     "fe0acee3da934754a25faf39181f854b": {
      "model_module": "@jupyter-widgets/base",
      "model_module_version": "1.2.0",
      "model_name": "LayoutModel",
      "state": {}
     },
     "fec60aecb4b3447d8adb32617d6f2e8a": {
      "model_module": "@jupyter-widgets/controls",
      "model_module_version": "1.5.0",
      "model_name": "IntRangeSliderModel",
      "state": {
       "_model_name": "IntRangeSliderModel",
       "_view_name": "IntRangeSliderView",
       "layout": "IPY_MODEL_6b9cc370a22b4d5cbb06c90de4dc76a3",
       "style": "IPY_MODEL_0643d1773e0f43b9ab2bc9cc931aaddd",
       "value": [
        25,
        75
       ]
      }
     },
     "ff1dd03431b84edbaed4115995dcb604": {
      "model_module": "@jupyter-widgets/controls",
      "model_module_version": "1.5.0",
      "model_name": "ButtonStyleModel",
      "state": {}
     },
     "ffb7519119194166985c03478fb250a0": {
      "model_module": "@jupyter-widgets/controls",
      "model_module_version": "1.5.0",
      "model_name": "SelectMultipleModel",
      "state": {
       "_options_labels": [
        "1",
        "2",
        "3",
        "4",
        "5",
        "6",
        "7",
        "8",
        "9",
        "10",
        "11",
        "12",
        "13",
        "14",
        "15",
        "16",
        "17",
        "18",
        "19",
        "20",
        "21",
        "22",
        "23",
        "24",
        "25",
        "26",
        "27",
        "28",
        "29",
        "30",
        "31",
        "32"
       ],
       "description": "Channels",
       "index": [
        0
       ],
       "layout": "IPY_MODEL_4bbe7e4f318d4e54957e874a7936edf2",
       "rows": 5,
       "style": "IPY_MODEL_808e8cb806774543998ffd46adf1b9af"
      }
     },
     "ffc37df7eb7a43349cf92d7832ec1bc3": {
      "model_module": "@jupyter-widgets/base",
      "model_module_version": "1.2.0",
      "model_name": "LayoutModel",
      "state": {}
     }
    },
    "version_major": 2,
    "version_minor": 0
   }
  }
 },
 "nbformat": 4,
 "nbformat_minor": 4
}
